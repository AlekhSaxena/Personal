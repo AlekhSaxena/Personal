{
 "cells": [
  {
   "cell_type": "code",
   "execution_count": 1,
   "metadata": {},
   "outputs": [
    {
     "name": "stderr",
     "output_type": "stream",
     "text": [
      "C:\\Users\\Alekh\\Anaconda3\\lib\\site-packages\\h5py\\__init__.py:36: FutureWarning: Conversion of the second argument of issubdtype from `float` to `np.floating` is deprecated. In future, it will be treated as `np.float64 == np.dtype(float).type`.\n",
      "  from ._conv import register_converters as _register_converters\n",
      "Using TensorFlow backend.\n"
     ]
    }
   ],
   "source": [
    "from keras.datasets import boston_housing\n",
    "(train_data,train_targets),(test_data,test_targets)=boston_housing.load_data()\n"
   ]
  },
  {
   "cell_type": "code",
   "execution_count": 2,
   "metadata": {},
   "outputs": [
    {
     "data": {
      "text/plain": [
       "(404, 13)"
      ]
     },
     "execution_count": 2,
     "metadata": {},
     "output_type": "execute_result"
    }
   ],
   "source": [
    "train_data.shape"
   ]
  },
  {
   "cell_type": "code",
   "execution_count": 3,
   "metadata": {},
   "outputs": [
    {
     "data": {
      "text/plain": [
       "(102, 13)"
      ]
     },
     "execution_count": 3,
     "metadata": {},
     "output_type": "execute_result"
    }
   ],
   "source": [
    "test_data.shape"
   ]
  },
  {
   "cell_type": "code",
   "execution_count": 4,
   "metadata": {},
   "outputs": [
    {
     "data": {
      "text/plain": [
       "array([15.2, 42.3, 50. , 21.1, 17.7, 18.5, 11.3, 15.6, 15.6, 14.4, 12.1,\n",
       "       17.9, 23.1, 19.9, 15.7,  8.8, 50. , 22.5, 24.1, 27.5, 10.9, 30.8,\n",
       "       32.9, 24. , 18.5, 13.3, 22.9, 34.7, 16.6, 17.5, 22.3, 16.1, 14.9,\n",
       "       23.1, 34.9, 25. , 13.9, 13.1, 20.4, 20. , 15.2, 24.7, 22.2, 16.7,\n",
       "       12.7, 15.6, 18.4, 21. , 30.1, 15.1, 18.7,  9.6, 31.5, 24.8, 19.1,\n",
       "       22. , 14.5, 11. , 32. , 29.4, 20.3, 24.4, 14.6, 19.5, 14.1, 14.3,\n",
       "       15.6, 10.5,  6.3, 19.3, 19.3, 13.4, 36.4, 17.8, 13.5, 16.5,  8.3,\n",
       "       14.3, 16. , 13.4, 28.6, 43.5, 20.2, 22. , 23. , 20.7, 12.5, 48.5,\n",
       "       14.6, 13.4, 23.7, 50. , 21.7, 39.8, 38.7, 22.2, 34.9, 22.5, 31.1,\n",
       "       28.7, 46. , 41.7, 21. , 26.6, 15. , 24.4, 13.3, 21.2, 11.7, 21.7,\n",
       "       19.4, 50. , 22.8, 19.7, 24.7, 36.2, 14.2, 18.9, 18.3, 20.6, 24.6,\n",
       "       18.2,  8.7, 44. , 10.4, 13.2, 21.2, 37. , 30.7, 22.9, 20. , 19.3,\n",
       "       31.7, 32. , 23.1, 18.8, 10.9, 50. , 19.6,  5. , 14.4, 19.8, 13.8,\n",
       "       19.6, 23.9, 24.5, 25. , 19.9, 17.2, 24.6, 13.5, 26.6, 21.4, 11.9,\n",
       "       22.6, 19.6,  8.5, 23.7, 23.1, 22.4, 20.5, 23.6, 18.4, 35.2, 23.1,\n",
       "       27.9, 20.6, 23.7, 28. , 13.6, 27.1, 23.6, 20.6, 18.2, 21.7, 17.1,\n",
       "        8.4, 25.3, 13.8, 22.2, 18.4, 20.7, 31.6, 30.5, 20.3,  8.8, 19.2,\n",
       "       19.4, 23.1, 23. , 14.8, 48.8, 22.6, 33.4, 21.1, 13.6, 32.2, 13.1,\n",
       "       23.4, 18.9, 23.9, 11.8, 23.3, 22.8, 19.6, 16.7, 13.4, 22.2, 20.4,\n",
       "       21.8, 26.4, 14.9, 24.1, 23.8, 12.3, 29.1, 21. , 19.5, 23.3, 23.8,\n",
       "       17.8, 11.5, 21.7, 19.9, 25. , 33.4, 28.5, 21.4, 24.3, 27.5, 33.1,\n",
       "       16.2, 23.3, 48.3, 22.9, 22.8, 13.1, 12.7, 22.6, 15. , 15.3, 10.5,\n",
       "       24. , 18.5, 21.7, 19.5, 33.2, 23.2,  5. , 19.1, 12.7, 22.3, 10.2,\n",
       "       13.9, 16.3, 17. , 20.1, 29.9, 17.2, 37.3, 45.4, 17.8, 23.2, 29. ,\n",
       "       22. , 18. , 17.4, 34.6, 20.1, 25. , 15.6, 24.8, 28.2, 21.2, 21.4,\n",
       "       23.8, 31. , 26.2, 17.4, 37.9, 17.5, 20. ,  8.3, 23.9,  8.4, 13.8,\n",
       "        7.2, 11.7, 17.1, 21.6, 50. , 16.1, 20.4, 20.6, 21.4, 20.6, 36.5,\n",
       "        8.5, 24.8, 10.8, 21.9, 17.3, 18.9, 36.2, 14.9, 18.2, 33.3, 21.8,\n",
       "       19.7, 31.6, 24.8, 19.4, 22.8,  7.5, 44.8, 16.8, 18.7, 50. , 50. ,\n",
       "       19.5, 20.1, 50. , 17.2, 20.8, 19.3, 41.3, 20.4, 20.5, 13.8, 16.5,\n",
       "       23.9, 20.6, 31.5, 23.3, 16.8, 14. , 33.8, 36.1, 12.8, 18.3, 18.7,\n",
       "       19.1, 29. , 30.1, 50. , 50. , 22. , 11.9, 37.6, 50. , 22.7, 20.8,\n",
       "       23.5, 27.9, 50. , 19.3, 23.9, 22.6, 15.2, 21.7, 19.2, 43.8, 20.3,\n",
       "       33.2, 19.9, 22.5, 32.7, 22. , 17.1, 19. , 15. , 16.1, 25.1, 23.7,\n",
       "       28.7, 37.2, 22.6, 16.4, 25. , 29.8, 22.1, 17.4, 18.1, 30.3, 17.5,\n",
       "       24.7, 12.6, 26.5, 28.7, 13.3, 10.4, 24.4, 23. , 20. , 17.8,  7. ,\n",
       "       11.8, 24.4, 13.8, 19.4, 25.2, 19.4, 19.4, 29.1])"
      ]
     },
     "execution_count": 4,
     "metadata": {},
     "output_type": "execute_result"
    }
   ],
   "source": [
    "train_targets"
   ]
  },
  {
   "cell_type": "markdown",
   "metadata": {},
   "source": [
    "#### Preparing Data"
   ]
  },
  {
   "cell_type": "code",
   "execution_count": 6,
   "metadata": {},
   "outputs": [],
   "source": [
    "mean=train_data.mean(axis=0)\n",
    "train_data-=mean\n",
    "\n",
    "std=train_data.std(axis=0)\n",
    "train_data/=std\n",
    "\n",
    "test_data-=mean\n",
    "test_data/=std"
   ]
  },
  {
   "cell_type": "markdown",
   "metadata": {},
   "source": [
    "#### Building network"
   ]
  },
  {
   "cell_type": "code",
   "execution_count": 9,
   "metadata": {},
   "outputs": [],
   "source": [
    "from keras import models\n",
    "from keras import layers\n",
    "\n",
    "def build_model():\n",
    "    model=models.Sequential()\n",
    "    model.add(layers.Dense(64,activation='relu',input_shape=(train_data.shape[1],)))\n",
    "    model.add(layers.Dense(64,activation='relu'))\n",
    "    model.add(layers.Dense(1))\n",
    "    \n",
    "    model.compile(optimizer='rmsprop',loss='mse',metrics=['mae'])\n",
    "    return model"
   ]
  },
  {
   "cell_type": "markdown",
   "metadata": {},
   "source": [
    "#### K fold Validation"
   ]
  },
  {
   "cell_type": "code",
   "execution_count": 13,
   "metadata": {},
   "outputs": [
    {
     "name": "stdout",
     "output_type": "stream",
     "text": [
      "processing fold # 0\n",
      "processing fold # 1\n",
      "processing fold # 2\n",
      "processing fold # 3\n"
     ]
    }
   ],
   "source": [
    "import numpy as np\n",
    "\n",
    "k=4\n",
    "num_val_samples=len(train_data)//k\n",
    "num_epochs=100\n",
    "all_scores=[]\n",
    "\n",
    "\n",
    "for i in range(k):\n",
    "    print('processing fold #', i)\n",
    "    val_data=train_data[i*num_val_samples:(i+1)*num_val_samples]\n",
    "    val_targets=train_targets[i*num_val_samples:(i+1)*num_val_samples]\n",
    "    \n",
    "    partial_train_data=np.concatenate(\n",
    "    [train_data[:i*num_val_samples],\n",
    "    train_data[(i+1)*num_val_samples:]],\n",
    "    axis=0)\n",
    "    \n",
    "    partial_train_targets=np.concatenate(\n",
    "    [train_targets[:i*num_val_samples],\n",
    "    train_targets[(i+1)*num_val_samples:]],\n",
    "    axis=0)\n",
    "    \n",
    "    model=build_model()\n",
    "    model.fit(partial_train_data,partial_train_targets,epochs=num_epochs,batch_size=1,verbose=0)\n",
    "    val_mse,val_mae=model.evaluate(val_data,val_targets,verbose=0)\n",
    "    all_scores.append(val_mae)\n",
    "    "
   ]
  },
  {
   "cell_type": "code",
   "execution_count": 16,
   "metadata": {},
   "outputs": [
    {
     "name": "stdout",
     "output_type": "stream",
     "text": [
      "[2.0307204416482754, 2.4033245096112243, 2.4738134275568595, 2.7375497463906164]\n",
      "mean mae 2.411352031301744\n"
     ]
    }
   ],
   "source": [
    "print(all_scores)\n",
    "print('mean mae',format(np.mean(all_scores)))\n"
   ]
  },
  {
   "cell_type": "markdown",
   "metadata": {},
   "source": [
    "#### Saving the validation logs at each fold"
   ]
  },
  {
   "cell_type": "code",
   "execution_count": 24,
   "metadata": {},
   "outputs": [
    {
     "name": "stdout",
     "output_type": "stream",
     "text": [
      "processing fold # 0\n",
      "processing fold # 1\n",
      "processing fold # 2\n",
      "processing fold # 3\n"
     ]
    }
   ],
   "source": [
    "import numpy as np\n",
    "\n",
    "k=4\n",
    "num_val_samples=len(train_data)//k\n",
    "num_epochs=500\n",
    "all_mae_histories=[]\n",
    "\n",
    "\n",
    "for i in range(k):\n",
    "    print('processing fold #', i)\n",
    "    val_data=train_data[i*num_val_samples:(i+1)*num_val_samples]\n",
    "    val_targets=train_targets[i*num_val_samples:(i+1)*num_val_samples]\n",
    "    \n",
    "    partial_train_data=np.concatenate(\n",
    "    [train_data[:i*num_val_samples],\n",
    "    train_data[(i+1)*num_val_samples:]],\n",
    "    axis=0)\n",
    "    \n",
    "    partial_train_targets=np.concatenate(\n",
    "    [train_targets[:i*num_val_samples],\n",
    "    train_targets[(i+1)*num_val_samples:]],\n",
    "    axis=0)\n",
    "    \n",
    "    model=build_model()\n",
    "    history=model.fit(partial_train_data,partial_train_targets,validation_data=(val_data,val_targets),epochs=num_epochs,batch_size=1,verbose=0)\n",
    "    mae_history=history.history['val_mean_absolute_error']\n",
    "    all_mae_histories.append(mae_history)\n",
    "    "
   ]
  },
  {
   "cell_type": "code",
   "execution_count": 25,
   "metadata": {},
   "outputs": [],
   "source": [
    "average_mae_history=[\n",
    "    np.mean([x[i] for x in all_mae_histories]) for i in range(num_epochs)\n",
    "]"
   ]
  },
  {
   "cell_type": "code",
   "execution_count": 47,
   "metadata": {},
   "outputs": [
    {
     "data": {
      "text/plain": [
       "(500,)"
      ]
     },
     "execution_count": 47,
     "metadata": {},
     "output_type": "execute_result"
    }
   ],
   "source": [
    "np.array(average_mae_history).shape"
   ]
  },
  {
   "cell_type": "markdown",
   "metadata": {},
   "source": [
    "#### Plotting Validation Scores"
   ]
  },
  {
   "cell_type": "code",
   "execution_count": 49,
   "metadata": {},
   "outputs": [],
   "source": [
    "% matplotlib inline"
   ]
  },
  {
   "cell_type": "code",
   "execution_count": 50,
   "metadata": {},
   "outputs": [
    {
     "data": {
      "image/png": "[encoded data removed]",
      "text/plain": [
       "<Figure size 432x288 with 1 Axes>"
      ]
     },
     "metadata": {},
     "output_type": "display_data"
    }
   ],
   "source": [
    "import matplotlib.pyplot as plt\n",
    "\n",
    "plt.plot(range(1,len(average_mae_history)+1),average_mae_history)\n",
    "plt.xlabel('Epochs')\n",
    "plt.ylabel('Validation MAE')\n",
    "plt.show()"
   ]
  },
  {
   "cell_type": "code",
   "execution_count": 73,
   "metadata": {},
   "outputs": [],
   "source": [
    "def smooth_curve(points,factor=0.9):\n",
    "    smoothed_points=[]\n",
    "    for point in points:\n",
    "        if smoothed_points:\n",
    "            \n",
    "            previous=smoothed_points[-1]\n",
    "            print(previous*factor)\n",
    "            \n",
    "            smoothed_points.append(previous*factor + point *(1-factor))\n",
    "        else:\n",
    "            smoothed_points.append(point)\n",
    "    return smoothed_points"
   ]
  },
  {
   "cell_type": "code",
   "execution_count": 75,
   "metadata": {},
   "outputs": [
    {
     "name": "stdout",
     "output_type": "stream",
     "text": [
      "2.337198314454296\n",
      "2.347548734268339\n",
      "2.3359621158259927\n",
      "2.3383080645122147\n",
      "2.330247064158043\n",
      "2.317610279370624\n",
      "2.3009333100700475\n",
      "2.2889910272842533\n",
      "2.270688339348484\n",
      "2.254210145967969\n",
      "2.2479609956258115\n",
      "2.2478004851978057\n",
      "2.2401280351645383\n",
      "2.232587996406865\n",
      "2.2381911665463927\n",
      "2.2263479164951328\n",
      "2.217247417984954\n",
      "2.2094628804975844\n",
      "2.2062157158563607\n",
      "2.200998401301495\n",
      "2.192960597218233\n",
      "2.190222857818069\n",
      "2.1912705730766167\n",
      "2.197580850108172\n",
      "2.1953259049638154\n",
      "2.1758586825862865\n",
      "2.1676992256471452\n",
      "2.165283608810078\n",
      "2.161332478115816\n",
      "2.148497162416805\n",
      "2.1514859620209807\n",
      "2.1563146873492154\n",
      "2.156718983008714\n",
      "2.1672593208101074\n",
      "2.163755219814755\n",
      "2.163181994575634\n",
      "2.151393480254186\n",
      "2.1398166834344683\n",
      "2.1304979769092256\n",
      "2.1425997848951996\n",
      "2.146352374353086\n",
      "2.1408755521102023\n",
      "2.1447561807140714\n",
      "2.1333049248385008\n",
      "2.1263521107442473\n",
      "2.1383950263024\n",
      "2.1280365392292695\n",
      "2.1292527165955017\n",
      "2.1290426798222533\n",
      "2.1258780690555805\n",
      "2.1281906759370335\n",
      "2.126249376239038\n",
      "2.1307045055273797\n",
      "2.135716598621577\n",
      "2.1390373764936457\n",
      "2.139118535556065\n",
      "2.1525170515463294\n",
      "2.174549312897578\n",
      "2.191726775449516\n",
      "2.1903834750128457\n",
      "2.19224154476819\n",
      "2.1894990148379887\n",
      "2.1818751346761194\n",
      "2.196325306025869\n",
      "2.194608696315847\n",
      "2.182134562826071\n",
      "2.1872286153402123\n",
      "2.1831555089465335\n",
      "2.1746745956347726\n",
      "2.16846548945571\n",
      "2.1716026236028987\n",
      "2.169601341147142\n",
      "2.183957896792806\n",
      "2.1978192577493867\n",
      "2.1881431487494774\n",
      "2.192278047667312\n",
      "2.1910903837442084\n",
      "2.18968672082164\n",
      "2.185162704226329\n",
      "2.181365755885536\n",
      "2.178409312898503\n",
      "2.169244830716304\n",
      "2.166630661532789\n",
      "2.1625858129067863\n",
      "2.166871304973548\n",
      "2.1799764599020213\n",
      "2.175555059774478\n",
      "2.1794721653187605\n",
      "2.171195952180492\n",
      "2.1764633794270254\n",
      "2.174605722271457\n",
      "2.179361297842434\n",
      "2.170350424716499\n",
      "2.170515579934453\n",
      "2.1648965100708786\n",
      "2.1638819852618134\n",
      "2.1713228841647565\n",
      "2.17070703133132\n",
      "2.176260268963455\n",
      "2.1789517243190417\n",
      "2.1849443174599403\n",
      "2.1910161044253083\n",
      "2.1976737057260096\n",
      "2.206252785210769\n",
      "2.2007513423265297\n",
      "2.1983502139162567\n",
      "2.194747879712298\n",
      "2.1985686836690594\n",
      "2.2046687736220347\n",
      "2.201557849880043\n",
      "2.2006774923704135\n",
      "2.192697956690436\n",
      "2.2112381803114856\n",
      "2.206232416741108\n",
      "2.20028131491463\n",
      "2.1979862296054784\n",
      "2.19982703297782\n",
      "2.224489037664301\n",
      "2.2126366137008997\n",
      "2.21498428774292\n",
      "2.2104087099787524\n",
      "2.2090225499346556\n",
      "2.2054254738667325\n",
      "2.2025796361129326\n",
      "2.1960591802061002\n",
      "2.1914307690331554\n",
      "2.2016083209263133\n",
      "2.200230095938201\n",
      "2.19869788079295\n",
      "2.210498498708202\n",
      "2.1997556560392093\n",
      "2.1987581970095453\n",
      "2.2029591349402704\n",
      "2.2169049990811\n",
      "2.2182542485144263\n",
      "2.223265633645151\n",
      "2.2165288472639917\n",
      "2.2187278490767683\n",
      "2.2172518332630866\n",
      "2.224231406789202\n",
      "2.219394554243752\n",
      "2.215732006591498\n",
      "2.224625179878755\n",
      "2.2203582604884535\n",
      "2.222221610607578\n",
      "2.215118311040318\n",
      "2.2093605739302946\n",
      "2.211641480543689\n",
      "2.219118563584757\n",
      "2.2112264956000964\n",
      "2.208628777095571\n",
      "2.2122904912757257\n",
      "2.207895554317872\n",
      "2.1915376116255536\n",
      "2.2066494051106327\n",
      "2.2057442240304073\n",
      "2.2056910971347223\n",
      "2.2053939010134282\n",
      "2.2126580589199936\n",
      "2.2128105976720307\n",
      "2.211952449879291\n",
      "2.21878445083073\n",
      "2.2187314247392744\n",
      "2.220493811202772\n",
      "2.2261069535952878\n",
      "2.2166403834423947\n",
      "2.2140522754999856\n",
      "2.2119450522986663\n",
      "2.213332813954255\n",
      "2.2089111663052883\n",
      "2.2069385694620283\n",
      "2.217314242717256\n",
      "2.21721606794318\n",
      "2.220303532375737\n",
      "2.221995122370256\n",
      "2.230091757073707\n",
      "2.22754786257666\n",
      "2.2355006792212078\n",
      "2.2361570236215376\n",
      "2.2339188420448575\n",
      "2.232645249943091\n",
      "2.2323098086832376\n",
      "2.2316744558191766\n",
      "2.2501102437210174\n",
      "2.253074117278853\n",
      "2.2526578064840237\n",
      "2.2521499180712925\n",
      "2.2598856971073102\n",
      "2.270497009081005\n",
      "2.281709891756793\n",
      "2.279258109256558\n",
      "2.2888849677923133\n",
      "2.278543294417885\n",
      "2.2894882248039656\n",
      "2.2875624998481174\n",
      "2.288724029634714\n",
      "2.2849096880514406\n",
      "2.291447514899347\n",
      "2.3034715991744767\n",
      "2.303195045030766\n",
      "2.3077560836369035\n",
      "2.307509380806541\n",
      "2.3209273590174164\n",
      "2.315235841185337\n",
      "2.306555104435308\n",
      "2.3112909715092695\n",
      "2.312616571865785\n",
      "2.3086689645345237\n",
      "2.3023345128414223\n",
      "2.3074842069769583\n",
      "2.319000788924151\n",
      "2.319996554970467\n",
      "2.321383270620935\n",
      "2.3281749253311035\n",
      "2.3262618586409203\n",
      "2.325260658828161\n",
      "2.324626239861668\n",
      "2.339220389599444\n",
      "2.3388335392412483\n",
      "2.34321081731511\n",
      "2.3355816937442824\n",
      "2.3326711313021447\n",
      "2.3320002444297834\n",
      "2.320634351749338\n",
      "2.320388232096211\n",
      "2.322973287325464\n",
      "2.3252163098562852\n",
      "2.341095204256447\n",
      "2.335532890275118\n",
      "2.3439067176841393\n",
      "2.3334501787560993\n",
      "2.331800824679643\n",
      "2.3305934139352806\n",
      "2.3257736353482694\n",
      "2.3264638002812816\n",
      "2.3189949710175206\n",
      "2.3271663556531093\n",
      "2.3229533181688016\n",
      "2.3151191165389844\n",
      "2.3177016591357993\n",
      "2.3218962436396073\n",
      "2.3245859614988045\n",
      "2.318595264515636\n",
      "2.3203491559208365\n",
      "2.3115767750132266\n",
      "2.3252571098035575\n",
      "2.3176901593019106\n",
      "2.3174847051369936\n",
      "2.3234106052024943\n",
      "2.324076350005383\n",
      "2.3266219470406235\n",
      "2.3312708970024776\n",
      "2.3276759193034224\n",
      "2.3219018818259385\n",
      "2.330697076297044\n",
      "2.336385250986214\n",
      "2.3386000235626025\n",
      "2.3366647443806547\n",
      "2.3270859803349464\n",
      "2.334826126633888\n",
      "2.3305260150575937\n",
      "2.3449994798432843\n",
      "2.338752829806377\n",
      "2.339062153148887\n",
      "2.3429324670092186\n",
      "2.339701452564232\n",
      "2.3399165931593155\n",
      "2.342768563423117\n",
      "2.345629892180605\n",
      "2.345895269936157\n",
      "2.349768122416992\n",
      "2.3475326363987987\n",
      "2.353335406726664\n",
      "2.3599992977949\n",
      "2.3608213154672755\n",
      "2.35422013371426\n",
      "2.3545624483481244\n",
      "2.342984902582288\n",
      "2.341985075343013\n",
      "2.341151449522503\n",
      "2.335323391127887\n",
      "2.342883771256042\n",
      "2.3454012438667178\n",
      "2.341339168418382\n",
      "2.351213882881483\n",
      "2.367657565914105\n",
      "2.363720694639543\n",
      "2.3595232686189513\n",
      "2.36275865630309\n",
      "2.355507885181906\n",
      "2.3532515882899636\n",
      "2.35458168011887\n",
      "2.356731043630924\n",
      "2.352415278994648\n",
      "2.3434909288110517\n",
      "2.3480943887300776\n",
      "2.340221987775897\n",
      "2.333224982576253\n",
      "2.349978135489812\n",
      "2.345192239020152\n",
      "2.3418540755007724\n",
      "2.341629859541165\n",
      "2.338221735949844\n",
      "2.3394104916277665\n",
      "2.33607573169358\n",
      "2.3363129451115503\n",
      "2.3389650727305646\n",
      "2.338974997387408\n",
      "2.344830567998408\n",
      "2.3330095706685454\n",
      "2.329964043759513\n",
      "2.325348386024343\n",
      "2.325402767962267\n",
      "2.3194697759716023\n",
      "2.3151070173179153\n",
      "2.3162336561246963\n",
      "2.3193535684679905\n",
      "2.3266107120779167\n",
      "2.3304269103355058\n",
      "2.330162864028963\n",
      "2.3540932834654886\n",
      "2.348262854405701\n",
      "2.345128905337941\n",
      "2.3485758993627206\n",
      "2.3409198152786663\n",
      "2.352055689454418\n",
      "2.3499822247216713\n",
      "2.343577423633164\n",
      "2.3472628282884878\n",
      "2.3420445369128475\n",
      "2.339997503696267\n",
      "2.3410652594700023\n",
      "2.3449511352716024\n",
      "2.3444427542320736\n",
      "2.35248010557679\n",
      "2.347977717517085\n",
      "2.351920081314695\n",
      "2.3546396384634223\n",
      "2.3621037401507654\n",
      "2.3643154829440607\n",
      "2.36972287280091\n",
      "2.3712309799857274\n",
      "2.3615059046364664\n",
      "2.3631360015687086\n",
      "2.355608383626416\n",
      "2.3592759853030034\n",
      "2.3627631935989832\n",
      "2.3631748798210257\n",
      "2.366646691131063\n",
      "2.363329750766089\n",
      "2.3579888972325147\n",
      "2.3559370771324737\n",
      "2.3653280803793315\n",
      "2.3628486720104602\n",
      "2.3593005264501805\n",
      "2.362818214865136\n",
      "2.3680844152097573\n",
      "2.3719185862829706\n",
      "2.368971401756588\n",
      "2.3667122504575175\n",
      "2.370172266093612\n",
      "2.383234078099525\n",
      "2.3811523743498717\n",
      "2.3810839629682587\n",
      "2.3708625934157466\n",
      "2.3741629375192814\n",
      "2.3721426935336107\n",
      "2.3676359265264773\n",
      "2.3701043655237117\n",
      "2.3722813208024838\n",
      "2.3817548542251994\n",
      "2.3764312853188607\n",
      "2.377461416526803\n",
      "2.3691268444718205\n",
      "2.3740139140234047\n",
      "2.37206117236506\n",
      "2.370307306468457\n",
      "2.3730949299702875\n",
      "2.3834029065743705\n",
      "2.379867384125163\n",
      "2.383077430520551\n",
      "2.378676983653942\n",
      "2.3760695821361084\n",
      "2.369802585909228\n",
      "2.3789512613145627\n",
      "2.3727316989859197\n",
      "2.3683241084044395\n",
      "2.3722739666735895\n",
      "2.3773172384325933\n",
      "2.3680149401900654\n",
      "2.363325213005129\n",
      "2.362480599853146\n",
      "2.3647417039721983\n",
      "2.361972088007668\n",
      "2.3466348721713346\n",
      "2.348926861587594\n",
      "2.348529290732592\n",
      "2.349118520776191\n",
      "2.3441436486250304\n",
      "2.3451408462572396\n",
      "2.3459136480402933\n",
      "2.337198888841399\n",
      "2.344602656062546\n",
      "2.3476950039365483\n",
      "2.35166441249944\n",
      "2.3563346245434453\n",
      "2.3610059389323323\n",
      "2.361276298006469\n",
      "2.362081543643134\n",
      "2.362069400819734\n",
      "2.358324134431842\n",
      "2.359023752132904\n",
      "2.358008485864044\n",
      "2.359042517332227\n",
      "2.3679558592160186\n",
      "2.379190756981695\n",
      "2.376586818948396\n",
      "2.3808761147026596\n",
      "2.3862577953112614\n",
      "2.375855076574531\n",
      "2.380153604190432\n",
      "2.381214141856879\n",
      "2.3854036891442973\n",
      "2.3916729038678417\n",
      "2.400847047412163\n",
      "2.401972290167304\n",
      "2.4009941177072944\n",
      "2.392288926940258\n",
      "2.3833147686231015\n",
      "2.3758072646115345\n",
      "2.3774271838119714\n",
      "2.3786882949501216\n",
      "2.3783288913336342\n",
      "2.3759253100835998\n",
      "2.375215787519903\n",
      "2.3758827286470554\n",
      "2.367790520806452\n",
      "2.361425379088787\n",
      "2.353496199176141\n",
      "2.352321003703802\n",
      "2.353491176641354\n",
      "2.3452054120506975\n",
      "2.345078487642348\n",
      "2.3550066066280015\n",
      "2.357797935164207\n",
      "2.3550588062214937\n",
      "2.3637484364447174\n",
      "2.3642455737010573\n",
      "2.37297523302177\n",
      "2.3696167864170654\n",
      "2.3619566359506377\n",
      "2.369960805647166\n",
      "2.370366434296745\n",
      "2.3648866589009043\n",
      "2.357579134297607\n",
      "2.3585515321624397\n",
      "2.3564641873032834\n",
      "2.354393903618186\n",
      "2.3561950504961406\n",
      "2.358460865550521\n",
      "2.3586201644014153\n",
      "2.358245332710065\n",
      "2.3579996616670744\n",
      "2.3525608185027687\n",
      "2.3567965987229345\n",
      "2.354320944323372\n",
      "2.352956308159474\n",
      "2.351750556861035\n",
      "2.344298977329901\n",
      "2.3422343583106846\n",
      "2.338447784266128\n",
      "2.3405472166969634\n",
      "2.341606156092227\n",
      "2.337835234163381\n",
      "2.3403059264360317\n",
      "2.3363213004223633\n",
      "2.3432339287660784\n",
      "2.344962405836602\n",
      "2.350377899897671\n",
      "2.3608818093480766\n",
      "2.3699171500103478\n",
      "2.3624222473340257\n",
      "2.3668126792598536\n",
      "2.3632929168064103\n",
      "2.366989345686674\n",
      "2.3643262458765957\n",
      "2.3650599451513896\n",
      "2.363254498399867\n",
      "2.3599237039541987\n"
     ]
    }
   ],
   "source": [
    "smooth_mae_history=smooth_curve(average_mae_history[10:])"
   ]
  },
  {
   "cell_type": "code",
   "execution_count": 76,
   "metadata": {},
   "outputs": [
    {
     "data": {
      "image/png": "[encoded data removed]",
      "text/plain": [
       "<Figure size 432x288 with 1 Axes>"
      ]
     },
     "metadata": {},
     "output_type": "display_data"
    }
   ],
   "source": [
    "plt.plot(range(1,len(smooth_mae_history)+1),smooth_mae_history)\n",
    "plt.xlabel('Epochs')\n",
    "plt.ylabel('Validation MAE')\n",
    "plt.show()"
   ]
  },
  {
   "cell_type": "code",
   "execution_count": 77,
   "metadata": {},
   "outputs": [
    {
     "data": {
      "text/plain": [
       "<keras.callbacks.History at 0x1e91989afd0>"
      ]
     },
     "execution_count": 77,
     "metadata": {},
     "output_type": "execute_result"
    }
   ],
   "source": [
    "model=build_model()\n",
    "model.fit(train_data,train_targets,\n",
    "         epochs=80,batch_size=16,verbose=0)"
   ]
  },
  {
   "cell_type": "code",
   "execution_count": 78,
   "metadata": {},
   "outputs": [
    {
     "name": "stdout",
     "output_type": "stream",
     "text": [
      "102/102 [==============================] - 0s 2ms/step\n"
     ]
    }
   ],
   "source": [
    "test_mse_score,test_mae_score=model.evaluate(test_data,test_targets)"
   ]
  },
  {
   "cell_type": "code",
   "execution_count": 79,
   "metadata": {},
   "outputs": [
    {
     "data": {
      "text/plain": [
       "2.5889533641291598"
      ]
     },
     "execution_count": 79,
     "metadata": {},
     "output_type": "execute_result"
    }
   ],
   "source": [
    "test_mae_score"
   ]
  },
  {
   "cell_type": "code",
   "execution_count": null,
   "metadata": {},
   "outputs": [],
   "source": []
  }
 ],
 "metadata": {
  "kernelspec": {
   "display_name": "Python 3",
   "language": "python",
   "name": "python3"
  },
  "language_info": {
   "codemirror_mode": {
    "name": "ipython",
    "version": 3
   },
   "file_extension": ".py",
   "mimetype": "text/x-python",
   "name": "python",
   "nbconvert_exporter": "python",
   "pygments_lexer": "ipython3",
   "version": "3.6.5"
  }
 },
 "nbformat": 4,
 "nbformat_minor": 2
}
