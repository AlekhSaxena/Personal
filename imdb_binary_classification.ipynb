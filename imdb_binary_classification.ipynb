{
 "cells": [
  {
   "cell_type": "code",
   "execution_count": 1,
   "metadata": {},
   "outputs": [
    {
     "name": "stderr",
     "output_type": "stream",
     "text": [
      "C:\\Users\\Alekh\\Anaconda3\\lib\\site-packages\\h5py\\__init__.py:36: FutureWarning: Conversion of the second argument of issubdtype from `float` to `np.floating` is deprecated. In future, it will be treated as `np.float64 == np.dtype(float).type`.\n",
      "  from ._conv import register_converters as _register_converters\n",
      "Using TensorFlow backend.\n"
     ]
    }
   ],
   "source": [
    "from keras.datasets import imdb\n",
    "(train_data, train_labels), (test_data, test_labels) = imdb.load_data(num_words=10000)"
   ]
  },
  {
   "cell_type": "code",
   "execution_count": 11,
   "metadata": {},
   "outputs": [],
   "source": [
    "import numpy as np\n",
    "\n",
    "def vectorize_sequences(sequences,dim=10000):\n",
    "    results=np.zeros((len(sequences),dim))\n",
    "    for i, seq in enumerate(sequences):\n",
    "        results[i,seq]=1\n",
    "    return results"
   ]
  },
  {
   "cell_type": "code",
   "execution_count": 12,
   "metadata": {},
   "outputs": [],
   "source": [
    "x_train=vectorize_sequences(train_data)\n",
    "x_test=vectorize_sequences(test_data)"
   ]
  },
  {
   "cell_type": "code",
   "execution_count": 15,
   "metadata": {},
   "outputs": [],
   "source": [
    "y_train=np.asarray(train_labels).astype('float32')\n",
    "y_test=np.asarray(test_labels).astype('float32')"
   ]
  },
  {
   "cell_type": "code",
   "execution_count": 16,
   "metadata": {},
   "outputs": [],
   "source": [
    "from keras import models\n",
    "from keras import layers\n",
    "\n",
    "model=models.Sequential()\n",
    "model.add(layers.Dense(16,activation='relu',input_shape=(10000,)))\n",
    "model.add(layers.Dense(16,activation='relu'))\n",
    "model.add(layers.Dense(1,activation='sigmoid'))"
   ]
  },
  {
   "cell_type": "code",
   "execution_count": 18,
   "metadata": {},
   "outputs": [],
   "source": [
    "from keras import optimizers,losses,metrics\n",
    "#model.compile(optimizer='rmsprop',loss='binary_crossentropy',metrics=['accuracy'])\n",
    "model.compile(optimizer=optimizers.RMSprop(lr=0.001),loss=losses.binary_crossentropy,metrics=[metrics.binary_accuracy])"
   ]
  },
  {
   "cell_type": "code",
   "execution_count": 20,
   "metadata": {},
   "outputs": [],
   "source": [
    "x_val=x_train[:10000]\n",
    "partial_x_train=x_train[10000:]\n",
    "y_val=y_train[:10000]\n",
    "partial_y_train=y_train[10000:]"
   ]
  },
  {
   "cell_type": "code",
   "execution_count": 21,
   "metadata": {},
   "outputs": [
    {
     "name": "stdout",
     "output_type": "stream",
     "text": [
      "Train on 15000 samples, validate on 10000 samples\n",
      "Epoch 1/20\n",
      "15000/15000 [==============================] - 7s 474us/step - loss: 0.5084 - binary_accuracy: 0.7813 - val_loss: 0.3797 - val_binary_accuracy: 0.8684\n",
      "Epoch 2/20\n",
      "15000/15000 [==============================] - 5s 307us/step - loss: 0.3004 - binary_accuracy: 0.9047 - val_loss: 0.3004 - val_binary_accuracy: 0.8897\n",
      "Epoch 3/20\n",
      "15000/15000 [==============================] - 4s 299us/step - loss: 0.2179 - binary_accuracy: 0.9285 - val_loss: 0.3085 - val_binary_accuracy: 0.8711\n",
      "Epoch 4/20\n",
      "15000/15000 [==============================] - 5s 301us/step - loss: 0.1750 - binary_accuracy: 0.9437 - val_loss: 0.2840 - val_binary_accuracy: 0.8832\n",
      "Epoch 5/20\n",
      "15000/15000 [==============================] - 5s 305us/step - loss: 0.1427 - binary_accuracy: 0.9543 - val_loss: 0.2841 - val_binary_accuracy: 0.8872\n",
      "Epoch 6/20\n",
      "15000/15000 [==============================] - 5s 301us/step - loss: 0.1150 - binary_accuracy: 0.9650 - val_loss: 0.3166 - val_binary_accuracy: 0.8772\n",
      "Epoch 7/20\n",
      "15000/15000 [==============================] - 5s 302us/step - loss: 0.0980 - binary_accuracy: 0.9705 - val_loss: 0.3127 - val_binary_accuracy: 0.8846\n",
      "Epoch 8/20\n",
      "15000/15000 [==============================] - 5s 301us/step - loss: 0.0807 - binary_accuracy: 0.9763 - val_loss: 0.3859 - val_binary_accuracy: 0.8649\n",
      "Epoch 9/20\n",
      "15000/15000 [==============================] - 5s 304us/step - loss: 0.0661 - binary_accuracy: 0.9821 - val_loss: 0.3635 - val_binary_accuracy: 0.8782\n",
      "Epoch 10/20\n",
      "15000/15000 [==============================] - 4s 300us/step - loss: 0.0561 - binary_accuracy: 0.9853 - val_loss: 0.3843 - val_binary_accuracy: 0.8792\n",
      "Epoch 11/20\n",
      "15000/15000 [==============================] - 5s 303us/step - loss: 0.0439 - binary_accuracy: 0.9893 - val_loss: 0.4153 - val_binary_accuracy: 0.8779\n",
      "Epoch 12/20\n",
      "15000/15000 [==============================] - 5s 302us/step - loss: 0.0381 - binary_accuracy: 0.9921 - val_loss: 0.4525 - val_binary_accuracy: 0.8690\n",
      "Epoch 13/20\n",
      "15000/15000 [==============================] - 5s 303us/step - loss: 0.0300 - binary_accuracy: 0.9928 - val_loss: 0.4698 - val_binary_accuracy: 0.8729\n",
      "Epoch 14/20\n",
      "15000/15000 [==============================] - 5s 301us/step - loss: 0.0247 - binary_accuracy: 0.9945 - val_loss: 0.5023 - val_binary_accuracy: 0.8726\n",
      "Epoch 15/20\n",
      "15000/15000 [==============================] - 5s 303us/step - loss: 0.0175 - binary_accuracy: 0.9979 - val_loss: 0.5342 - val_binary_accuracy: 0.8693\n",
      "Epoch 16/20\n",
      "15000/15000 [==============================] - 5s 304us/step - loss: 0.0149 - binary_accuracy: 0.9983 - val_loss: 0.5710 - val_binary_accuracy: 0.8698\n",
      "Epoch 17/20\n",
      "15000/15000 [==============================] - 4s 299us/step - loss: 0.0151 - binary_accuracy: 0.9971 - val_loss: 0.6024 - val_binary_accuracy: 0.8697\n",
      "Epoch 18/20\n",
      "15000/15000 [==============================] - 5s 303us/step - loss: 0.0075 - binary_accuracy: 0.9996 - val_loss: 0.6804 - val_binary_accuracy: 0.8631\n",
      "Epoch 19/20\n",
      "15000/15000 [==============================] - 5s 305us/step - loss: 0.0119 - binary_accuracy: 0.9973 - val_loss: 0.6722 - val_binary_accuracy: 0.8659\n",
      "Epoch 20/20\n",
      "15000/15000 [==============================] - 5s 304us/step - loss: 0.0041 - binary_accuracy: 0.9999 - val_loss: 0.6915 - val_binary_accuracy: 0.8657\n"
     ]
    }
   ],
   "source": [
    "history=model.fit(partial_x_train,partial_y_train,epochs=20,batch_size=512,validation_data=(x_val,y_val))"
   ]
  },
  {
   "cell_type": "code",
   "execution_count": 23,
   "metadata": {},
   "outputs": [
    {
     "data": {
      "text/plain": [
       "dict_keys(['val_loss', 'val_binary_accuracy', 'loss', 'binary_accuracy'])"
      ]
     },
     "execution_count": 23,
     "metadata": {},
     "output_type": "execute_result"
    }
   ],
   "source": [
    "history_dict=history.history\n",
    "history_dict.keys()"
   ]
  },
  {
   "cell_type": "code",
   "execution_count": 26,
   "metadata": {},
   "outputs": [
    {
     "data": {
      "image/png": "[encoded data removed]",
      "text/plain": [
       "<Figure size 432x288 with 1 Axes>"
      ]
     },
     "metadata": {},
     "output_type": "display_data"
    }
   ],
   "source": [
    "import matplotlib.pyplot as plt\n",
    "\n",
    "history_dict=history.history\n",
    "loss_values=history_dict['loss']\n",
    "val_loss_values=history_dict['val_loss']\n",
    "\n",
    "epochs=range(1,len(loss_values)+1)\n",
    "\n",
    "plt.plot(epochs,loss_values,'bo',label='training loss')\n",
    "plt.plot(epochs,val_loss_values,'b',label='validation loss')\n",
    "plt.title('Traing and Validation loss')\n",
    "plt.xlabel('Epochs')\n",
    "plt.ylabel('Loss')\n",
    "plt.legend()\n",
    "\n",
    "plt.show()"
   ]
  },
  {
   "cell_type": "code",
   "execution_count": 27,
   "metadata": {},
   "outputs": [
    {
     "data": {
      "image/png": "[encoded data removed]",
      "text/plain": [
       "<Figure size 432x288 with 1 Axes>"
      ]
     },
     "metadata": {},
     "output_type": "display_data"
    }
   ],
   "source": [
    "plt.clf()\n",
    "\n",
    "history_dict=history.history\n",
    "acc_values=history_dict['binary_accuracy']\n",
    "val_acc_values=history_dict['val_binary_accuracy']\n",
    "\n",
    "epochs=range(1,len(acc_values)+1)\n",
    "\n",
    "plt.plot(epochs,acc_values,'bo',label='training acc')\n",
    "plt.plot(epochs,val_acc_values,'b',label='validation acc')\n",
    "plt.title('Traing and Validation accuracy')\n",
    "plt.xlabel('Epochs')\n",
    "plt.ylabel('acc')\n",
    "plt.legend()\n",
    "\n",
    "plt.show()"
   ]
  },
  {
   "cell_type": "markdown",
   "metadata": {},
   "source": [
    "### Retraining the model with only 4 epochs(early stopping)"
   ]
  },
  {
   "cell_type": "code",
   "execution_count": 28,
   "metadata": {},
   "outputs": [
    {
     "name": "stdout",
     "output_type": "stream",
     "text": [
      "Train on 15000 samples, validate on 10000 samples\n",
      "Epoch 1/4\n",
      "15000/15000 [==============================] - 6s 369us/step - loss: 0.5341 - acc: 0.7901 - val_loss: 0.4088 - val_acc: 0.8690\n",
      "Epoch 2/4\n",
      "15000/15000 [==============================] - 5s 302us/step - loss: 0.3277 - acc: 0.8994 - val_loss: 0.3168 - val_acc: 0.8849\n",
      "Epoch 3/4\n",
      "15000/15000 [==============================] - 5s 304us/step - loss: 0.2377 - acc: 0.9240 - val_loss: 0.2833 - val_acc: 0.8898\n",
      "Epoch 4/4\n",
      "15000/15000 [==============================] - 5s 302us/step - loss: 0.1879 - acc: 0.9386 - val_loss: 0.2860 - val_acc: 0.8847\n"
     ]
    },
    {
     "data": {
      "text/plain": [
       "<keras.callbacks.History at 0x12d016f9438>"
      ]
     },
     "execution_count": 28,
     "metadata": {},
     "output_type": "execute_result"
    }
   ],
   "source": [
    "model=models.Sequential()\n",
    "model.add(layers.Dense(16,activation='relu',input_shape=(10000,)))\n",
    "model.add(layers.Dense(16,activation='relu'))\n",
    "model.add(layers.Dense(1,activation='sigmoid'))\n",
    "\n",
    "model.compile(optimizer='rmsprop',loss='binary_crossentropy',metrics=['accuracy'])\n",
    "\n",
    "model.fit(partial_x_train,partial_y_train,epochs=4,batch_size=512,validation_data=(x_val,y_val))\n",
    "\n"
   ]
  },
  {
   "cell_type": "code",
   "execution_count": 29,
   "metadata": {},
   "outputs": [
    {
     "name": "stdout",
     "output_type": "stream",
     "text": [
      "25000/25000 [==============================] - 7s 296us/step\n"
     ]
    }
   ],
   "source": [
    "results=model.evaluate(x_test,y_test)"
   ]
  },
  {
   "cell_type": "code",
   "execution_count": 30,
   "metadata": {},
   "outputs": [
    {
     "data": {
      "text/plain": [
       "[0.3010383494758606, 0.87696]"
      ]
     },
     "execution_count": 30,
     "metadata": {},
     "output_type": "execute_result"
    }
   ],
   "source": [
    "results"
   ]
  },
  {
   "cell_type": "code",
   "execution_count": 31,
   "metadata": {},
   "outputs": [
    {
     "data": {
      "text/plain": [
       "array([[0.33753768],\n",
       "       [0.99961567],\n",
       "       [0.9334648 ],\n",
       "       ...,\n",
       "       [0.14532495],\n",
       "       [0.19014244],\n",
       "       [0.64739203]], dtype=float32)"
      ]
     },
     "execution_count": 31,
     "metadata": {},
     "output_type": "execute_result"
    }
   ],
   "source": [
    "model.predict(x_test)"
   ]
  },
  {
   "cell_type": "markdown",
   "metadata": {},
   "source": [
    "### Experiments"
   ]
  },
  {
   "cell_type": "markdown",
   "metadata": {},
   "source": [
    "#### Adding More Hidden layers"
   ]
  },
  {
   "cell_type": "code",
   "execution_count": 38,
   "metadata": {},
   "outputs": [
    {
     "name": "stdout",
     "output_type": "stream",
     "text": [
      "Train on 15000 samples, validate on 10000 samples\n",
      "Epoch 1/10\n",
      "15000/15000 [==============================] - 6s 410us/step - loss: 0.5605 - acc: 0.7384 - val_loss: 0.4221 - val_acc: 0.8682\n",
      "Epoch 2/10\n",
      "15000/15000 [==============================] - 5s 324us/step - loss: 0.3204 - acc: 0.9042 - val_loss: 0.3153 - val_acc: 0.8818\n",
      "Epoch 3/10\n",
      "15000/15000 [==============================] - 5s 318us/step - loss: 0.2232 - acc: 0.9319 - val_loss: 0.3358 - val_acc: 0.8641\n",
      "Epoch 4/10\n",
      "15000/15000 [==============================] - 5s 326us/step - loss: 0.1768 - acc: 0.9423 - val_loss: 0.2816 - val_acc: 0.8885\n",
      "Epoch 5/10\n",
      "15000/15000 [==============================] - 5s 334us/step - loss: 0.1402 - acc: 0.9567 - val_loss: 0.2912 - val_acc: 0.8868\n",
      "Epoch 6/10\n",
      "15000/15000 [==============================] - 5s 352us/step - loss: 0.1082 - acc: 0.9672 - val_loss: 0.3695 - val_acc: 0.8706\n",
      "Epoch 7/10\n",
      "15000/15000 [==============================] - 5s 352us/step - loss: 0.0839 - acc: 0.9768 - val_loss: 0.3518 - val_acc: 0.8769\n",
      "Epoch 8/10\n",
      "15000/15000 [==============================] - 5s 347us/step - loss: 0.0709 - acc: 0.9797 - val_loss: 0.3691 - val_acc: 0.8785\n",
      "Epoch 9/10\n",
      "15000/15000 [==============================] - 5s 353us/step - loss: 0.0574 - acc: 0.9833 - val_loss: 0.3984 - val_acc: 0.8757\n",
      "Epoch 10/10\n",
      "15000/15000 [==============================] - 6s 411us/step - loss: 0.0460 - acc: 0.9877 - val_loss: 0.4461 - val_acc: 0.8737\n"
     ]
    },
    {
     "data": {
      "text/plain": [
       "<keras.callbacks.History at 0x12d04116828>"
      ]
     },
     "execution_count": 38,
     "metadata": {},
     "output_type": "execute_result"
    }
   ],
   "source": [
    "model=models.Sequential()\n",
    "model.add(layers.Dense(16,activation='relu',input_shape=(10000,)))\n",
    "model.add(layers.Dense(16,activation='relu'))\n",
    "model.add(layers.Dense(16,activation='relu'))\n",
    "model.add(layers.Dense(1,activation='sigmoid'))\n",
    "\n",
    "model.compile(optimizer='rmsprop',loss='binary_crossentropy',metrics=['accuracy'])\n",
    "\n",
    "model.fit(partial_x_train,partial_y_train,epochs=10,batch_size=512,validation_data=(x_val,y_val))"
   ]
  },
  {
   "cell_type": "markdown",
   "metadata": {},
   "source": [
    "#### Adding Hidden Units"
   ]
  },
  {
   "cell_type": "code",
   "execution_count": 37,
   "metadata": {},
   "outputs": [
    {
     "name": "stdout",
     "output_type": "stream",
     "text": [
      "Train on 15000 samples, validate on 10000 samples\n",
      "Epoch 1/10\n",
      "15000/15000 [==============================] - 6s 381us/step - loss: 0.4696 - acc: 0.7983 - val_loss: 0.3857 - val_acc: 0.8373\n",
      "Epoch 2/10\n",
      "15000/15000 [==============================] - 5s 332us/step - loss: 0.2654 - acc: 0.9069 - val_loss: 0.3242 - val_acc: 0.8684\n",
      "Epoch 3/10\n",
      "15000/15000 [==============================] - 5s 331us/step - loss: 0.2034 - acc: 0.9281 - val_loss: 0.2738 - val_acc: 0.8912\n",
      "Epoch 4/10\n",
      "15000/15000 [==============================] - 5s 341us/step - loss: 0.1529 - acc: 0.9479 - val_loss: 0.2819 - val_acc: 0.8900\n",
      "Epoch 5/10\n",
      "15000/15000 [==============================] - 5s 339us/step - loss: 0.1191 - acc: 0.9602 - val_loss: 0.3422 - val_acc: 0.8728\n",
      "Epoch 6/10\n",
      "15000/15000 [==============================] - 5s 325us/step - loss: 0.0948 - acc: 0.9707 - val_loss: 0.3916 - val_acc: 0.8666\n",
      "Epoch 7/10\n",
      "15000/15000 [==============================] - 5s 334us/step - loss: 0.0744 - acc: 0.9776 - val_loss: 0.3463 - val_acc: 0.8800\n",
      "Epoch 8/10\n",
      "15000/15000 [==============================] - 5s 333us/step - loss: 0.0576 - acc: 0.9837 - val_loss: 0.3930 - val_acc: 0.8748\n",
      "Epoch 9/10\n",
      "15000/15000 [==============================] - 5s 330us/step - loss: 0.0490 - acc: 0.9858 - val_loss: 0.6431 - val_acc: 0.8251\n",
      "Epoch 10/10\n",
      "15000/15000 [==============================] - 5s 332us/step - loss: 0.0292 - acc: 0.9941 - val_loss: 0.5051 - val_acc: 0.8643\n"
     ]
    },
    {
     "data": {
      "text/plain": [
       "<keras.callbacks.History at 0x12d03cfce80>"
      ]
     },
     "execution_count": 37,
     "metadata": {},
     "output_type": "execute_result"
    }
   ],
   "source": [
    "model=models.Sequential()\n",
    "model.add(layers.Dense(32,activation='relu',input_shape=(10000,)))\n",
    "model.add(layers.Dense(32,activation='relu'))\n",
    "model.add(layers.Dense(1,activation='sigmoid'))\n",
    "\n",
    "model.compile(optimizer='rmsprop',loss='binary_crossentropy',metrics=['accuracy'])\n",
    "\n",
    "model.fit(partial_x_train,partial_y_train,epochs=10,batch_size=512,validation_data=(x_val,y_val))"
   ]
  },
  {
   "cell_type": "code",
   "execution_count": 36,
   "metadata": {},
   "outputs": [
    {
     "name": "stdout",
     "output_type": "stream",
     "text": [
      "Train on 15000 samples, validate on 10000 samples\n",
      "Epoch 1/4\n",
      "15000/15000 [==============================] - 5s 333us/step - loss: 0.1743 - acc: 0.8005 - val_loss: 0.1257 - val_acc: 0.8656\n",
      "Epoch 2/4\n",
      "15000/15000 [==============================] - 5s 301us/step - loss: 0.0963 - acc: 0.8993 - val_loss: 0.0989 - val_acc: 0.8786\n",
      "Epoch 3/4\n",
      "15000/15000 [==============================] - 4s 298us/step - loss: 0.0680 - acc: 0.9285 - val_loss: 0.0863 - val_acc: 0.8895\n",
      "Epoch 4/4\n",
      "15000/15000 [==============================] - 4s 297us/step - loss: 0.0538 - acc: 0.9415 - val_loss: 0.0827 - val_acc: 0.8918\n"
     ]
    },
    {
     "data": {
      "text/plain": [
       "<keras.callbacks.History at 0x12d03ae6b70>"
      ]
     },
     "execution_count": 36,
     "metadata": {},
     "output_type": "execute_result"
    }
   ],
   "source": [
    "model=models.Sequential()\n",
    "model.add(layers.Dense(16,activation='relu',input_shape=(10000,)))\n",
    "model.add(layers.Dense(16,activation='relu'))\n",
    "model.add(layers.Dense(1,activation='sigmoid'))\n",
    "\n",
    "model.compile(optimizer='rmsprop',loss='mse',metrics=['accuracy'])\n",
    "\n",
    "model.fit(partial_x_train,partial_y_train,epochs=4,batch_size=512,validation_data=(x_val,y_val))"
   ]
  },
  {
   "cell_type": "code",
   "execution_count": 35,
   "metadata": {},
   "outputs": [
    {
     "name": "stdout",
     "output_type": "stream",
     "text": [
      "Train on 15000 samples, validate on 10000 samples\n",
      "Epoch 1/4\n",
      "15000/15000 [==============================] - 5s 345us/step - loss: 0.5022 - acc: 0.7923 - val_loss: 0.3755 - val_acc: 0.8723\n",
      "Epoch 2/4\n",
      "15000/15000 [==============================] - 5s 304us/step - loss: 0.2929 - acc: 0.9069 - val_loss: 0.2927 - val_acc: 0.8888\n",
      "Epoch 3/4\n",
      "15000/15000 [==============================] - 5s 305us/step - loss: 0.2046 - acc: 0.9349 - val_loss: 0.2715 - val_acc: 0.8872\n",
      "Epoch 4/4\n",
      "15000/15000 [==============================] - 5s 302us/step - loss: 0.1572 - acc: 0.9496 - val_loss: 0.2823 - val_acc: 0.8850\n"
     ]
    },
    {
     "data": {
      "text/plain": [
       "<keras.callbacks.History at 0x12d0249aac8>"
      ]
     },
     "execution_count": 35,
     "metadata": {},
     "output_type": "execute_result"
    }
   ],
   "source": [
    "model=models.Sequential()\n",
    "model.add(layers.Dense(16,activation='tanh',input_shape=(10000,)))\n",
    "model.add(layers.Dense(16,activation='tanh'))\n",
    "model.add(layers.Dense(1,activation='sigmoid'))\n",
    "\n",
    "model.compile(optimizer='rmsprop',loss='binary_crossentropy',metrics=['accuracy'])\n",
    "\n",
    "model.fit(partial_x_train,partial_y_train,epochs=4,batch_size=512,validation_data=(x_val,y_val))"
   ]
  },
  {
   "cell_type": "code",
   "execution_count": null,
   "metadata": {},
   "outputs": [],
   "source": []
  }
 ],
 "metadata": {
  "kernelspec": {
   "display_name": "Python 3",
   "language": "python",
   "name": "python3"
  },
  "language_info": {
   "codemirror_mode": {
    "name": "ipython",
    "version": 3
   },
   "file_extension": ".py",
   "mimetype": "text/x-python",
   "name": "python",
   "nbconvert_exporter": "python",
   "pygments_lexer": "ipython3",
   "version": "3.6.5"
  }
 },
 "nbformat": 4,
 "nbformat_minor": 2
}
