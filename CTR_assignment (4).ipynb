{
  "cells": [
    {
      "cell_type": "markdown",
      "metadata": {
        "id": "OfZE2aoN_h8U"
      },
      "source": [
        "##### Loading Libraries"
      ]
    },
    {
      "cell_type": "code",
      "execution_count": null,
      "metadata": {
        "colab": {
          "base_uri": "https://localhost:8080/"
        },
        "id": "xY8ii4Hh9Ql9",
        "outputId": "ab52b076-8c3b-4054-c831-a8163c00aa46"
      },
      "outputs": [
        {
          "name": "stdout",
          "output_type": "stream",
          "text": [
            "Collecting catboost\n",
            "  Downloading catboost-1.0.5-cp37-none-manylinux1_x86_64.whl (76.6 MB)\n",
            "\u001b[K     |████████████████████████████████| 76.6 MB 96 kB/s \n",
            "\u001b[?25hRequirement already satisfied: pandas>=0.24.0 in /usr/local/lib/python3.7/dist-packages (from catboost) (1.3.5)\n",
            "Requirement already satisfied: graphviz in /usr/local/lib/python3.7/dist-packages (from catboost) (0.10.1)\n",
            "Requirement already satisfied: scipy in /usr/local/lib/python3.7/dist-packages (from catboost) (1.4.1)\n",
            "Requirement already satisfied: matplotlib in /usr/local/lib/python3.7/dist-packages (from catboost) (3.2.2)\n",
            "Requirement already satisfied: six in /usr/local/lib/python3.7/dist-packages (from catboost) (1.15.0)\n",
            "Requirement already satisfied: numpy>=1.16.0 in /usr/local/lib/python3.7/dist-packages (from catboost) (1.21.6)\n",
            "Requirement already satisfied: plotly in /usr/local/lib/python3.7/dist-packages (from catboost) (5.5.0)\n",
            "Requirement already satisfied: python-dateutil>=2.7.3 in /usr/local/lib/python3.7/dist-packages (from pandas>=0.24.0->catboost) (2.8.2)\n",
            "Requirement already satisfied: pytz>=2017.3 in /usr/local/lib/python3.7/dist-packages (from pandas>=0.24.0->catboost) (2022.1)\n",
            "Requirement already satisfied: pyparsing!=2.0.4,!=2.1.2,!=2.1.6,>=2.0.1 in /usr/local/lib/python3.7/dist-packages (from matplotlib->catboost) (3.0.9)\n",
            "Requirement already satisfied: kiwisolver>=1.0.1 in /usr/local/lib/python3.7/dist-packages (from matplotlib->catboost) (1.4.2)\n",
            "Requirement already satisfied: cycler>=0.10 in /usr/local/lib/python3.7/dist-packages (from matplotlib->catboost) (0.11.0)\n",
            "Requirement already satisfied: typing-extensions in /usr/local/lib/python3.7/dist-packages (from kiwisolver>=1.0.1->matplotlib->catboost) (4.2.0)\n",
            "Requirement already satisfied: tenacity>=6.2.0 in /usr/local/lib/python3.7/dist-packages (from plotly->catboost) (8.0.1)\n",
            "Installing collected packages: catboost\n",
            "Successfully installed catboost-1.0.5\n",
            "Collecting category_encoders\n",
            "  Downloading category_encoders-2.4.1-py2.py3-none-any.whl (80 kB)\n",
            "\u001b[K     |████████████████████████████████| 80 kB 3.4 MB/s \n",
            "\u001b[?25hRequirement already satisfied: scikit-learn>=0.20.0 in /usr/local/lib/python3.7/dist-packages (from category_encoders) (1.0.2)\n",
            "Requirement already satisfied: scipy>=1.0.0 in /usr/local/lib/python3.7/dist-packages (from category_encoders) (1.4.1)\n",
            "Requirement already satisfied: pandas>=0.21.1 in /usr/local/lib/python3.7/dist-packages (from category_encoders) (1.3.5)\n",
            "Requirement already satisfied: statsmodels>=0.9.0 in /usr/local/lib/python3.7/dist-packages (from category_encoders) (0.10.2)\n",
            "Requirement already satisfied: patsy>=0.5.1 in /usr/local/lib/python3.7/dist-packages (from category_encoders) (0.5.2)\n",
            "Requirement already satisfied: numpy>=1.14.0 in /usr/local/lib/python3.7/dist-packages (from category_encoders) (1.21.6)\n",
            "Requirement already satisfied: pytz>=2017.3 in /usr/local/lib/python3.7/dist-packages (from pandas>=0.21.1->category_encoders) (2022.1)\n",
            "Requirement already satisfied: python-dateutil>=2.7.3 in /usr/local/lib/python3.7/dist-packages (from pandas>=0.21.1->category_encoders) (2.8.2)\n",
            "Requirement already satisfied: six in /usr/local/lib/python3.7/dist-packages (from patsy>=0.5.1->category_encoders) (1.15.0)\n",
            "Requirement already satisfied: joblib>=0.11 in /usr/local/lib/python3.7/dist-packages (from scikit-learn>=0.20.0->category_encoders) (1.1.0)\n",
            "Requirement already satisfied: threadpoolctl>=2.0.0 in /usr/local/lib/python3.7/dist-packages (from scikit-learn>=0.20.0->category_encoders) (3.1.0)\n",
            "Installing collected packages: category-encoders\n",
            "Successfully installed category-encoders-2.4.1\n",
            "Collecting optuna\n",
            "  Downloading optuna-2.10.0-py3-none-any.whl (308 kB)\n",
            "\u001b[K     |████████████████████████████████| 308 kB 4.3 MB/s \n",
            "\u001b[?25hCollecting cmaes>=0.8.2\n",
            "  Downloading cmaes-0.8.2-py3-none-any.whl (15 kB)\n",
            "Requirement already satisfied: tqdm in /usr/local/lib/python3.7/dist-packages (from optuna) (4.64.0)\n",
            "Requirement already satisfied: numpy in /usr/local/lib/python3.7/dist-packages (from optuna) (1.21.6)\n",
            "Requirement already satisfied: packaging>=20.0 in /usr/local/lib/python3.7/dist-packages (from optuna) (21.3)\n",
            "Requirement already satisfied: scipy!=1.4.0 in /usr/local/lib/python3.7/dist-packages (from optuna) (1.4.1)\n",
            "Collecting alembic\n",
            "  Downloading alembic-1.7.7-py3-none-any.whl (210 kB)\n",
            "\u001b[K     |████████████████████████████████| 210 kB 49.7 MB/s \n",
            "\u001b[?25hRequirement already satisfied: sqlalchemy>=1.1.0 in /usr/local/lib/python3.7/dist-packages (from optuna) (1.4.36)\n",
            "Collecting cliff\n",
            "  Downloading cliff-3.10.1-py3-none-any.whl (81 kB)\n",
            "\u001b[K     |████████████████████████████████| 81 kB 9.5 MB/s \n",
            "\u001b[?25hRequirement already satisfied: PyYAML in /usr/local/lib/python3.7/dist-packages (from optuna) (3.13)\n",
            "Collecting colorlog\n",
            "  Downloading colorlog-6.6.0-py2.py3-none-any.whl (11 kB)\n",
            "Requirement already satisfied: pyparsing!=3.0.5,>=2.0.2 in /usr/local/lib/python3.7/dist-packages (from packaging>=20.0->optuna) (3.0.9)\n",
            "Requirement already satisfied: importlib-metadata in /usr/local/lib/python3.7/dist-packages (from sqlalchemy>=1.1.0->optuna) (4.11.3)\n",
            "Requirement already satisfied: greenlet!=0.4.17 in /usr/local/lib/python3.7/dist-packages (from sqlalchemy>=1.1.0->optuna) (1.1.2)\n",
            "Collecting Mako\n",
            "  Downloading Mako-1.2.0-py3-none-any.whl (78 kB)\n",
            "\u001b[K     |████████████████████████████████| 78 kB 6.7 MB/s \n",
            "\u001b[?25hRequirement already satisfied: importlib-resources in /usr/local/lib/python3.7/dist-packages (from alembic->optuna) (5.7.1)\n",
            "Collecting autopage>=0.4.0\n",
            "  Downloading autopage-0.5.0-py3-none-any.whl (29 kB)\n",
            "Requirement already satisfied: PrettyTable>=0.7.2 in /usr/local/lib/python3.7/dist-packages (from cliff->optuna) (3.3.0)\n",
            "Collecting cmd2>=1.0.0\n",
            "  Downloading cmd2-2.4.1-py3-none-any.whl (146 kB)\n",
            "\u001b[K     |████████████████████████████████| 146 kB 53.7 MB/s \n",
            "\u001b[?25hCollecting pbr!=2.1.0,>=2.0.0\n",
            "  Downloading pbr-5.9.0-py2.py3-none-any.whl (112 kB)\n",
            "\u001b[K     |████████████████████████████████| 112 kB 60.3 MB/s \n",
            "\u001b[?25hCollecting stevedore>=2.0.1\n",
            "  Downloading stevedore-3.5.0-py3-none-any.whl (49 kB)\n",
            "\u001b[K     |████████████████████████████████| 49 kB 5.9 MB/s \n",
            "\u001b[?25hCollecting pyperclip>=1.6\n",
            "  Downloading pyperclip-1.8.2.tar.gz (20 kB)\n",
            "Requirement already satisfied: wcwidth>=0.1.7 in /usr/local/lib/python3.7/dist-packages (from cmd2>=1.0.0->cliff->optuna) (0.2.5)\n",
            "Requirement already satisfied: attrs>=16.3.0 in /usr/local/lib/python3.7/dist-packages (from cmd2>=1.0.0->cliff->optuna) (21.4.0)\n",
            "Requirement already satisfied: typing-extensions in /usr/local/lib/python3.7/dist-packages (from cmd2>=1.0.0->cliff->optuna) (4.2.0)\n",
            "Requirement already satisfied: zipp>=0.5 in /usr/local/lib/python3.7/dist-packages (from importlib-metadata->sqlalchemy>=1.1.0->optuna) (3.8.0)\n",
            "Requirement already satisfied: MarkupSafe>=0.9.2 in /usr/local/lib/python3.7/dist-packages (from Mako->alembic->optuna) (2.0.1)\n",
            "Building wheels for collected packages: pyperclip\n",
            "  Building wheel for pyperclip (setup.py) ... \u001b[?25l\u001b[?25hdone\n",
            "  Created wheel for pyperclip: filename=pyperclip-1.8.2-py3-none-any.whl size=11137 sha256=5c3f008f08a750eb5099b267aaa9167d82fb874f51d6e517ea43c5999c7bc15d\n",
            "  Stored in directory: /root/.cache/pip/wheels/9f/18/84/8f69f8b08169c7bae2dde6bd7daf0c19fca8c8e500ee620a28\n",
            "Successfully built pyperclip\n",
            "Installing collected packages: pyperclip, pbr, stevedore, Mako, cmd2, autopage, colorlog, cmaes, cliff, alembic, optuna\n",
            "Successfully installed Mako-1.2.0 alembic-1.7.7 autopage-0.5.0 cliff-3.10.1 cmaes-0.8.2 cmd2-2.4.1 colorlog-6.6.0 optuna-2.10.0 pbr-5.9.0 pyperclip-1.8.2 stevedore-3.5.0\n"
          ]
        }
      ],
      "source": [
        "!pip install catboost\n",
        "!pip install category_encoders\n",
        "!pip install optuna\n",
        "import warnings\n",
        "warnings.filterwarnings('ignore')\n",
        "import pandas as pd\n",
        "pd.set_option(\"display.max_columns\", None)\n",
        "import seaborn as sns\n",
        "import matplotlib.pyplot as plt\n",
        "import sklearn\n",
        "import optuna\n",
        "import xgboost as xgb"
      ]
    },
    {
      "cell_type": "code",
      "execution_count": null,
      "metadata": {
        "id": "031jXb55udZM"
      },
      "outputs": [],
      "source": [
        "### Utility function \n",
        "from sklearn.metrics import accuracy_score,f1_score,precision_score,recall_score,classification_report,confusion_matrix,roc_auc_score\n",
        "def acc(features,target,classifier):\n",
        "    return {metrics.__name__ : metrics(target,classifier.predict(features)) for metrics in [accuracy_score,f1_score,precision_score,recall_score]}\n",
        "\n",
        "def acc_th(features,target,classifier,th):\n",
        "    return {metrics.__name__ : metrics(target,classifier.predict_proba(features)[:,1]>th) for metrics in [accuracy_score,f1_score,precision_score,recall_score]}\n",
        "\n",
        "def acc_pd(features,target,classifier,th,metrics='metrics'):\n",
        "    return pd.DataFrame(list(acc_th(features,target,classifier,th).items()), columns=['metric',metrics])\n",
        "\n",
        "def Classification_Report(features,target,classifier):\n",
        "    return classification_report(target,classifier.predict(features))\n",
        "\n",
        "def Classification_Report_th(features,target,classifier,th):\n",
        "    return classification_report(target,classifier.predict_proba(features)[:,1]>th)\n",
        "\n",
        "def Confusion_Matrix(features,target,classifier):\n",
        "    return confusion_matrix(target,classifier.predict(features))\n",
        "\n",
        "def roc_auc(features,target,classifier):\n",
        "    return roc_auc_score(target,classifier.predict_proba(features)[:,1])\n",
        "\n",
        "\n",
        "import matplotlib.pyplot as plt\n",
        "def roc_plot(feature,target,classifier):\n",
        "    fpr, tpr, _ = sklearn.metrics.roc_curve(target,  classifier.predict_proba(feature)[:,1])\n",
        "    plt.plot(fpr,tpr)\n",
        "    plt.ylabel('True Positive Rate')\n",
        "    plt.xlabel('False Positive Rate')\n",
        "    plt.show()\n",
        "\n",
        "\n",
        "\n",
        "### Utility to get feature Importance\n",
        "def FeatureImportance(features,fi):\n",
        "    fi=pd.DataFrame(fi).T\n",
        "    fi.columns=features.columns\n",
        "    fi=fi.T\n",
        "    fi.columns=['Importance']\n",
        "    return fi.sort_values(by='Importance',ascending=False)\n",
        "\n",
        "\n",
        "########## plotting feature importance\n",
        "def feature_imp_plot(features,fi):\n",
        "    df=FeatureImportance(features,fi)\n",
        "    df=df.reset_index()\n",
        "    df['cumulative_imp']=df['Importance'].cumsum() * 100\n",
        "    plt.figure(figsize=(15,8))\n",
        "    ax=sns.barplot(x='cumulative_imp',y='index',data=df)\n",
        "    plt.show()\n",
        "    print(df)\n",
        "\n",
        "### Precision Recall curve\n",
        "from sklearn.metrics import precision_recall_curve\n",
        "def Precision_Recall_curve(feature,target,classifier):\n",
        "    precision, recall, th = precision_recall_curve(target, classifier.predict_proba(feature)[:,1])\n",
        "    plt.plot(th, precision[1:], label=\"Precision\",linewidth=5) \n",
        "    plt.plot(th, recall[1:], label=\"Recall\",linewidth=5) \n",
        "    plt.title('Precision and recall for different threshold values') \n",
        "    plt.xlabel('Threshold') \n",
        "    plt.ylabel('Precision/Recall') \n",
        "    plt.legend() \n",
        "    plt.show()\n",
        "\n",
        "#### Decile report\n",
        "def decile_report_binary(feature,target,classifier,q):\n",
        "    Y=decile_input(feature,target,classifier)\n",
        "    Y['y_0']=list(map(lambda x: 1 if x==0.0 else 0,Y['actual']))\n",
        "    contacts=Y['actual'].count()\n",
        "    reponders=1.0*Y['actual'].sum()\n",
        "    deceivers=1.0*Y['y_0'].sum()\n",
        "    resp_rate=reponders/contacts\n",
        "    print('Response Rate:{}%'.format(resp_rate*100))\n",
        "    Y.sort_values(by=['score'],ascending=False,inplace=True)\n",
        "    Y['rank']=Y[['score']].rank(method='first',ascending=False)\n",
        "    Y['decile']=pd.qcut(Y['rank'],q,labels=False)\n",
        "    perf=pd.DataFrame()\n",
        "    perf['freq']=Y.groupby(by='decile')['actual'].count()\n",
        "    perf['act_mean']=Y.groupby(by='decile')['actual'].mean()\n",
        "    perf['prob_mean']=Y.groupby(by='decile')['score'].mean()\n",
        "    perf['prob_min']=Y.groupby(by='decile')['score'].min()\n",
        "    perf['prob_max']=Y.groupby(by='decile')['score'].max()\n",
        "    perf['num_1']=Y.groupby(by='decile')['actual'].sum()\n",
        "    perf['num_0']=Y.groupby(by='decile')['y_0'].sum()\n",
        "    perf=perf.reset_index()\n",
        "    perf['decile']=perf.decile.map(lambda x:x+1)\n",
        "    perf['cum_1']=perf['num_1'].rolling(window=len(perf),min_periods=1).sum()\n",
        "    perf['cum_0']=perf['num_0'].rolling(window=len(perf),min_periods=1).sum()\n",
        "    perf['per_cum_1']=perf['cum_1']/reponders*100\n",
        "    perf['per_cum_0']=perf['cum_0']/deceivers*100\n",
        "    perf['event_rate']=list(map(lambda x,y,z:y/(x*z)*100,perf['decile'],perf['cum_1'],perf['freq']))\n",
        "    perf['cum_lift']=perf['event_rate']/(resp_rate*100)\n",
        "    perf['capture_rate']=perf['num_1']/perf['num_1'].sum()\n",
        "    print(perf)\n",
        "    return perf\n",
        "\n",
        "def decile_input(feature,target,classifier):\n",
        "    Y=pd.DataFrame()\n",
        "    Y['actual']=target\n",
        "    Y.reset_index(inplace=True)\n",
        "    Y.drop('index',axis=1,inplace=True)\n",
        "    Y['score']=classifier.predict_proba(feature)[:,1]\n",
        "    return Y\n",
        "\n",
        "\n",
        "\n",
        "\n",
        "\n"
      ]
    },
    {
      "cell_type": "markdown",
      "metadata": {
        "id": "d4ldG5oR_7LC"
      },
      "source": [
        "##### Loading Data"
      ]
    },
    {
      "cell_type": "code",
      "execution_count": null,
      "metadata": {
        "colab": {
          "base_uri": "https://localhost:8080/"
        },
        "id": "cpmVH4dd9YD5",
        "outputId": "00693ff7-eaec-419b-eb1f-151684448c66"
      },
      "outputs": [
        {
          "name": "stdout",
          "output_type": "stream",
          "text": [
            "Mounted at /content/drive\n"
          ]
        }
      ],
      "source": [
        "from google.colab import drive\n",
        "drive.mount('/content/drive')"
      ]
    },
    {
      "cell_type": "code",
      "execution_count": null,
      "metadata": {
        "id": "4-sw0n92rk7Y"
      },
      "outputs": [],
      "source": [
        "df=pd.read_csv('/content/drive/MyDrive/data (1).csv')\n",
        "metadata=pd.read_csv('/content/drive/MyDrive/metadata.csv')"
      ]
    },
    {
      "cell_type": "markdown",
      "metadata": {
        "id": "SXoUkYigAD5D"
      },
      "source": [
        "###### Checking the shape, Missing Values and Outliers"
      ]
    },
    {
      "cell_type": "code",
      "execution_count": null,
      "metadata": {
        "colab": {
          "base_uri": "https://localhost:8080/"
        },
        "id": "GvZQNVeOrsor",
        "outputId": "23252a91-eda2-4bb6-abf2-c10dd9f7e785"
      },
      "outputs": [
        {
          "data": {
            "text/plain": [
              "(99999, 27)"
            ]
          },
          "execution_count": 5,
          "metadata": {},
          "output_type": "execute_result"
        }
      ],
      "source": [
        "## Checking File is loaded properly, Checking the shape of file \n",
        "df.shape"
      ]
    },
    {
      "cell_type": "code",
      "execution_count": null,
      "metadata": {
        "colab": {
          "base_uri": "https://localhost:8080/",
          "height": 270
        },
        "id": "WG7MZNRHsYkF",
        "outputId": "7af34c91-6af5-4b35-fe20-0750db317cdb"
      },
      "outputs": [
        {
          "data": {
            "text/html": [
              "\n",
              "  <div id=\"df-ce9351e2-a8ff-4430-8d5b-9780c616efb2\">\n",
              "    <div class=\"colab-df-container\">\n",
              "      <div>\n",
              "<style scoped>\n",
              "    .dataframe tbody tr th:only-of-type {\n",
              "        vertical-align: middle;\n",
              "    }\n",
              "\n",
              "    .dataframe tbody tr th {\n",
              "        vertical-align: top;\n",
              "    }\n",
              "\n",
              "    .dataframe thead th {\n",
              "        text-align: right;\n",
              "    }\n",
              "</style>\n",
              "<table border=\"1\" class=\"dataframe\">\n",
              "  <thead>\n",
              "    <tr style=\"text-align: right;\">\n",
              "      <th></th>\n",
              "      <th>click</th>\n",
              "      <th>C1</th>\n",
              "      <th>banner_pos</th>\n",
              "      <th>site_id</th>\n",
              "      <th>site_domain</th>\n",
              "      <th>site_category</th>\n",
              "      <th>app_id</th>\n",
              "      <th>app_domain</th>\n",
              "      <th>app_category</th>\n",
              "      <th>device_id</th>\n",
              "      <th>device_ip</th>\n",
              "      <th>device_model</th>\n",
              "      <th>device_type</th>\n",
              "      <th>device_conn_type</th>\n",
              "      <th>C14</th>\n",
              "      <th>C15</th>\n",
              "      <th>C16</th>\n",
              "      <th>C17</th>\n",
              "      <th>C18</th>\n",
              "      <th>C19</th>\n",
              "      <th>C20</th>\n",
              "      <th>C21</th>\n",
              "      <th>month</th>\n",
              "      <th>dayofweek</th>\n",
              "      <th>day</th>\n",
              "      <th>hour</th>\n",
              "      <th>y</th>\n",
              "    </tr>\n",
              "  </thead>\n",
              "  <tbody>\n",
              "    <tr>\n",
              "      <th>0</th>\n",
              "      <td>False</td>\n",
              "      <td>1005</td>\n",
              "      <td>1</td>\n",
              "      <td>856e6d3f</td>\n",
              "      <td>58a89a43</td>\n",
              "      <td>f028772b</td>\n",
              "      <td>ecad2386</td>\n",
              "      <td>7801e8d9</td>\n",
              "      <td>07d7df22</td>\n",
              "      <td>a99f214a</td>\n",
              "      <td>962c8333</td>\n",
              "      <td>be6db1d7</td>\n",
              "      <td>1</td>\n",
              "      <td>0</td>\n",
              "      <td>22683</td>\n",
              "      <td>320</td>\n",
              "      <td>50</td>\n",
              "      <td>2528</td>\n",
              "      <td>0</td>\n",
              "      <td>39</td>\n",
              "      <td>100075</td>\n",
              "      <td>221</td>\n",
              "      <td>10</td>\n",
              "      <td>1</td>\n",
              "      <td>28</td>\n",
              "      <td>14</td>\n",
              "      <td>0</td>\n",
              "    </tr>\n",
              "    <tr>\n",
              "      <th>1</th>\n",
              "      <td>True</td>\n",
              "      <td>1005</td>\n",
              "      <td>1</td>\n",
              "      <td>e151e245</td>\n",
              "      <td>7e091613</td>\n",
              "      <td>f028772b</td>\n",
              "      <td>ecad2386</td>\n",
              "      <td>7801e8d9</td>\n",
              "      <td>07d7df22</td>\n",
              "      <td>a99f214a</td>\n",
              "      <td>5b1f94b9</td>\n",
              "      <td>1b13b020</td>\n",
              "      <td>1</td>\n",
              "      <td>0</td>\n",
              "      <td>17037</td>\n",
              "      <td>320</td>\n",
              "      <td>50</td>\n",
              "      <td>1934</td>\n",
              "      <td>2</td>\n",
              "      <td>39</td>\n",
              "      <td>-1</td>\n",
              "      <td>16</td>\n",
              "      <td>10</td>\n",
              "      <td>2</td>\n",
              "      <td>22</td>\n",
              "      <td>19</td>\n",
              "      <td>1</td>\n",
              "    </tr>\n",
              "    <tr>\n",
              "      <th>2</th>\n",
              "      <td>False</td>\n",
              "      <td>1005</td>\n",
              "      <td>0</td>\n",
              "      <td>e3c09f3a</td>\n",
              "      <td>d262cf1e</td>\n",
              "      <td>28905ebd</td>\n",
              "      <td>ecad2386</td>\n",
              "      <td>7801e8d9</td>\n",
              "      <td>07d7df22</td>\n",
              "      <td>a99f214a</td>\n",
              "      <td>a9a84f4c</td>\n",
              "      <td>9a45a8e8</td>\n",
              "      <td>1</td>\n",
              "      <td>0</td>\n",
              "      <td>22155</td>\n",
              "      <td>320</td>\n",
              "      <td>50</td>\n",
              "      <td>2552</td>\n",
              "      <td>3</td>\n",
              "      <td>167</td>\n",
              "      <td>100202</td>\n",
              "      <td>23</td>\n",
              "      <td>10</td>\n",
              "      <td>3</td>\n",
              "      <td>23</td>\n",
              "      <td>18</td>\n",
              "      <td>0</td>\n",
              "    </tr>\n",
              "    <tr>\n",
              "      <th>3</th>\n",
              "      <td>False</td>\n",
              "      <td>1002</td>\n",
              "      <td>0</td>\n",
              "      <td>0da94452</td>\n",
              "      <td>248e439f</td>\n",
              "      <td>50e219e0</td>\n",
              "      <td>ecad2386</td>\n",
              "      <td>7801e8d9</td>\n",
              "      <td>07d7df22</td>\n",
              "      <td>0fa578fd</td>\n",
              "      <td>88c62dad</td>\n",
              "      <td>ea6abc60</td>\n",
              "      <td>0</td>\n",
              "      <td>0</td>\n",
              "      <td>21591</td>\n",
              "      <td>320</td>\n",
              "      <td>50</td>\n",
              "      <td>2478</td>\n",
              "      <td>3</td>\n",
              "      <td>167</td>\n",
              "      <td>100074</td>\n",
              "      <td>23</td>\n",
              "      <td>10</td>\n",
              "      <td>2</td>\n",
              "      <td>22</td>\n",
              "      <td>19</td>\n",
              "      <td>0</td>\n",
              "    </tr>\n",
              "    <tr>\n",
              "      <th>4</th>\n",
              "      <td>True</td>\n",
              "      <td>1005</td>\n",
              "      <td>0</td>\n",
              "      <td>1fbe01fe</td>\n",
              "      <td>f3845767</td>\n",
              "      <td>28905ebd</td>\n",
              "      <td>ecad2386</td>\n",
              "      <td>7801e8d9</td>\n",
              "      <td>07d7df22</td>\n",
              "      <td>a99f214a</td>\n",
              "      <td>1e5e0d0e</td>\n",
              "      <td>36d749e5</td>\n",
              "      <td>1</td>\n",
              "      <td>0</td>\n",
              "      <td>15708</td>\n",
              "      <td>320</td>\n",
              "      <td>50</td>\n",
              "      <td>1722</td>\n",
              "      <td>0</td>\n",
              "      <td>35</td>\n",
              "      <td>-1</td>\n",
              "      <td>79</td>\n",
              "      <td>10</td>\n",
              "      <td>1</td>\n",
              "      <td>21</td>\n",
              "      <td>8</td>\n",
              "      <td>1</td>\n",
              "    </tr>\n",
              "  </tbody>\n",
              "</table>\n",
              "</div>\n",
              "      <button class=\"colab-df-convert\" onclick=\"convertToInteractive('df-ce9351e2-a8ff-4430-8d5b-9780c616efb2')\"\n",
              "              title=\"Convert this dataframe to an interactive table.\"\n",
              "              style=\"display:none;\">\n",
              "        \n",
              "  <svg xmlns=\"http://www.w3.org/2000/svg\" height=\"24px\"viewBox=\"0 0 24 24\"\n",
              "       width=\"24px\">\n",
              "    <path d=\"M0 0h24v24H0V0z\" fill=\"none\"/>\n",
              "    <path d=\"M18.56 5.44l.94 2.06.94-2.06 2.06-.94-2.06-.94-.94-2.06-.94 2.06-2.06.94zm-11 1L8.5 8.5l.94-2.06 2.06-.94-2.06-.94L8.5 2.5l-.94 2.06-2.06.94zm10 10l.94 2.06.94-2.06 2.06-.94-2.06-.94-.94-2.06-.94 2.06-2.06.94z\"/><path d=\"M17.41 7.96l-1.37-1.37c-.4-.4-.92-.59-1.43-.59-.52 0-1.04.2-1.43.59L10.3 9.45l-7.72 7.72c-.78.78-.78 2.05 0 2.83L4 21.41c.39.39.9.59 1.41.59.51 0 1.02-.2 1.41-.59l7.78-7.78 2.81-2.81c.8-.78.8-2.07 0-2.86zM5.41 20L4 18.59l7.72-7.72 1.47 1.35L5.41 20z\"/>\n",
              "  </svg>\n",
              "      </button>\n",
              "      \n",
              "  <style>\n",
              "    .colab-df-container {\n",
              "      display:flex;\n",
              "      flex-wrap:wrap;\n",
              "      gap: 12px;\n",
              "    }\n",
              "\n",
              "    .colab-df-convert {\n",
              "      background-color: #E8F0FE;\n",
              "      border: none;\n",
              "      border-radius: 50%;\n",
              "      cursor: pointer;\n",
              "      display: none;\n",
              "      fill: #1967D2;\n",
              "      height: 32px;\n",
              "      padding: 0 0 0 0;\n",
              "      width: 32px;\n",
              "    }\n",
              "\n",
              "    .colab-df-convert:hover {\n",
              "      background-color: #E2EBFA;\n",
              "      box-shadow: 0px 1px 2px rgba(60, 64, 67, 0.3), 0px 1px 3px 1px rgba(60, 64, 67, 0.15);\n",
              "      fill: #174EA6;\n",
              "    }\n",
              "\n",
              "    [theme=dark] .colab-df-convert {\n",
              "      background-color: #3B4455;\n",
              "      fill: #D2E3FC;\n",
              "    }\n",
              "\n",
              "    [theme=dark] .colab-df-convert:hover {\n",
              "      background-color: #434B5C;\n",
              "      box-shadow: 0px 1px 3px 1px rgba(0, 0, 0, 0.15);\n",
              "      filter: drop-shadow(0px 1px 2px rgba(0, 0, 0, 0.3));\n",
              "      fill: #FFFFFF;\n",
              "    }\n",
              "  </style>\n",
              "\n",
              "      <script>\n",
              "        const buttonEl =\n",
              "          document.querySelector('#df-ce9351e2-a8ff-4430-8d5b-9780c616efb2 button.colab-df-convert');\n",
              "        buttonEl.style.display =\n",
              "          google.colab.kernel.accessAllowed ? 'block' : 'none';\n",
              "\n",
              "        async function convertToInteractive(key) {\n",
              "          const element = document.querySelector('#df-ce9351e2-a8ff-4430-8d5b-9780c616efb2');\n",
              "          const dataTable =\n",
              "            await google.colab.kernel.invokeFunction('convertToInteractive',\n",
              "                                                     [key], {});\n",
              "          if (!dataTable) return;\n",
              "\n",
              "          const docLinkHtml = 'Like what you see? Visit the ' +\n",
              "            '<a target=\"_blank\" href=https://colab.research.google.com/notebooks/data_table.ipynb>data table notebook</a>'\n",
              "            + ' to learn more about interactive tables.';\n",
              "          element.innerHTML = '';\n",
              "          dataTable['output_type'] = 'display_data';\n",
              "          await google.colab.output.renderOutput(dataTable, element);\n",
              "          const docLink = document.createElement('div');\n",
              "          docLink.innerHTML = docLinkHtml;\n",
              "          element.appendChild(docLink);\n",
              "        }\n",
              "      </script>\n",
              "    </div>\n",
              "  </div>\n",
              "  "
            ],
            "text/plain": [
              "   click    C1  banner_pos   site_id site_domain site_category    app_id  \\\n",
              "0  False  1005           1  856e6d3f    58a89a43      f028772b  ecad2386   \n",
              "1   True  1005           1  e151e245    7e091613      f028772b  ecad2386   \n",
              "2  False  1005           0  e3c09f3a    d262cf1e      28905ebd  ecad2386   \n",
              "3  False  1002           0  0da94452    248e439f      50e219e0  ecad2386   \n",
              "4   True  1005           0  1fbe01fe    f3845767      28905ebd  ecad2386   \n",
              "\n",
              "  app_domain app_category device_id device_ip device_model  device_type  \\\n",
              "0   7801e8d9     07d7df22  a99f214a  962c8333     be6db1d7            1   \n",
              "1   7801e8d9     07d7df22  a99f214a  5b1f94b9     1b13b020            1   \n",
              "2   7801e8d9     07d7df22  a99f214a  a9a84f4c     9a45a8e8            1   \n",
              "3   7801e8d9     07d7df22  0fa578fd  88c62dad     ea6abc60            0   \n",
              "4   7801e8d9     07d7df22  a99f214a  1e5e0d0e     36d749e5            1   \n",
              "\n",
              "   device_conn_type    C14  C15  C16   C17  C18  C19     C20  C21  month  \\\n",
              "0                 0  22683  320   50  2528    0   39  100075  221     10   \n",
              "1                 0  17037  320   50  1934    2   39      -1   16     10   \n",
              "2                 0  22155  320   50  2552    3  167  100202   23     10   \n",
              "3                 0  21591  320   50  2478    3  167  100074   23     10   \n",
              "4                 0  15708  320   50  1722    0   35      -1   79     10   \n",
              "\n",
              "   dayofweek  day  hour  y  \n",
              "0          1   28    14  0  \n",
              "1          2   22    19  1  \n",
              "2          3   23    18  0  \n",
              "3          2   22    19  0  \n",
              "4          1   21     8  1  "
            ]
          },
          "execution_count": 6,
          "metadata": {},
          "output_type": "execute_result"
        }
      ],
      "source": [
        "## printing top 5 records to get intution about data\n",
        "df.head()"
      ]
    },
    {
      "cell_type": "code",
      "execution_count": null,
      "metadata": {
        "colab": {
          "base_uri": "https://localhost:8080/"
        },
        "id": "PHTIdEGisc2P",
        "outputId": "dc0fb7da-5eb9-4baf-c45f-2e86a0c4c592"
      },
      "outputs": [
        {
          "name": "stdout",
          "output_type": "stream",
          "text": [
            "<class 'pandas.core.frame.DataFrame'>\n",
            "RangeIndex: 99999 entries, 0 to 99998\n",
            "Data columns (total 27 columns):\n",
            " #   Column            Non-Null Count  Dtype \n",
            "---  ------            --------------  ----- \n",
            " 0   click             99999 non-null  bool  \n",
            " 1   C1                99999 non-null  int64 \n",
            " 2   banner_pos        99999 non-null  int64 \n",
            " 3   site_id           99999 non-null  object\n",
            " 4   site_domain       99999 non-null  object\n",
            " 5   site_category     99999 non-null  object\n",
            " 6   app_id            99999 non-null  object\n",
            " 7   app_domain        99999 non-null  object\n",
            " 8   app_category      99999 non-null  object\n",
            " 9   device_id         99999 non-null  object\n",
            " 10  device_ip         99999 non-null  object\n",
            " 11  device_model      99999 non-null  object\n",
            " 12  device_type       99999 non-null  int64 \n",
            " 13  device_conn_type  99999 non-null  int64 \n",
            " 14  C14               99999 non-null  int64 \n",
            " 15  C15               99999 non-null  int64 \n",
            " 16  C16               99999 non-null  int64 \n",
            " 17  C17               99999 non-null  int64 \n",
            " 18  C18               99999 non-null  int64 \n",
            " 19  C19               99999 non-null  int64 \n",
            " 20  C20               99999 non-null  int64 \n",
            " 21  C21               99999 non-null  int64 \n",
            " 22  month             99999 non-null  int64 \n",
            " 23  dayofweek         99999 non-null  int64 \n",
            " 24  day               99999 non-null  int64 \n",
            " 25  hour              99999 non-null  int64 \n",
            " 26  y                 99999 non-null  int64 \n",
            "dtypes: bool(1), int64(17), object(9)\n",
            "memory usage: 19.9+ MB\n"
          ]
        }
      ],
      "source": [
        "## Checking data types\n",
        "df.info()\n",
        "\n",
        "### there are 9 object data types "
      ]
    },
    {
      "cell_type": "code",
      "execution_count": null,
      "metadata": {
        "colab": {
          "base_uri": "https://localhost:8080/",
          "height": 582
        },
        "id": "REbiiZgssgxR",
        "outputId": "e7788478-26f7-4a9b-991b-94d5ca3e3f6f"
      },
      "outputs": [
        {
          "data": {
            "text/html": [
              "\n",
              "  <div id=\"df-a6c18df7-ab24-4d18-a796-0bb99cc6ac06\">\n",
              "    <div class=\"colab-df-container\">\n",
              "      <div>\n",
              "<style scoped>\n",
              "    .dataframe tbody tr th:only-of-type {\n",
              "        vertical-align: middle;\n",
              "    }\n",
              "\n",
              "    .dataframe tbody tr th {\n",
              "        vertical-align: top;\n",
              "    }\n",
              "\n",
              "    .dataframe thead th {\n",
              "        text-align: right;\n",
              "    }\n",
              "</style>\n",
              "<table border=\"1\" class=\"dataframe\">\n",
              "  <thead>\n",
              "    <tr style=\"text-align: right;\">\n",
              "      <th></th>\n",
              "      <th>count</th>\n",
              "      <th>mean</th>\n",
              "      <th>std</th>\n",
              "      <th>min</th>\n",
              "      <th>25%</th>\n",
              "      <th>50%</th>\n",
              "      <th>75%</th>\n",
              "      <th>max</th>\n",
              "    </tr>\n",
              "  </thead>\n",
              "  <tbody>\n",
              "    <tr>\n",
              "      <th>C1</th>\n",
              "      <td>99999.0</td>\n",
              "      <td>1004.967550</td>\n",
              "      <td>1.091916</td>\n",
              "      <td>1001.0</td>\n",
              "      <td>1005.0</td>\n",
              "      <td>1005.0</td>\n",
              "      <td>1005.0</td>\n",
              "      <td>1012.0</td>\n",
              "    </tr>\n",
              "    <tr>\n",
              "      <th>banner_pos</th>\n",
              "      <td>99999.0</td>\n",
              "      <td>0.289943</td>\n",
              "      <td>0.505707</td>\n",
              "      <td>0.0</td>\n",
              "      <td>0.0</td>\n",
              "      <td>0.0</td>\n",
              "      <td>1.0</td>\n",
              "      <td>7.0</td>\n",
              "    </tr>\n",
              "    <tr>\n",
              "      <th>device_type</th>\n",
              "      <td>99999.0</td>\n",
              "      <td>1.016390</td>\n",
              "      <td>0.531100</td>\n",
              "      <td>0.0</td>\n",
              "      <td>1.0</td>\n",
              "      <td>1.0</td>\n",
              "      <td>1.0</td>\n",
              "      <td>5.0</td>\n",
              "    </tr>\n",
              "    <tr>\n",
              "      <th>device_conn_type</th>\n",
              "      <td>99999.0</td>\n",
              "      <td>0.329453</td>\n",
              "      <td>0.854673</td>\n",
              "      <td>0.0</td>\n",
              "      <td>0.0</td>\n",
              "      <td>0.0</td>\n",
              "      <td>0.0</td>\n",
              "      <td>5.0</td>\n",
              "    </tr>\n",
              "    <tr>\n",
              "      <th>C14</th>\n",
              "      <td>99999.0</td>\n",
              "      <td>18857.231732</td>\n",
              "      <td>4944.919482</td>\n",
              "      <td>375.0</td>\n",
              "      <td>16920.0</td>\n",
              "      <td>20346.0</td>\n",
              "      <td>21893.0</td>\n",
              "      <td>24043.0</td>\n",
              "    </tr>\n",
              "    <tr>\n",
              "      <th>C15</th>\n",
              "      <td>99999.0</td>\n",
              "      <td>318.834548</td>\n",
              "      <td>21.510752</td>\n",
              "      <td>120.0</td>\n",
              "      <td>320.0</td>\n",
              "      <td>320.0</td>\n",
              "      <td>320.0</td>\n",
              "      <td>1024.0</td>\n",
              "    </tr>\n",
              "    <tr>\n",
              "      <th>C16</th>\n",
              "      <td>99999.0</td>\n",
              "      <td>60.278743</td>\n",
              "      <td>47.713436</td>\n",
              "      <td>20.0</td>\n",
              "      <td>50.0</td>\n",
              "      <td>50.0</td>\n",
              "      <td>50.0</td>\n",
              "      <td>1024.0</td>\n",
              "    </tr>\n",
              "    <tr>\n",
              "      <th>C17</th>\n",
              "      <td>99999.0</td>\n",
              "      <td>2114.613036</td>\n",
              "      <td>607.469442</td>\n",
              "      <td>112.0</td>\n",
              "      <td>1863.0</td>\n",
              "      <td>2323.0</td>\n",
              "      <td>2526.0</td>\n",
              "      <td>2757.0</td>\n",
              "    </tr>\n",
              "    <tr>\n",
              "      <th>C18</th>\n",
              "      <td>99999.0</td>\n",
              "      <td>1.439904</td>\n",
              "      <td>1.326824</td>\n",
              "      <td>0.0</td>\n",
              "      <td>0.0</td>\n",
              "      <td>2.0</td>\n",
              "      <td>3.0</td>\n",
              "      <td>3.0</td>\n",
              "    </tr>\n",
              "    <tr>\n",
              "      <th>C19</th>\n",
              "      <td>99999.0</td>\n",
              "      <td>227.234932</td>\n",
              "      <td>351.472366</td>\n",
              "      <td>33.0</td>\n",
              "      <td>35.0</td>\n",
              "      <td>39.0</td>\n",
              "      <td>171.0</td>\n",
              "      <td>1839.0</td>\n",
              "    </tr>\n",
              "    <tr>\n",
              "      <th>C20</th>\n",
              "      <td>99999.0</td>\n",
              "      <td>53292.001950</td>\n",
              "      <td>49952.340367</td>\n",
              "      <td>-1.0</td>\n",
              "      <td>-1.0</td>\n",
              "      <td>100050.0</td>\n",
              "      <td>100093.0</td>\n",
              "      <td>100248.0</td>\n",
              "    </tr>\n",
              "    <tr>\n",
              "      <th>C21</th>\n",
              "      <td>99999.0</td>\n",
              "      <td>83.163542</td>\n",
              "      <td>70.161076</td>\n",
              "      <td>1.0</td>\n",
              "      <td>23.0</td>\n",
              "      <td>61.0</td>\n",
              "      <td>101.0</td>\n",
              "      <td>255.0</td>\n",
              "    </tr>\n",
              "    <tr>\n",
              "      <th>month</th>\n",
              "      <td>99999.0</td>\n",
              "      <td>10.000000</td>\n",
              "      <td>0.000000</td>\n",
              "      <td>10.0</td>\n",
              "      <td>10.0</td>\n",
              "      <td>10.0</td>\n",
              "      <td>10.0</td>\n",
              "      <td>10.0</td>\n",
              "    </tr>\n",
              "    <tr>\n",
              "      <th>dayofweek</th>\n",
              "      <td>99999.0</td>\n",
              "      <td>2.592836</td>\n",
              "      <td>1.723003</td>\n",
              "      <td>0.0</td>\n",
              "      <td>1.0</td>\n",
              "      <td>2.0</td>\n",
              "      <td>4.0</td>\n",
              "      <td>6.0</td>\n",
              "    </tr>\n",
              "    <tr>\n",
              "      <th>day</th>\n",
              "      <td>99999.0</td>\n",
              "      <td>25.485755</td>\n",
              "      <td>2.968520</td>\n",
              "      <td>21.0</td>\n",
              "      <td>23.0</td>\n",
              "      <td>26.0</td>\n",
              "      <td>28.0</td>\n",
              "      <td>30.0</td>\n",
              "    </tr>\n",
              "    <tr>\n",
              "      <th>hour</th>\n",
              "      <td>99999.0</td>\n",
              "      <td>11.300673</td>\n",
              "      <td>5.938725</td>\n",
              "      <td>0.0</td>\n",
              "      <td>7.0</td>\n",
              "      <td>11.0</td>\n",
              "      <td>16.0</td>\n",
              "      <td>23.0</td>\n",
              "    </tr>\n",
              "    <tr>\n",
              "      <th>y</th>\n",
              "      <td>99999.0</td>\n",
              "      <td>0.169802</td>\n",
              "      <td>0.375460</td>\n",
              "      <td>0.0</td>\n",
              "      <td>0.0</td>\n",
              "      <td>0.0</td>\n",
              "      <td>0.0</td>\n",
              "      <td>1.0</td>\n",
              "    </tr>\n",
              "  </tbody>\n",
              "</table>\n",
              "</div>\n",
              "      <button class=\"colab-df-convert\" onclick=\"convertToInteractive('df-a6c18df7-ab24-4d18-a796-0bb99cc6ac06')\"\n",
              "              title=\"Convert this dataframe to an interactive table.\"\n",
              "              style=\"display:none;\">\n",
              "        \n",
              "  <svg xmlns=\"http://www.w3.org/2000/svg\" height=\"24px\"viewBox=\"0 0 24 24\"\n",
              "       width=\"24px\">\n",
              "    <path d=\"M0 0h24v24H0V0z\" fill=\"none\"/>\n",
              "    <path d=\"M18.56 5.44l.94 2.06.94-2.06 2.06-.94-2.06-.94-.94-2.06-.94 2.06-2.06.94zm-11 1L8.5 8.5l.94-2.06 2.06-.94-2.06-.94L8.5 2.5l-.94 2.06-2.06.94zm10 10l.94 2.06.94-2.06 2.06-.94-2.06-.94-.94-2.06-.94 2.06-2.06.94z\"/><path d=\"M17.41 7.96l-1.37-1.37c-.4-.4-.92-.59-1.43-.59-.52 0-1.04.2-1.43.59L10.3 9.45l-7.72 7.72c-.78.78-.78 2.05 0 2.83L4 21.41c.39.39.9.59 1.41.59.51 0 1.02-.2 1.41-.59l7.78-7.78 2.81-2.81c.8-.78.8-2.07 0-2.86zM5.41 20L4 18.59l7.72-7.72 1.47 1.35L5.41 20z\"/>\n",
              "  </svg>\n",
              "      </button>\n",
              "      \n",
              "  <style>\n",
              "    .colab-df-container {\n",
              "      display:flex;\n",
              "      flex-wrap:wrap;\n",
              "      gap: 12px;\n",
              "    }\n",
              "\n",
              "    .colab-df-convert {\n",
              "      background-color: #E8F0FE;\n",
              "      border: none;\n",
              "      border-radius: 50%;\n",
              "      cursor: pointer;\n",
              "      display: none;\n",
              "      fill: #1967D2;\n",
              "      height: 32px;\n",
              "      padding: 0 0 0 0;\n",
              "      width: 32px;\n",
              "    }\n",
              "\n",
              "    .colab-df-convert:hover {\n",
              "      background-color: #E2EBFA;\n",
              "      box-shadow: 0px 1px 2px rgba(60, 64, 67, 0.3), 0px 1px 3px 1px rgba(60, 64, 67, 0.15);\n",
              "      fill: #174EA6;\n",
              "    }\n",
              "\n",
              "    [theme=dark] .colab-df-convert {\n",
              "      background-color: #3B4455;\n",
              "      fill: #D2E3FC;\n",
              "    }\n",
              "\n",
              "    [theme=dark] .colab-df-convert:hover {\n",
              "      background-color: #434B5C;\n",
              "      box-shadow: 0px 1px 3px 1px rgba(0, 0, 0, 0.15);\n",
              "      filter: drop-shadow(0px 1px 2px rgba(0, 0, 0, 0.3));\n",
              "      fill: #FFFFFF;\n",
              "    }\n",
              "  </style>\n",
              "\n",
              "      <script>\n",
              "        const buttonEl =\n",
              "          document.querySelector('#df-a6c18df7-ab24-4d18-a796-0bb99cc6ac06 button.colab-df-convert');\n",
              "        buttonEl.style.display =\n",
              "          google.colab.kernel.accessAllowed ? 'block' : 'none';\n",
              "\n",
              "        async function convertToInteractive(key) {\n",
              "          const element = document.querySelector('#df-a6c18df7-ab24-4d18-a796-0bb99cc6ac06');\n",
              "          const dataTable =\n",
              "            await google.colab.kernel.invokeFunction('convertToInteractive',\n",
              "                                                     [key], {});\n",
              "          if (!dataTable) return;\n",
              "\n",
              "          const docLinkHtml = 'Like what you see? Visit the ' +\n",
              "            '<a target=\"_blank\" href=https://colab.research.google.com/notebooks/data_table.ipynb>data table notebook</a>'\n",
              "            + ' to learn more about interactive tables.';\n",
              "          element.innerHTML = '';\n",
              "          dataTable['output_type'] = 'display_data';\n",
              "          await google.colab.output.renderOutput(dataTable, element);\n",
              "          const docLink = document.createElement('div');\n",
              "          docLink.innerHTML = docLinkHtml;\n",
              "          element.appendChild(docLink);\n",
              "        }\n",
              "      </script>\n",
              "    </div>\n",
              "  </div>\n",
              "  "
            ],
            "text/plain": [
              "                    count          mean           std     min      25%  \\\n",
              "C1                99999.0   1004.967550      1.091916  1001.0   1005.0   \n",
              "banner_pos        99999.0      0.289943      0.505707     0.0      0.0   \n",
              "device_type       99999.0      1.016390      0.531100     0.0      1.0   \n",
              "device_conn_type  99999.0      0.329453      0.854673     0.0      0.0   \n",
              "C14               99999.0  18857.231732   4944.919482   375.0  16920.0   \n",
              "C15               99999.0    318.834548     21.510752   120.0    320.0   \n",
              "C16               99999.0     60.278743     47.713436    20.0     50.0   \n",
              "C17               99999.0   2114.613036    607.469442   112.0   1863.0   \n",
              "C18               99999.0      1.439904      1.326824     0.0      0.0   \n",
              "C19               99999.0    227.234932    351.472366    33.0     35.0   \n",
              "C20               99999.0  53292.001950  49952.340367    -1.0     -1.0   \n",
              "C21               99999.0     83.163542     70.161076     1.0     23.0   \n",
              "month             99999.0     10.000000      0.000000    10.0     10.0   \n",
              "dayofweek         99999.0      2.592836      1.723003     0.0      1.0   \n",
              "day               99999.0     25.485755      2.968520    21.0     23.0   \n",
              "hour              99999.0     11.300673      5.938725     0.0      7.0   \n",
              "y                 99999.0      0.169802      0.375460     0.0      0.0   \n",
              "\n",
              "                       50%       75%       max  \n",
              "C1                  1005.0    1005.0    1012.0  \n",
              "banner_pos             0.0       1.0       7.0  \n",
              "device_type            1.0       1.0       5.0  \n",
              "device_conn_type       0.0       0.0       5.0  \n",
              "C14                20346.0   21893.0   24043.0  \n",
              "C15                  320.0     320.0    1024.0  \n",
              "C16                   50.0      50.0    1024.0  \n",
              "C17                 2323.0    2526.0    2757.0  \n",
              "C18                    2.0       3.0       3.0  \n",
              "C19                   39.0     171.0    1839.0  \n",
              "C20               100050.0  100093.0  100248.0  \n",
              "C21                   61.0     101.0     255.0  \n",
              "month                 10.0      10.0      10.0  \n",
              "dayofweek              2.0       4.0       6.0  \n",
              "day                   26.0      28.0      30.0  \n",
              "hour                  11.0      16.0      23.0  \n",
              "y                      0.0       0.0       1.0  "
            ]
          },
          "execution_count": 8,
          "metadata": {},
          "output_type": "execute_result"
        }
      ],
      "source": [
        "### Checking for Missing values in the data\n",
        "df.isnull().any().any()\n",
        "\n",
        "## data does not have missing values\n",
        "\n",
        "df.describe().T\n",
        "\n",
        "### Also Inituitively we can see the data is categorical in nature and the numerical data does not have outliers"
      ]
    },
    {
      "cell_type": "code",
      "execution_count": null,
      "metadata": {
        "colab": {
          "base_uri": "https://localhost:8080/",
          "height": 551
        },
        "id": "GKPqMRA7sybx",
        "outputId": "65af47b0-6467-45cc-e7d5-7d01bb1b2132"
      },
      "outputs": [
        {
          "data": {
            "text/html": [
              "\n",
              "  <div id=\"df-58448a8b-9566-4770-9683-4f2dedefc52b\">\n",
              "    <div class=\"colab-df-container\">\n",
              "      <div>\n",
              "<style scoped>\n",
              "    .dataframe tbody tr th:only-of-type {\n",
              "        vertical-align: middle;\n",
              "    }\n",
              "\n",
              "    .dataframe tbody tr th {\n",
              "        vertical-align: top;\n",
              "    }\n",
              "\n",
              "    .dataframe thead th {\n",
              "        text-align: right;\n",
              "    }\n",
              "</style>\n",
              "<table border=\"1\" class=\"dataframe\">\n",
              "  <thead>\n",
              "    <tr style=\"text-align: right;\">\n",
              "      <th></th>\n",
              "      <th>Variable</th>\n",
              "      <th>Description</th>\n",
              "    </tr>\n",
              "  </thead>\n",
              "  <tbody>\n",
              "    <tr>\n",
              "      <th>0</th>\n",
              "      <td>click</td>\n",
              "      <td>0/1 for non-click/click</td>\n",
              "    </tr>\n",
              "    <tr>\n",
              "      <th>1</th>\n",
              "      <td>hour</td>\n",
              "      <td>format is YYMMDDHH</td>\n",
              "    </tr>\n",
              "    <tr>\n",
              "      <th>2</th>\n",
              "      <td>C1</td>\n",
              "      <td>anonymized categorical variable</td>\n",
              "    </tr>\n",
              "    <tr>\n",
              "      <th>3</th>\n",
              "      <td>banner_pos</td>\n",
              "      <td>position of the ad/banner on the page</td>\n",
              "    </tr>\n",
              "    <tr>\n",
              "      <th>4</th>\n",
              "      <td>site_id</td>\n",
              "      <td>unique id of the site on which the ad is shown</td>\n",
              "    </tr>\n",
              "    <tr>\n",
              "      <th>5</th>\n",
              "      <td>site_domain</td>\n",
              "      <td>unique domain of the site on which the ad is s...</td>\n",
              "    </tr>\n",
              "    <tr>\n",
              "      <th>6</th>\n",
              "      <td>site_category</td>\n",
              "      <td>category of the site on which the ad is shown</td>\n",
              "    </tr>\n",
              "    <tr>\n",
              "      <th>7</th>\n",
              "      <td>app_id</td>\n",
              "      <td>app id of the site on which the ad is shown</td>\n",
              "    </tr>\n",
              "    <tr>\n",
              "      <th>8</th>\n",
              "      <td>app_domain</td>\n",
              "      <td>app category of the site on which the ad is shown</td>\n",
              "    </tr>\n",
              "    <tr>\n",
              "      <th>9</th>\n",
              "      <td>app_category</td>\n",
              "      <td>category id of the site on which the ad is shown</td>\n",
              "    </tr>\n",
              "    <tr>\n",
              "      <th>10</th>\n",
              "      <td>device_id</td>\n",
              "      <td>device id on which the add was shown</td>\n",
              "    </tr>\n",
              "    <tr>\n",
              "      <th>11</th>\n",
              "      <td>device_ip</td>\n",
              "      <td>ip address of the device on which the ad was s...</td>\n",
              "    </tr>\n",
              "    <tr>\n",
              "      <th>12</th>\n",
              "      <td>device_model</td>\n",
              "      <td>model type of the device on which the ad was s...</td>\n",
              "    </tr>\n",
              "    <tr>\n",
              "      <th>13</th>\n",
              "      <td>device_type</td>\n",
              "      <td>the device type on which the ad was shown</td>\n",
              "    </tr>\n",
              "    <tr>\n",
              "      <th>14</th>\n",
              "      <td>device_conn_type</td>\n",
              "      <td>the connection type of the device on which the...</td>\n",
              "    </tr>\n",
              "    <tr>\n",
              "      <th>15</th>\n",
              "      <td>C14 - C21</td>\n",
              "      <td>anonymized categorical variable</td>\n",
              "    </tr>\n",
              "  </tbody>\n",
              "</table>\n",
              "</div>\n",
              "      <button class=\"colab-df-convert\" onclick=\"convertToInteractive('df-58448a8b-9566-4770-9683-4f2dedefc52b')\"\n",
              "              title=\"Convert this dataframe to an interactive table.\"\n",
              "              style=\"display:none;\">\n",
              "        \n",
              "  <svg xmlns=\"http://www.w3.org/2000/svg\" height=\"24px\"viewBox=\"0 0 24 24\"\n",
              "       width=\"24px\">\n",
              "    <path d=\"M0 0h24v24H0V0z\" fill=\"none\"/>\n",
              "    <path d=\"M18.56 5.44l.94 2.06.94-2.06 2.06-.94-2.06-.94-.94-2.06-.94 2.06-2.06.94zm-11 1L8.5 8.5l.94-2.06 2.06-.94-2.06-.94L8.5 2.5l-.94 2.06-2.06.94zm10 10l.94 2.06.94-2.06 2.06-.94-2.06-.94-.94-2.06-.94 2.06-2.06.94z\"/><path d=\"M17.41 7.96l-1.37-1.37c-.4-.4-.92-.59-1.43-.59-.52 0-1.04.2-1.43.59L10.3 9.45l-7.72 7.72c-.78.78-.78 2.05 0 2.83L4 21.41c.39.39.9.59 1.41.59.51 0 1.02-.2 1.41-.59l7.78-7.78 2.81-2.81c.8-.78.8-2.07 0-2.86zM5.41 20L4 18.59l7.72-7.72 1.47 1.35L5.41 20z\"/>\n",
              "  </svg>\n",
              "      </button>\n",
              "      \n",
              "  <style>\n",
              "    .colab-df-container {\n",
              "      display:flex;\n",
              "      flex-wrap:wrap;\n",
              "      gap: 12px;\n",
              "    }\n",
              "\n",
              "    .colab-df-convert {\n",
              "      background-color: #E8F0FE;\n",
              "      border: none;\n",
              "      border-radius: 50%;\n",
              "      cursor: pointer;\n",
              "      display: none;\n",
              "      fill: #1967D2;\n",
              "      height: 32px;\n",
              "      padding: 0 0 0 0;\n",
              "      width: 32px;\n",
              "    }\n",
              "\n",
              "    .colab-df-convert:hover {\n",
              "      background-color: #E2EBFA;\n",
              "      box-shadow: 0px 1px 2px rgba(60, 64, 67, 0.3), 0px 1px 3px 1px rgba(60, 64, 67, 0.15);\n",
              "      fill: #174EA6;\n",
              "    }\n",
              "\n",
              "    [theme=dark] .colab-df-convert {\n",
              "      background-color: #3B4455;\n",
              "      fill: #D2E3FC;\n",
              "    }\n",
              "\n",
              "    [theme=dark] .colab-df-convert:hover {\n",
              "      background-color: #434B5C;\n",
              "      box-shadow: 0px 1px 3px 1px rgba(0, 0, 0, 0.15);\n",
              "      filter: drop-shadow(0px 1px 2px rgba(0, 0, 0, 0.3));\n",
              "      fill: #FFFFFF;\n",
              "    }\n",
              "  </style>\n",
              "\n",
              "      <script>\n",
              "        const buttonEl =\n",
              "          document.querySelector('#df-58448a8b-9566-4770-9683-4f2dedefc52b button.colab-df-convert');\n",
              "        buttonEl.style.display =\n",
              "          google.colab.kernel.accessAllowed ? 'block' : 'none';\n",
              "\n",
              "        async function convertToInteractive(key) {\n",
              "          const element = document.querySelector('#df-58448a8b-9566-4770-9683-4f2dedefc52b');\n",
              "          const dataTable =\n",
              "            await google.colab.kernel.invokeFunction('convertToInteractive',\n",
              "                                                     [key], {});\n",
              "          if (!dataTable) return;\n",
              "\n",
              "          const docLinkHtml = 'Like what you see? Visit the ' +\n",
              "            '<a target=\"_blank\" href=https://colab.research.google.com/notebooks/data_table.ipynb>data table notebook</a>'\n",
              "            + ' to learn more about interactive tables.';\n",
              "          element.innerHTML = '';\n",
              "          dataTable['output_type'] = 'display_data';\n",
              "          await google.colab.output.renderOutput(dataTable, element);\n",
              "          const docLink = document.createElement('div');\n",
              "          docLink.innerHTML = docLinkHtml;\n",
              "          element.appendChild(docLink);\n",
              "        }\n",
              "      </script>\n",
              "    </div>\n",
              "  </div>\n",
              "  "
            ],
            "text/plain": [
              "           Variable                                         Description\n",
              "0              click                            0/1 for non-click/click\n",
              "1               hour                                 format is YYMMDDHH\n",
              "2                 C1                    anonymized categorical variable\n",
              "3         banner_pos              position of the ad/banner on the page\n",
              "4            site_id     unique id of the site on which the ad is shown\n",
              "5        site_domain  unique domain of the site on which the ad is s...\n",
              "6      site_category      category of the site on which the ad is shown\n",
              "7             app_id        app id of the site on which the ad is shown\n",
              "8         app_domain  app category of the site on which the ad is shown\n",
              "9       app_category   category id of the site on which the ad is shown\n",
              "10         device_id               device id on which the add was shown\n",
              "11         device_ip  ip address of the device on which the ad was s...\n",
              "12      device_model  model type of the device on which the ad was s...\n",
              "13       device_type          the device type on which the ad was shown\n",
              "14  device_conn_type  the connection type of the device on which the...\n",
              "15         C14 - C21                    anonymized categorical variable"
            ]
          },
          "execution_count": 9,
          "metadata": {},
          "output_type": "execute_result"
        }
      ],
      "source": [
        "### printing the metadata to get intution about data\n",
        "metadata\n",
        "\n",
        "### Looking at data and metadata we developed an intution that most of the features are categorical in nature \n",
        "### and thus needs to be treated before using in the model"
      ]
    },
    {
      "cell_type": "code",
      "execution_count": null,
      "metadata": {
        "colab": {
          "base_uri": "https://localhost:8080/",
          "height": 281
        },
        "id": "fR9kllB8tDSN",
        "outputId": "6617ca58-3cc9-4f42-9de4-8eeb1c964990"
      },
      "outputs": [
        {
          "data": {
            "image/png": "[encoded data removed]",
            "text/plain": [
              "<Figure size 432x288 with 1 Axes>"
            ]
          },
          "metadata": {
            "needs_background": "light"
          },
          "output_type": "display_data"
        }
      ],
      "source": [
        "### Checking for imbalance\n",
        "import matplotlib.pyplot as plt\n",
        "df['click'].value_counts(normalize=True).plot.barh()\n",
        "plt.title('Percentage of Clicks')\n",
        "plt.show()\n",
        "\n",
        "### The Non clicks are 83% whereas clicks are 17%"
      ]
    },
    {
      "cell_type": "markdown",
      "metadata": {
        "id": "OUq3eDsxtHFb"
      },
      "source": [
        "Findings:\n",
        "1. There are 83% Non clicks(click False) & 17% Clicks(clicks True)\n",
        "2. There are no missing value in the data\n",
        "3. There are various categorical features which needs to be treated\n",
        "4. Categorical features are 'C1', 'banner_pos', 'site_id', 'site_domain', 'site_category','app_id', 'app_domain', 'app_category', 'device_id', 'device_ip','device_model', 'device_type', 'device_conn_type', 'C14', 'C15', 'C16','C17', 'C18', 'C19', 'C20', 'C21'\n",
        "5. 'month', 'dayofweek', 'day', 'hour' can be considered as ordinal features"
      ]
    },
    {
      "cell_type": "code",
      "execution_count": null,
      "metadata": {
        "colab": {
          "base_uri": "https://localhost:8080/"
        },
        "id": "Lk9mwGjdtLsF",
        "outputId": "d17a412e-317b-433a-ffa8-bbc0ff669f5e"
      },
      "outputs": [
        {
          "data": {
            "text/plain": [
              "device_ip           78013\n",
              "device_id           16801\n",
              "device_model         3145\n",
              "C14                  1722\n",
              "site_id              1485\n",
              "app_id               1354\n",
              "site_domain          1331\n",
              "C17                   399\n",
              "C20                   154\n",
              "app_domain             96\n",
              "C19                    64\n",
              "C21                    60\n",
              "hour                   24\n",
              "app_category           21\n",
              "site_category          19\n",
              "day                    10\n",
              "C16                     9\n",
              "C15                     8\n",
              "C1                      7\n",
              "banner_pos              7\n",
              "dayofweek               7\n",
              "device_conn_type        4\n",
              "C18                     4\n",
              "device_type             4\n",
              "click                   2\n",
              "y                       2\n",
              "month                   1\n",
              "dtype: int64"
            ]
          },
          "execution_count": 11,
          "metadata": {},
          "output_type": "execute_result"
        }
      ],
      "source": [
        "## checking unique values in dataframe\n",
        "n = df.nunique(axis=0)\n",
        "n.sort_values(ascending=False)"
      ]
    },
    {
      "cell_type": "code",
      "execution_count": null,
      "metadata": {
        "id": "YjOhHsSdtsJa"
      },
      "outputs": [],
      "source": [
        "### Since month has only one value i.e. zero variance thus dropping month as it does not add any value\n",
        "df=df.drop('month',axis=1)\n",
        "\n",
        "#### Since the variance of 'device_ip' & 'device_id' is very high dropping them\n",
        "#### Also with the metadata and understanding of data we got to know that these features will identify the device thus will create problems in generalisation\n",
        "df =df.drop(['device_ip','device_id'],axis=1)"
      ]
    },
    {
      "cell_type": "markdown",
      "metadata": {
        "id": "6_pKYcgqDa-2"
      },
      "source": [
        "## Perform categorical variable treatment"
      ]
    },
    {
      "cell_type": "markdown",
      "metadata": {
        "id": "YElLLYIruAkc"
      },
      "source": [
        "There are Several Statistical ways to handle categorical features\n",
        "Here we will try to use\n",
        "1. One Hot Encoding\n",
        "2. Target guided Encoding\n",
        "One hot encoding will be used for features with low freq whereas Target guided Encoding will be used for features with high freq, we will use data intution to select type of encoding for a feature\n",
        "But Before Encoding we will split the data to prevent Data Leakage & Effectively test the model/Endodings¶"
      ]
    },
    {
      "cell_type": "code",
      "execution_count": null,
      "metadata": {
        "id": "IMQu1NiyuZOc"
      },
      "outputs": [],
      "source": [
        "## Splitting into Target and features\n",
        "y=df['y']\n",
        "X=df.copy()\n",
        "X=X.drop(['click','y'],axis=1)"
      ]
    },
    {
      "cell_type": "code",
      "execution_count": null,
      "metadata": {
        "colab": {
          "base_uri": "https://localhost:8080/"
        },
        "id": "XYY_ukcYubWk",
        "outputId": "6426760f-9da2-4644-c154-5115a0c47783"
      },
      "outputs": [
        {
          "name": "stdout",
          "output_type": "stream",
          "text": [
            "(69999, 22) (30000, 22) (69999,) (30000,)\n"
          ]
        }
      ],
      "source": [
        "### train Test Split\n",
        "from sklearn.model_selection import train_test_split\n",
        "X_train, X_test, y_train, y_test = train_test_split(X, y, test_size=0.3, random_state=42, shuffle=True, stratify=y)\n",
        "print(X_train.shape,X_test.shape,y_train.shape, y_test.shape)"
      ]
    },
    {
      "cell_type": "code",
      "execution_count": null,
      "metadata": {
        "colab": {
          "base_uri": "https://localhost:8080/"
        },
        "id": "aIBt3hTbukJz",
        "outputId": "efbc03d9-db1c-4c07-ea2a-75d678fc5a93"
      },
      "outputs": [
        {
          "name": "stdout",
          "output_type": "stream",
          "text": [
            "(69999, 37) (30000, 37)\n",
            "Training {'accuracy_score': 0.9908427263246617, 'f1_score': 0.9725822319175327, 'precision_score': 0.9892108239798137, 'recall_score': 0.9565034494363116}\n",
            "Testing {'accuracy_score': 0.8109333333333333, 'f1_score': 0.22892876563349648, 'precision_score': 0.372236958443855, 'recall_score': 0.1652925009815469}\n",
            "Classification report \n",
            "              precision    recall  f1-score   support\n",
            "\n",
            "           0       0.99      1.00      0.99     58113\n",
            "           1       0.99      0.96      0.97     11886\n",
            "\n",
            "    accuracy                           0.99     69999\n",
            "   macro avg       0.99      0.98      0.98     69999\n",
            "weighted avg       0.99      0.99      0.99     69999\n",
            "\n",
            "Confusion metrics \n",
            "[[57989   124]\n",
            " [  517 11369]]\n"
          ]
        }
      ],
      "source": [
        "\n",
        "## Using Both One Hot & Target Encoding \n",
        "from sklearn.ensemble import RandomForestClassifier\n",
        "import category_encoders as ce\n",
        "Cols_OHE=['device_type','banner_pos','device_conn_type','C18']\n",
        "Cols_TAR=['C16','C15','C1','device_model','C14','site_id','app_id',\n",
        "          'site_domain','C17','C20','app_domain','C19','C21','app_category','site_category']\n",
        "ce_OHE = ce.OneHotEncoder(cols=Cols_OHE)\n",
        "ce_TAR=ce.TargetEncoder(cols=Cols_TAR)\n",
        "\n",
        "## Encoding Train Data\n",
        "X_train_enc= ce_OHE.fit_transform(X_train)\n",
        "X_train_enc = ce_TAR.fit_transform(X_train_enc,y_train)\n",
        "\n",
        "## Encoding Test Data\n",
        "X_test_enc= ce_OHE.transform(X_test)\n",
        "X_test_enc = ce_TAR.transform(X_test_enc)\n",
        "print(X_train_enc.shape,X_test_enc.shape)\n",
        "\n",
        "clf = RandomForestClassifier()\n",
        "clf.fit(X_train_enc,y_train)\n",
        "print('Training {}'.format(acc(X_train_enc,y_train,classifier=clf)))\n",
        "print('Testing {}'.format(acc(X_test_enc,y_test,classifier=clf)))\n",
        "print('Classification report \\n{}'.format(Classification_Report(X_train_enc,y_train,classifier=clf)))\n",
        "print('Confusion metrics \\n{}'.format(Confusion_Matrix(X_train_enc,y_train,classifier=clf)))\n",
        "#FeatureImportance(X_train_enc,fi=clf.feature_importances_)\n",
        "### One Hot Encoding results in a bit overfitting because of curse of dimentionality\n",
        "### Also variables that are one hot encoded shows low feature importance \n",
        "\n",
        "### Since the model is overfitted we change some parameters\n"
      ]
    },
    {
      "cell_type": "code",
      "execution_count": null,
      "metadata": {
        "colab": {
          "base_uri": "https://localhost:8080/"
        },
        "id": "u7uDo7qWuuZD",
        "outputId": "8f5dcf5e-c9bf-421a-bcde-41746e357a6c"
      },
      "outputs": [
        {
          "name": "stdout",
          "output_type": "stream",
          "text": [
            "(69999, 37) (30000, 37)\n",
            "Training {'accuracy_score': 0.6376376805382934, 'f1_score': 0.42195939016886586, 'precision_score': 0.28935771214252226, 'recall_score': 0.778899545683998}\n",
            "Testing {'accuracy_score': 0.6195333333333334, 'f1_score': 0.392743136837625, 'precision_score': 0.2693767333236024, 'recall_score': 0.7245779348252847}\n",
            "Classification report \n",
            "              precision    recall  f1-score   support\n",
            "\n",
            "           0       0.93      0.61      0.74     58113\n",
            "           1       0.29      0.78      0.42     11886\n",
            "\n",
            "    accuracy                           0.64     69999\n",
            "   macro avg       0.61      0.69      0.58     69999\n",
            "weighted avg       0.82      0.64      0.68     69999\n",
            "\n",
            "Confusion metrics \n",
            "[[35376 22737]\n",
            " [ 2628  9258]]\n"
          ]
        }
      ],
      "source": [
        "### Changing Random Forest to prevent Overfitting \n",
        "### Using Class Weights as to prevent class impbalance \n",
        "## Using Both One Hot & Target Encoding \n",
        "from sklearn.ensemble import RandomForestClassifier\n",
        "import category_encoders as ce\n",
        "Cols_OHE=['device_type','banner_pos','device_conn_type','C18']\n",
        "Cols_TAR=['C16','C15','C1','device_model','C14','site_id','app_id',\n",
        "          'site_domain','C17','C20','app_domain','C19','C21','app_category','site_category']\n",
        "ce_OHE = ce.OneHotEncoder(cols=Cols_OHE)\n",
        "ce_TAR=ce.TargetEncoder(cols=Cols_TAR)\n",
        "\n",
        "## Encoding Train Data\n",
        "X_train_enc= ce_OHE.fit_transform(X_train)\n",
        "X_train_enc = ce_TAR.fit_transform(X_train_enc,y_train)\n",
        "\n",
        "## Encoding Test Data\n",
        "X_test_enc= ce_OHE.transform(X_test)\n",
        "X_test_enc = ce_TAR.transform(X_test_enc)\n",
        "print(X_train_enc.shape,X_test_enc.shape)\n",
        "\n",
        "clf = RandomForestClassifier(max_depth=5, random_state=0,class_weight='balanced')\n",
        "clf.fit(X_train_enc,y_train)\n",
        "print('Training {}'.format(acc(X_train_enc,y_train,classifier=clf)))\n",
        "print('Testing {}'.format(acc(X_test_enc,y_test,classifier=clf)))\n",
        "print('Classification report \\n{}'.format(Classification_Report(X_train_enc,y_train,classifier=clf)))\n",
        "print('Confusion metrics \\n{}'.format(Confusion_Matrix(X_train_enc,y_train,classifier=clf)))\n",
        "#FeatureImportance(X_train_enc,fi=clf.feature_importances_)\n",
        "### One Hot Encoding results in a bit overfitting because of curse of dimentionality\n",
        "### Also variables that are one hot encoded shows low feature importance \n",
        "\n",
        "### Since the model is overfitted we change some parameters\n"
      ]
    },
    {
      "cell_type": "code",
      "execution_count": null,
      "metadata": {
        "colab": {
          "base_uri": "https://localhost:8080/",
          "height": 1000
        },
        "id": "Ur_AtafT4Qwc",
        "outputId": "bcf4a843-74cb-455a-e0cb-b05249e0ad5a"
      },
      "outputs": [
        {
          "name": "stdout",
          "output_type": "stream",
          "text": [
            "Training {'accuracy_score': 0.6349090701295733, 'f1_score': 0.4116672038307473, 'precision_score': 0.28337347870182555, 'recall_score': 0.7522295137136127}\n",
            "Testing {'accuracy_score': 0.6249666666666667, 'f1_score': 0.3957896998012996, 'precision_score': 0.27241812670954385, 'recall_score': 0.7234000785237534}\n",
            "Classification report \n",
            "              precision    recall  f1-score   support\n",
            "\n",
            "           0       0.92      0.61      0.74     58113\n",
            "           1       0.28      0.75      0.41     11886\n",
            "\n",
            "    accuracy                           0.63     69999\n",
            "   macro avg       0.60      0.68      0.57     69999\n",
            "weighted avg       0.81      0.63      0.68     69999\n",
            "\n",
            "Confusion metrics \n",
            "[[35502 22611]\n",
            " [ 2945  8941]]\n"
          ]
        },
        {
          "data": {
            "image/png": "[encoded data removed]",
            "text/plain": [
              "<Figure size 1080x576 with 1 Axes>"
            ]
          },
          "metadata": {
            "needs_background": "light"
          },
          "output_type": "display_data"
        },
        {
          "name": "stdout",
          "output_type": "stream",
          "text": [
            "               index  Importance  cumulative_imp\n",
            "0                C14    0.186348       18.634820\n",
            "1            site_id    0.182658       36.900574\n",
            "2                C17    0.149208       51.821368\n",
            "3        site_domain    0.119463       63.767642\n",
            "4             app_id    0.102662       74.033821\n",
            "5       device_model    0.084973       82.531157\n",
            "6                C21    0.045162       87.047377\n",
            "7                C19    0.027440       89.791394\n",
            "8                C18    0.024103       92.201679\n",
            "9         app_domain    0.021519       94.353595\n",
            "10               C20    0.013364       95.689970\n",
            "11               C16    0.010641       96.754042\n",
            "12      app_category    0.008980       97.652006\n",
            "13               C15    0.008486       98.500632\n",
            "14     site_category    0.005676       99.068268\n",
            "15              hour    0.002587       99.326925\n",
            "16  device_conn_type    0.001903       99.517248\n",
            "17                C1    0.001372       99.654424\n",
            "18        banner_pos    0.001248       99.779272\n",
            "19               day    0.000894       99.868688\n",
            "20       device_type    0.000839       99.952632\n",
            "21         dayofweek    0.000474      100.000000\n"
          ]
        }
      ],
      "source": [
        "###Thus changing the encoding to Weight of Evidence Encoder to prevent overfitting and to prevent curse of dimentionality\n",
        "#### interpretability of model increases with WOE encoder compared to one hot encoding\n",
        "cols_en=Cols_OHE+Cols_TAR\n",
        "ce_enc=(ce.WOEEncoder(cols=cols_en))\n",
        "X_train_enc=ce_enc.fit_transform(X_train,y_train)\n",
        "X_test_enc=ce_enc.transform(X_test)\n",
        "clf = RandomForestClassifier(max_depth=5, random_state=0,class_weight='balanced')\n",
        "clf.fit(X_train_enc,y_train)\n",
        "print('Training {}'.format(acc(X_train_enc,y_train,classifier=clf)))\n",
        "print('Testing {}'.format(acc(X_test_enc,y_test,classifier=clf)))\n",
        "print('Classification report \\n{}'.format(Classification_Report(X_train_enc,y_train,classifier=clf)))\n",
        "print('Confusion metrics \\n{}'.format(Confusion_Matrix(X_train_enc,y_train,classifier=clf)))\n",
        "feature_imp_plot(X_train_enc,clf.feature_importances_)\n",
        "fi=FeatureImportance(X_train_enc,clf.feature_importances_)"
      ]
    },
    {
      "cell_type": "markdown",
      "metadata": {
        "id": "jbQwc-cK5ymg"
      },
      "source": [
        "1) From above example we will use WOE encoding because it has better validation evalutation metrics,\n",
        "2) Is free from curse of dimentionality¶\n",
        "3) Much better model explainability"
      ]
    },
    {
      "cell_type": "code",
      "execution_count": null,
      "metadata": {
        "id": "B7dp3pPF9ucH"
      },
      "outputs": [],
      "source": [
        "### selecting only the important features for Random forest\n",
        "sel_features=list(FeatureImportance(X_train_enc,clf.feature_importances_).iloc[0:15].index)\n",
        "X_train_enc=X_train_enc[sel_features]\n",
        "X_test_enc=X_test_enc[sel_features]"
      ]
    },
    {
      "cell_type": "markdown",
      "metadata": {
        "id": "SyZ1RuFoG3zF"
      },
      "source": [
        "## Model Selection : \n",
        "##### 3 classification methods you will use in the data set are\n",
        "#### 1.  Random Forest: It is an ensemble method which uses bagging and tries to prevent overfitting also gives better accuracy \n",
        "####2.  Xgboost: It uses boosting technique and lear from the mistakes of the prior decision trees, this might get better evaluation metrics \n",
        "####3.  Linear Regression: It gives great explainability as it is parametric model and if business wants better inference and interpretability we can share the output from this model\n"
      ]
    },
    {
      "cell_type": "markdown",
      "metadata": {
        "id": "RmYgDLuB6DMc"
      },
      "source": [
        "## Model 0 Dummy Classifier"
      ]
    },
    {
      "cell_type": "code",
      "execution_count": null,
      "metadata": {
        "colab": {
          "base_uri": "https://localhost:8080/",
          "height": 352
        },
        "id": "1Uy-mXFQ6H1q",
        "outputId": "367f7e19-9211-493d-cb38-ae27eadce8d6"
      },
      "outputs": [
        {
          "name": "stdout",
          "output_type": "stream",
          "text": [
            "Training {'accuracy_score': 0.7175388219831712, 'f1_score': 0.16924750983510506, 'precision_score': 0.17065792790521805, 'recall_score': 0.16372202591283863}\n",
            "Testing {'accuracy_score': 0.7157666666666667, 'f1_score': 0.17205565353713503, 'precision_score': 0.16828849456210646, 'recall_score': 0.17550058892815076}\n",
            "training roc auc 0.5004844301802543\n",
            "testing roc auc 0.50323702397812\n"
          ]
        },
        {
          "data": {
            "image/png": "[encoded data removed]",
            "text/plain": [
              "<Figure size 432x288 with 1 Axes>"
            ]
          },
          "metadata": {
            "needs_background": "light"
          },
          "output_type": "display_data"
        }
      ],
      "source": [
        "from sklearn.dummy import DummyClassifier\n",
        "\n",
        "dclf=DummyClassifier(strategy='stratified')\n",
        "\n",
        "dclf.fit(X_train_enc,y_train)\n",
        "print('Training {}'.format(acc(X_train_enc,y_train,classifier=dclf)))\n",
        "print('Testing {}'.format(acc(X_test_enc,y_test,classifier=dclf)))\n",
        "print('training roc auc {}'.format(roc_auc(X_train_enc,y_train,classifier=dclf)))\n",
        "print('testing roc auc {}'.format(roc_auc(X_test_enc,y_test,classifier=dclf)))\n",
        "roc_plot(X_train_enc,y_train,classifier=dclf)\n"
      ]
    },
    {
      "cell_type": "code",
      "execution_count": null,
      "metadata": {
        "colab": {
          "base_uri": "https://localhost:8080/",
          "height": 1000
        },
        "id": "xTJkUkH6VhQm",
        "outputId": "3463dcf8-1a4c-4909-de47-7ac2b2fc8c61"
      },
      "outputs": [
        {
          "name": "stdout",
          "output_type": "stream",
          "text": [
            "Response Rate:16.98024257489393%\n",
            "   decile  freq  act_mean  prob_mean  prob_min  prob_max  num_1  num_0  \\\n",
            "0       1  7000  0.178000   1.000000       1.0       1.0   1246   5754   \n",
            "1       2  7000  0.163000   0.703571       0.0       1.0   1141   5859   \n",
            "2       3  7000  0.164000   0.000000       0.0       0.0   1148   5852   \n",
            "3       4  7000  0.169857   0.000000       0.0       0.0   1189   5811   \n",
            "4       5  7000  0.179000   0.000000       0.0       0.0   1253   5747   \n",
            "5       6  6999  0.159594   0.000000       0.0       0.0   1117   5882   \n",
            "6       7  7000  0.170714   0.000000       0.0       0.0   1195   5805   \n",
            "7       8  7000  0.173857   0.000000       0.0       0.0   1217   5783   \n",
            "8       9  7000  0.169286   0.000000       0.0       0.0   1185   5815   \n",
            "9      10  7000  0.170714   0.000000       0.0       0.0   1195   5805   \n",
            "\n",
            "     cum_1    cum_0   per_cum_1   per_cum_0  event_rate  cum_lift  \\\n",
            "0   1246.0   5754.0   10.482921    9.901399   17.800000  1.048277   \n",
            "1   2387.0  11613.0   20.082450   19.983480   17.050000  1.004108   \n",
            "2   3535.0  17465.0   29.740872   30.053516   16.833333  0.991348   \n",
            "3   4724.0  23276.0   39.744237   40.053000   16.871429  0.993592   \n",
            "4   5977.0  29023.0   50.286051   49.942354   17.077143  1.005707   \n",
            "5   7094.0  34905.0   59.683661   60.064013   16.892889  0.994856   \n",
            "6   8289.0  40710.0   69.737506   70.053172   16.916327  0.996236   \n",
            "7   9506.0  46493.0   79.976443   80.004474   16.975000  0.999691   \n",
            "8  10691.0  52308.0   89.946155   90.010841   16.969841  0.999387   \n",
            "9  11886.0  58113.0  100.000000  100.000000   16.980000  0.999986   \n",
            "\n",
            "   capture_rate  \n",
            "0      0.104829  \n",
            "1      0.095995  \n",
            "2      0.096584  \n",
            "3      0.100034  \n",
            "4      0.105418  \n",
            "5      0.093976  \n",
            "6      0.100538  \n",
            "7      0.102389  \n",
            "8      0.099697  \n",
            "9      0.100538  \n"
          ]
        },
        {
          "data": {
            "text/html": [
              "\n",
              "  <div id=\"df-3c4fd582-5fbd-4689-bbc9-ee212a4e48c0\">\n",
              "    <div class=\"colab-df-container\">\n",
              "      <div>\n",
              "<style scoped>\n",
              "    .dataframe tbody tr th:only-of-type {\n",
              "        vertical-align: middle;\n",
              "    }\n",
              "\n",
              "    .dataframe tbody tr th {\n",
              "        vertical-align: top;\n",
              "    }\n",
              "\n",
              "    .dataframe thead th {\n",
              "        text-align: right;\n",
              "    }\n",
              "</style>\n",
              "<table border=\"1\" class=\"dataframe\">\n",
              "  <thead>\n",
              "    <tr style=\"text-align: right;\">\n",
              "      <th></th>\n",
              "      <th>decile</th>\n",
              "      <th>freq</th>\n",
              "      <th>act_mean</th>\n",
              "      <th>prob_mean</th>\n",
              "      <th>prob_min</th>\n",
              "      <th>prob_max</th>\n",
              "      <th>num_1</th>\n",
              "      <th>num_0</th>\n",
              "      <th>cum_1</th>\n",
              "      <th>cum_0</th>\n",
              "      <th>per_cum_1</th>\n",
              "      <th>per_cum_0</th>\n",
              "      <th>event_rate</th>\n",
              "      <th>cum_lift</th>\n",
              "      <th>capture_rate</th>\n",
              "    </tr>\n",
              "  </thead>\n",
              "  <tbody>\n",
              "    <tr>\n",
              "      <th>0</th>\n",
              "      <td>1</td>\n",
              "      <td>7000</td>\n",
              "      <td>0.178000</td>\n",
              "      <td>1.000000</td>\n",
              "      <td>1.0</td>\n",
              "      <td>1.0</td>\n",
              "      <td>1246</td>\n",
              "      <td>5754</td>\n",
              "      <td>1246.0</td>\n",
              "      <td>5754.0</td>\n",
              "      <td>10.482921</td>\n",
              "      <td>9.901399</td>\n",
              "      <td>17.800000</td>\n",
              "      <td>1.048277</td>\n",
              "      <td>0.104829</td>\n",
              "    </tr>\n",
              "    <tr>\n",
              "      <th>1</th>\n",
              "      <td>2</td>\n",
              "      <td>7000</td>\n",
              "      <td>0.163000</td>\n",
              "      <td>0.703571</td>\n",
              "      <td>0.0</td>\n",
              "      <td>1.0</td>\n",
              "      <td>1141</td>\n",
              "      <td>5859</td>\n",
              "      <td>2387.0</td>\n",
              "      <td>11613.0</td>\n",
              "      <td>20.082450</td>\n",
              "      <td>19.983480</td>\n",
              "      <td>17.050000</td>\n",
              "      <td>1.004108</td>\n",
              "      <td>0.095995</td>\n",
              "    </tr>\n",
              "    <tr>\n",
              "      <th>2</th>\n",
              "      <td>3</td>\n",
              "      <td>7000</td>\n",
              "      <td>0.164000</td>\n",
              "      <td>0.000000</td>\n",
              "      <td>0.0</td>\n",
              "      <td>0.0</td>\n",
              "      <td>1148</td>\n",
              "      <td>5852</td>\n",
              "      <td>3535.0</td>\n",
              "      <td>17465.0</td>\n",
              "      <td>29.740872</td>\n",
              "      <td>30.053516</td>\n",
              "      <td>16.833333</td>\n",
              "      <td>0.991348</td>\n",
              "      <td>0.096584</td>\n",
              "    </tr>\n",
              "    <tr>\n",
              "      <th>3</th>\n",
              "      <td>4</td>\n",
              "      <td>7000</td>\n",
              "      <td>0.169857</td>\n",
              "      <td>0.000000</td>\n",
              "      <td>0.0</td>\n",
              "      <td>0.0</td>\n",
              "      <td>1189</td>\n",
              "      <td>5811</td>\n",
              "      <td>4724.0</td>\n",
              "      <td>23276.0</td>\n",
              "      <td>39.744237</td>\n",
              "      <td>40.053000</td>\n",
              "      <td>16.871429</td>\n",
              "      <td>0.993592</td>\n",
              "      <td>0.100034</td>\n",
              "    </tr>\n",
              "    <tr>\n",
              "      <th>4</th>\n",
              "      <td>5</td>\n",
              "      <td>7000</td>\n",
              "      <td>0.179000</td>\n",
              "      <td>0.000000</td>\n",
              "      <td>0.0</td>\n",
              "      <td>0.0</td>\n",
              "      <td>1253</td>\n",
              "      <td>5747</td>\n",
              "      <td>5977.0</td>\n",
              "      <td>29023.0</td>\n",
              "      <td>50.286051</td>\n",
              "      <td>49.942354</td>\n",
              "      <td>17.077143</td>\n",
              "      <td>1.005707</td>\n",
              "      <td>0.105418</td>\n",
              "    </tr>\n",
              "    <tr>\n",
              "      <th>5</th>\n",
              "      <td>6</td>\n",
              "      <td>6999</td>\n",
              "      <td>0.159594</td>\n",
              "      <td>0.000000</td>\n",
              "      <td>0.0</td>\n",
              "      <td>0.0</td>\n",
              "      <td>1117</td>\n",
              "      <td>5882</td>\n",
              "      <td>7094.0</td>\n",
              "      <td>34905.0</td>\n",
              "      <td>59.683661</td>\n",
              "      <td>60.064013</td>\n",
              "      <td>16.892889</td>\n",
              "      <td>0.994856</td>\n",
              "      <td>0.093976</td>\n",
              "    </tr>\n",
              "    <tr>\n",
              "      <th>6</th>\n",
              "      <td>7</td>\n",
              "      <td>7000</td>\n",
              "      <td>0.170714</td>\n",
              "      <td>0.000000</td>\n",
              "      <td>0.0</td>\n",
              "      <td>0.0</td>\n",
              "      <td>1195</td>\n",
              "      <td>5805</td>\n",
              "      <td>8289.0</td>\n",
              "      <td>40710.0</td>\n",
              "      <td>69.737506</td>\n",
              "      <td>70.053172</td>\n",
              "      <td>16.916327</td>\n",
              "      <td>0.996236</td>\n",
              "      <td>0.100538</td>\n",
              "    </tr>\n",
              "    <tr>\n",
              "      <th>7</th>\n",
              "      <td>8</td>\n",
              "      <td>7000</td>\n",
              "      <td>0.173857</td>\n",
              "      <td>0.000000</td>\n",
              "      <td>0.0</td>\n",
              "      <td>0.0</td>\n",
              "      <td>1217</td>\n",
              "      <td>5783</td>\n",
              "      <td>9506.0</td>\n",
              "      <td>46493.0</td>\n",
              "      <td>79.976443</td>\n",
              "      <td>80.004474</td>\n",
              "      <td>16.975000</td>\n",
              "      <td>0.999691</td>\n",
              "      <td>0.102389</td>\n",
              "    </tr>\n",
              "    <tr>\n",
              "      <th>8</th>\n",
              "      <td>9</td>\n",
              "      <td>7000</td>\n",
              "      <td>0.169286</td>\n",
              "      <td>0.000000</td>\n",
              "      <td>0.0</td>\n",
              "      <td>0.0</td>\n",
              "      <td>1185</td>\n",
              "      <td>5815</td>\n",
              "      <td>10691.0</td>\n",
              "      <td>52308.0</td>\n",
              "      <td>89.946155</td>\n",
              "      <td>90.010841</td>\n",
              "      <td>16.969841</td>\n",
              "      <td>0.999387</td>\n",
              "      <td>0.099697</td>\n",
              "    </tr>\n",
              "    <tr>\n",
              "      <th>9</th>\n",
              "      <td>10</td>\n",
              "      <td>7000</td>\n",
              "      <td>0.170714</td>\n",
              "      <td>0.000000</td>\n",
              "      <td>0.0</td>\n",
              "      <td>0.0</td>\n",
              "      <td>1195</td>\n",
              "      <td>5805</td>\n",
              "      <td>11886.0</td>\n",
              "      <td>58113.0</td>\n",
              "      <td>100.000000</td>\n",
              "      <td>100.000000</td>\n",
              "      <td>16.980000</td>\n",
              "      <td>0.999986</td>\n",
              "      <td>0.100538</td>\n",
              "    </tr>\n",
              "  </tbody>\n",
              "</table>\n",
              "</div>\n",
              "      <button class=\"colab-df-convert\" onclick=\"convertToInteractive('df-3c4fd582-5fbd-4689-bbc9-ee212a4e48c0')\"\n",
              "              title=\"Convert this dataframe to an interactive table.\"\n",
              "              style=\"display:none;\">\n",
              "        \n",
              "  <svg xmlns=\"http://www.w3.org/2000/svg\" height=\"24px\"viewBox=\"0 0 24 24\"\n",
              "       width=\"24px\">\n",
              "    <path d=\"M0 0h24v24H0V0z\" fill=\"none\"/>\n",
              "    <path d=\"M18.56 5.44l.94 2.06.94-2.06 2.06-.94-2.06-.94-.94-2.06-.94 2.06-2.06.94zm-11 1L8.5 8.5l.94-2.06 2.06-.94-2.06-.94L8.5 2.5l-.94 2.06-2.06.94zm10 10l.94 2.06.94-2.06 2.06-.94-2.06-.94-.94-2.06-.94 2.06-2.06.94z\"/><path d=\"M17.41 7.96l-1.37-1.37c-.4-.4-.92-.59-1.43-.59-.52 0-1.04.2-1.43.59L10.3 9.45l-7.72 7.72c-.78.78-.78 2.05 0 2.83L4 21.41c.39.39.9.59 1.41.59.51 0 1.02-.2 1.41-.59l7.78-7.78 2.81-2.81c.8-.78.8-2.07 0-2.86zM5.41 20L4 18.59l7.72-7.72 1.47 1.35L5.41 20z\"/>\n",
              "  </svg>\n",
              "      </button>\n",
              "      \n",
              "  <style>\n",
              "    .colab-df-container {\n",
              "      display:flex;\n",
              "      flex-wrap:wrap;\n",
              "      gap: 12px;\n",
              "    }\n",
              "\n",
              "    .colab-df-convert {\n",
              "      background-color: #E8F0FE;\n",
              "      border: none;\n",
              "      border-radius: 50%;\n",
              "      cursor: pointer;\n",
              "      display: none;\n",
              "      fill: #1967D2;\n",
              "      height: 32px;\n",
              "      padding: 0 0 0 0;\n",
              "      width: 32px;\n",
              "    }\n",
              "\n",
              "    .colab-df-convert:hover {\n",
              "      background-color: #E2EBFA;\n",
              "      box-shadow: 0px 1px 2px rgba(60, 64, 67, 0.3), 0px 1px 3px 1px rgba(60, 64, 67, 0.15);\n",
              "      fill: #174EA6;\n",
              "    }\n",
              "\n",
              "    [theme=dark] .colab-df-convert {\n",
              "      background-color: #3B4455;\n",
              "      fill: #D2E3FC;\n",
              "    }\n",
              "\n",
              "    [theme=dark] .colab-df-convert:hover {\n",
              "      background-color: #434B5C;\n",
              "      box-shadow: 0px 1px 3px 1px rgba(0, 0, 0, 0.15);\n",
              "      filter: drop-shadow(0px 1px 2px rgba(0, 0, 0, 0.3));\n",
              "      fill: #FFFFFF;\n",
              "    }\n",
              "  </style>\n",
              "\n",
              "      <script>\n",
              "        const buttonEl =\n",
              "          document.querySelector('#df-3c4fd582-5fbd-4689-bbc9-ee212a4e48c0 button.colab-df-convert');\n",
              "        buttonEl.style.display =\n",
              "          google.colab.kernel.accessAllowed ? 'block' : 'none';\n",
              "\n",
              "        async function convertToInteractive(key) {\n",
              "          const element = document.querySelector('#df-3c4fd582-5fbd-4689-bbc9-ee212a4e48c0');\n",
              "          const dataTable =\n",
              "            await google.colab.kernel.invokeFunction('convertToInteractive',\n",
              "                                                     [key], {});\n",
              "          if (!dataTable) return;\n",
              "\n",
              "          const docLinkHtml = 'Like what you see? Visit the ' +\n",
              "            '<a target=\"_blank\" href=https://colab.research.google.com/notebooks/data_table.ipynb>data table notebook</a>'\n",
              "            + ' to learn more about interactive tables.';\n",
              "          element.innerHTML = '';\n",
              "          dataTable['output_type'] = 'display_data';\n",
              "          await google.colab.output.renderOutput(dataTable, element);\n",
              "          const docLink = document.createElement('div');\n",
              "          docLink.innerHTML = docLinkHtml;\n",
              "          element.appendChild(docLink);\n",
              "        }\n",
              "      </script>\n",
              "    </div>\n",
              "  </div>\n",
              "  "
            ],
            "text/plain": [
              "   decile  freq  act_mean  prob_mean  prob_min  prob_max  num_1  num_0  \\\n",
              "0       1  7000  0.178000   1.000000       1.0       1.0   1246   5754   \n",
              "1       2  7000  0.163000   0.703571       0.0       1.0   1141   5859   \n",
              "2       3  7000  0.164000   0.000000       0.0       0.0   1148   5852   \n",
              "3       4  7000  0.169857   0.000000       0.0       0.0   1189   5811   \n",
              "4       5  7000  0.179000   0.000000       0.0       0.0   1253   5747   \n",
              "5       6  6999  0.159594   0.000000       0.0       0.0   1117   5882   \n",
              "6       7  7000  0.170714   0.000000       0.0       0.0   1195   5805   \n",
              "7       8  7000  0.173857   0.000000       0.0       0.0   1217   5783   \n",
              "8       9  7000  0.169286   0.000000       0.0       0.0   1185   5815   \n",
              "9      10  7000  0.170714   0.000000       0.0       0.0   1195   5805   \n",
              "\n",
              "     cum_1    cum_0   per_cum_1   per_cum_0  event_rate  cum_lift  \\\n",
              "0   1246.0   5754.0   10.482921    9.901399   17.800000  1.048277   \n",
              "1   2387.0  11613.0   20.082450   19.983480   17.050000  1.004108   \n",
              "2   3535.0  17465.0   29.740872   30.053516   16.833333  0.991348   \n",
              "3   4724.0  23276.0   39.744237   40.053000   16.871429  0.993592   \n",
              "4   5977.0  29023.0   50.286051   49.942354   17.077143  1.005707   \n",
              "5   7094.0  34905.0   59.683661   60.064013   16.892889  0.994856   \n",
              "6   8289.0  40710.0   69.737506   70.053172   16.916327  0.996236   \n",
              "7   9506.0  46493.0   79.976443   80.004474   16.975000  0.999691   \n",
              "8  10691.0  52308.0   89.946155   90.010841   16.969841  0.999387   \n",
              "9  11886.0  58113.0  100.000000  100.000000   16.980000  0.999986   \n",
              "\n",
              "   capture_rate  \n",
              "0      0.104829  \n",
              "1      0.095995  \n",
              "2      0.096584  \n",
              "3      0.100034  \n",
              "4      0.105418  \n",
              "5      0.093976  \n",
              "6      0.100538  \n",
              "7      0.102389  \n",
              "8      0.099697  \n",
              "9      0.100538  "
            ]
          },
          "execution_count": 20,
          "metadata": {},
          "output_type": "execute_result"
        }
      ],
      "source": [
        "### Training Decile Report\n",
        "decile_report_binary(X_train_enc,y_train,dclf,q=10)"
      ]
    },
    {
      "cell_type": "markdown",
      "metadata": {
        "id": "p7FhvtjZ6Jxj"
      },
      "source": [
        "## Model 1 Random Forest"
      ]
    },
    {
      "cell_type": "code",
      "execution_count": null,
      "metadata": {
        "id": "Icu536lNhYGf"
      },
      "outputs": [],
      "source": [
        "### Reloading the entire data and transforming it for RF\n",
        "X_train, X_test, y_train, y_test = train_test_split(X, y, test_size=0.3, random_state=42, shuffle=True, stratify=y)\n",
        "X_train_enc=ce_enc.transform(X_train)\n",
        "X_test_enc=ce_enc.transform(X_test)\n",
        "X_train_enc=X_train_enc[sel_features]\n",
        "X_test_enc=X_test_enc[sel_features]"
      ]
    },
    {
      "cell_type": "code",
      "execution_count": null,
      "metadata": {
        "id": "Fdcf8d28II8v"
      },
      "outputs": [],
      "source": [
        "##### Using Optuna to find the best hyperparameters we have used recall as the evaluation criteria as we want capture as much clicks as possible also web as a channel is less expensive so recall should be as high as possible"
      ]
    },
    {
      "cell_type": "code",
      "execution_count": null,
      "metadata": {
        "id": "SqaloIts6QVO"
      },
      "outputs": [],
      "source": [
        "import optuna\n",
        "import sklearn\n",
        "def objective(trial):\n",
        "    n_estimators = trial.suggest_int('n_estimators', 1000, 1500)\n",
        "    max_depth = (trial.suggest_int('max_depth', 1, 9))\n",
        "    min_samples_split = (trial.suggest_int('min_samples_split', 5, 100))\n",
        "    min_samples_leaf  = (trial.suggest_int('min_samples_leaf', 5, 100))\n",
        "    clf = sklearn.ensemble.RandomForestClassifier(n_estimators=n_estimators, max_depth=max_depth,min_samples_split=min_samples_split,min_samples_leaf=min_samples_leaf, random_state=0,class_weight='balanced')\n",
        "    return sklearn.model_selection.cross_val_score(clf, X_train_enc, y_train, \n",
        "           n_jobs=-1, cv=3).mean()"
      ]
    },
    {
      "cell_type": "code",
      "execution_count": null,
      "metadata": {
        "colab": {
          "base_uri": "https://localhost:8080/"
        },
        "id": "Jl8wJy-27xEJ",
        "outputId": "21229771-b49a-4489-9c5f-2ac9b08c8f01"
      },
      "outputs": [
        {
          "name": "stderr",
          "output_type": "stream",
          "text": [
            "\u001b[32m[I 2022-05-18 17:49:09,345]\u001b[0m A new study created in memory with name: no-name-ed65afae-7cd8-4bf4-bc38-ebb691a69d19\u001b[0m\n",
            "\u001b[32m[I 2022-05-18 17:49:42,740]\u001b[0m Trial 0 finished with value: 0.6237660538007685 and parameters: {'n_estimators': 1413, 'max_depth': 3, 'min_samples_split': 61, 'min_samples_leaf': 26}. Best is trial 0 with value: 0.6237660538007685.\u001b[0m\n",
            "\u001b[32m[I 2022-05-18 17:50:26,663]\u001b[0m Trial 1 finished with value: 0.6486378376833954 and parameters: {'n_estimators': 1095, 'max_depth': 8, 'min_samples_split': 66, 'min_samples_leaf': 73}. Best is trial 1 with value: 0.6486378376833954.\u001b[0m\n",
            "\u001b[32m[I 2022-05-18 17:51:06,937]\u001b[0m Trial 2 finished with value: 0.6316375948227831 and parameters: {'n_estimators': 1208, 'max_depth': 6, 'min_samples_split': 89, 'min_samples_leaf': 82}. Best is trial 1 with value: 0.6486378376833954.\u001b[0m\n",
            "\u001b[32m[I 2022-05-18 17:51:37,130]\u001b[0m Trial 3 finished with value: 0.6236946242089173 and parameters: {'n_estimators': 1329, 'max_depth': 3, 'min_samples_split': 75, 'min_samples_leaf': 22}. Best is trial 1 with value: 0.6486378376833954.\u001b[0m\n",
            "\u001b[32m[I 2022-05-18 17:51:56,763]\u001b[0m Trial 4 finished with value: 0.608437263389477 and parameters: {'n_estimators': 1301, 'max_depth': 1, 'min_samples_split': 29, 'min_samples_leaf': 19}. Best is trial 1 with value: 0.6486378376833954.\u001b[0m\n",
            "\u001b[32m[I 2022-05-18 17:52:40,263]\u001b[0m Trial 5 finished with value: 0.6471806740096288 and parameters: {'n_estimators': 1114, 'max_depth': 8, 'min_samples_split': 61, 'min_samples_leaf': 90}. Best is trial 1 with value: 0.6486378376833954.\u001b[0m\n",
            "\u001b[32m[I 2022-05-18 17:53:26,557]\u001b[0m Trial 6 finished with value: 0.6522093172759611 and parameters: {'n_estimators': 1129, 'max_depth': 9, 'min_samples_split': 14, 'min_samples_leaf': 95}. Best is trial 6 with value: 0.6522093172759611.\u001b[0m\n",
            "\u001b[32m[I 2022-05-18 17:53:52,168]\u001b[0m Trial 7 finished with value: 0.6162516607380105 and parameters: {'n_estimators': 1393, 'max_depth': 2, 'min_samples_split': 46, 'min_samples_leaf': 11}. Best is trial 6 with value: 0.6522093172759611.\u001b[0m\n",
            "\u001b[32m[I 2022-05-18 17:54:27,389]\u001b[0m Trial 8 finished with value: 0.6292804182916899 and parameters: {'n_estimators': 1197, 'max_depth': 5, 'min_samples_split': 83, 'min_samples_leaf': 5}. Best is trial 6 with value: 0.6522093172759611.\u001b[0m\n",
            "\u001b[32m[I 2022-05-18 17:55:10,396]\u001b[0m Trial 9 finished with value: 0.6289518421691739 and parameters: {'n_estimators': 1456, 'max_depth': 5, 'min_samples_split': 42, 'min_samples_leaf': 90}. Best is trial 6 with value: 0.6522093172759611.\u001b[0m\n",
            "\u001b[32m[I 2022-05-18 17:55:51,970]\u001b[0m Trial 10 finished with value: 0.6537236246232089 and parameters: {'n_estimators': 1007, 'max_depth': 9, 'min_samples_split': 6, 'min_samples_leaf': 55}. Best is trial 10 with value: 0.6537236246232089.\u001b[0m\n",
            "\u001b[32m[I 2022-05-18 17:56:34,258]\u001b[0m Trial 11 finished with value: 0.6548379262560894 and parameters: {'n_estimators': 1008, 'max_depth': 9, 'min_samples_split': 8, 'min_samples_leaf': 52}. Best is trial 11 with value: 0.6548379262560894.\u001b[0m\n",
            "\u001b[32m[I 2022-05-18 17:57:18,139]\u001b[0m Trial 12 finished with value: 0.6547093529907569 and parameters: {'n_estimators': 1001, 'max_depth': 9, 'min_samples_split': 8, 'min_samples_leaf': 46}. Best is trial 11 with value: 0.6548379262560894.\u001b[0m\n",
            "\u001b[32m[I 2022-05-18 17:57:57,169]\u001b[0m Trial 13 finished with value: 0.6431806168659552 and parameters: {'n_estimators': 1001, 'max_depth': 7, 'min_samples_split': 24, 'min_samples_leaf': 44}. Best is trial 11 with value: 0.6548379262560894.\u001b[0m\n",
            "\u001b[32m[I 2022-05-18 17:58:37,887]\u001b[0m Trial 14 finished with value: 0.6435377648252117 and parameters: {'n_estimators': 1076, 'max_depth': 7, 'min_samples_split': 5, 'min_samples_leaf': 52}. Best is trial 11 with value: 0.6548379262560894.\u001b[0m\n",
            "\u001b[32m[I 2022-05-18 17:59:23,561]\u001b[0m Trial 15 finished with value: 0.657266532379034 and parameters: {'n_estimators': 1047, 'max_depth': 9, 'min_samples_split': 29, 'min_samples_leaf': 41}. Best is trial 15 with value: 0.657266532379034.\u001b[0m\n",
            "\u001b[32m[I 2022-05-18 18:00:06,455]\u001b[0m Trial 16 finished with value: 0.6433520478863984 and parameters: {'n_estimators': 1171, 'max_depth': 7, 'min_samples_split': 32, 'min_samples_leaf': 63}. Best is trial 15 with value: 0.657266532379034.\u001b[0m\n",
            "\u001b[32m[I 2022-05-18 18:00:48,652]\u001b[0m Trial 17 finished with value: 0.6508235831940458 and parameters: {'n_estimators': 1059, 'max_depth': 8, 'min_samples_split': 23, 'min_samples_leaf': 36}. Best is trial 15 with value: 0.657266532379034.\u001b[0m\n",
            "\u001b[32m[I 2022-05-18 18:01:30,856]\u001b[0m Trial 18 finished with value: 0.6318661695167074 and parameters: {'n_estimators': 1263, 'max_depth': 6, 'min_samples_split': 38, 'min_samples_leaf': 65}. Best is trial 15 with value: 0.657266532379034.\u001b[0m\n",
            "\u001b[32m[I 2022-05-18 18:01:59,148]\u001b[0m Trial 19 finished with value: 0.627166102372891 and parameters: {'n_estimators': 1051, 'max_depth': 4, 'min_samples_split': 17, 'min_samples_leaf': 33}. Best is trial 15 with value: 0.657266532379034.\u001b[0m\n",
            "\u001b[32m[I 2022-05-18 18:02:47,509]\u001b[0m Trial 20 finished with value: 0.6569236703381477 and parameters: {'n_estimators': 1145, 'max_depth': 9, 'min_samples_split': 53, 'min_samples_leaf': 42}. Best is trial 15 with value: 0.657266532379034.\u001b[0m\n",
            "\u001b[32m[I 2022-05-18 18:03:37,930]\u001b[0m Trial 21 finished with value: 0.656995099929999 and parameters: {'n_estimators': 1146, 'max_depth': 9, 'min_samples_split': 51, 'min_samples_leaf': 40}. Best is trial 15 with value: 0.657266532379034.\u001b[0m\n",
            "\u001b[32m[I 2022-05-18 18:04:23,928]\u001b[0m Trial 22 finished with value: 0.6510093001328591 and parameters: {'n_estimators': 1161, 'max_depth': 8, 'min_samples_split': 51, 'min_samples_leaf': 37}. Best is trial 15 with value: 0.657266532379034.\u001b[0m\n",
            "\u001b[32m[I 2022-05-18 18:05:17,859]\u001b[0m Trial 23 finished with value: 0.6563522336033372 and parameters: {'n_estimators': 1240, 'max_depth': 9, 'min_samples_split': 99, 'min_samples_leaf': 42}. Best is trial 15 with value: 0.657266532379034.\u001b[0m\n",
            "\u001b[32m[I 2022-05-18 18:06:03,409]\u001b[0m Trial 24 finished with value: 0.6507092958470836 and parameters: {'n_estimators': 1142, 'max_depth': 8, 'min_samples_split': 51, 'min_samples_leaf': 30}. Best is trial 15 with value: 0.657266532379034.\u001b[0m\n"
          ]
        }
      ],
      "source": [
        "study = optuna.create_study(direction='maximize')\n",
        "study.optimize(objective, n_trials=25)"
      ]
    },
    {
      "cell_type": "code",
      "execution_count": null,
      "metadata": {
        "colab": {
          "base_uri": "https://localhost:8080/"
        },
        "id": "7HmGhOKdG1J5",
        "outputId": "8b02d1a6-5413-451c-eab3-38f03b95aeba"
      },
      "outputs": [
        {
          "name": "stdout",
          "output_type": "stream",
          "text": [
            "score: 0.657266532379034\n"
          ]
        }
      ],
      "source": [
        "trial = study.best_trial\n",
        "print('score: {}'.format(trial.value))"
      ]
    },
    {
      "cell_type": "code",
      "execution_count": null,
      "metadata": {
        "colab": {
          "base_uri": "https://localhost:8080/"
        },
        "id": "VpK-lg7l9PSd",
        "outputId": "70ad76d8-4088-4581-94e9-79b091a64cee"
      },
      "outputs": [
        {
          "name": "stdout",
          "output_type": "stream",
          "text": [
            "Best hyperparameters: {'n_estimators': 1047, 'max_depth': 9, 'min_samples_split': 29, 'min_samples_leaf': 41}\n"
          ]
        }
      ],
      "source": [
        "print(\"Best hyperparameters: {}\".format(trial.params))"
      ]
    },
    {
      "cell_type": "code",
      "execution_count": null,
      "metadata": {
        "colab": {
          "base_uri": "https://localhost:8080/",
          "height": 922
        },
        "id": "-Ms13-l2G9v2",
        "outputId": "8f171604-a9c9-4ffc-fd53-d39abea03407"
      },
      "outputs": [
        {
          "name": "stdout",
          "output_type": "stream",
          "text": [
            "Training {'accuracy_score': 0.6625523221760311, 'f1_score': 0.43524208009563653, 'precision_score': 0.30401817027956846, 'recall_score': 0.7657748611812216}\n",
            "Testing {'accuracy_score': 0.6432333333333333, 'f1_score': 0.4049591371546116, 'precision_score': 0.28247886450011633, 'recall_score': 0.7149587750294464}\n",
            "Classification report \n",
            "              precision    recall  f1-score   support\n",
            "\n",
            "           0       0.93      0.64      0.76     58113\n",
            "           1       0.30      0.77      0.44     11886\n",
            "\n",
            "    accuracy                           0.66     69999\n",
            "   macro avg       0.62      0.70      0.60     69999\n",
            "weighted avg       0.82      0.66      0.70     69999\n",
            "\n",
            "Confusion metrics \n",
            "[[37276 20837]\n",
            " [ 2784  9102]]\n",
            "training roc auc 0.7755548628692301\n",
            "testing roc auc 0.7316180688623618\n"
          ]
        },
        {
          "data": {
            "image/png": "[encoded data removed]",
            "text/plain": [
              "<Figure size 432x288 with 1 Axes>"
            ]
          },
          "metadata": {
            "needs_background": "light"
          },
          "output_type": "display_data"
        },
        {
          "data": {
            "image/png": "[encoded data removed]",
            "text/plain": [
              "<Figure size 432x288 with 1 Axes>"
            ]
          },
          "metadata": {
            "needs_background": "light"
          },
          "output_type": "display_data"
        },
        {
          "name": "stdout",
          "output_type": "stream",
          "text": [
            "Confusion metrics \n",
            "[[15655  9251]\n",
            " [ 1452  3642]]\n"
          ]
        }
      ],
      "source": [
        "### Training the final model after hyperparameter optimization and computing all the evaluation metrics\n",
        "clf = RandomForestClassifier(max_depth=9 ,n_estimators=1047, random_state=0,min_samples_split= 29,min_samples_leaf= 41,class_weight='balanced')\n",
        "clf.fit(X_train_enc,y_train)\n",
        "print('Training {}'.format(acc(X_train_enc,y_train,classifier=clf)))\n",
        "print('Testing {}'.format(acc(X_test_enc,y_test,classifier=clf)))\n",
        "print('Classification report \\n{}'.format(Classification_Report(X_train_enc,y_train,classifier=clf)))\n",
        "print('Confusion metrics \\n{}'.format(Confusion_Matrix(X_train_enc,y_train,classifier=clf)))\n",
        "FeatureImportance(X_train_enc,fi=clf.feature_importances_)\n",
        "print('training roc auc {}'.format(roc_auc(X_train_enc,y_train,classifier=clf)))\n",
        "print('testing roc auc {}'.format(roc_auc(X_test_enc,y_test,classifier=clf)))\n",
        "roc_plot(X_train_enc,y_train,classifier=clf)\n",
        "Precision_Recall_curve(X_train_enc,y_train,classifier=clf)\n",
        "print('Confusion metrics \\n{}'.format(Confusion_Matrix(X_test_enc,y_test,classifier=clf)))"
      ]
    },
    {
      "cell_type": "code",
      "execution_count": null,
      "metadata": {
        "colab": {
          "base_uri": "https://localhost:8080/"
        },
        "id": "ATQHUpPyOCot",
        "outputId": "e24f89cf-a3af-409a-cf1a-e28ac4235fd7"
      },
      "outputs": [
        {
          "name": "stdout",
          "output_type": "stream",
          "text": [
            "              precision    recall  f1-score   support\n",
            "\n",
            "           0       0.88      0.88      0.88     58113\n",
            "           1       0.43      0.42      0.42     11886\n",
            "\n",
            "    accuracy                           0.81     69999\n",
            "   macro avg       0.65      0.65      0.65     69999\n",
            "weighted avg       0.80      0.81      0.80     69999\n",
            "\n"
          ]
        }
      ],
      "source": [
        "print(Classification_Report_th(X_train_enc,y_train,classifier=clf,th=0.63))"
      ]
    },
    {
      "cell_type": "code",
      "execution_count": null,
      "metadata": {
        "colab": {
          "base_uri": "https://localhost:8080/"
        },
        "id": "7sBxosu5WkkY",
        "outputId": "9d7c31c7-3eef-467e-8842-d5205178c0a4"
      },
      "outputs": [
        {
          "name": "stdout",
          "output_type": "stream",
          "text": [
            "Response Rate:16.98%\n",
            "   decile  freq  act_mean  prob_mean  prob_min  prob_max  num_1  num_0  \\\n",
            "0       1  3000  0.414000   0.757865  0.683548  0.925515   1242   1758   \n",
            "1       2  3000  0.289000   0.643002  0.611485  0.683532    867   2133   \n",
            "2       3  3000  0.244333   0.583164  0.558987  0.611411    733   2267   \n",
            "3       4  3000  0.214667   0.536670  0.513957  0.558948    644   2356   \n",
            "4       5  3000  0.164667   0.486680  0.454428  0.513937    494   2506   \n",
            "5       6  3000  0.130333   0.418042  0.383291  0.454394    391   2609   \n",
            "6       7  3000  0.095000   0.345854  0.308234  0.383254    285   2715   \n",
            "7       8  3000  0.076333   0.260413  0.212365  0.308222    229   2771   \n",
            "8       9  3000  0.045667   0.178485  0.148001  0.212314    137   2863   \n",
            "9      10  3000  0.024000   0.107169  0.016598  0.147992     72   2928   \n",
            "\n",
            "    cum_1    cum_0   per_cum_1   per_cum_0  event_rate  cum_lift  capture_rate  \n",
            "0  1242.0   1758.0   24.381625    7.058540   41.400000  2.438163      0.243816  \n",
            "1  2109.0   3891.0   41.401649   15.622742   35.150000  2.070082      0.170200  \n",
            "2  2842.0   6158.0   55.791127   24.724966   31.577778  1.859704      0.143895  \n",
            "3  3486.0   8514.0   68.433451   34.184534   29.050000  1.710836      0.126423  \n",
            "4  3980.0  11020.0   78.131135   44.246366   26.533333  1.562623      0.096977  \n",
            "5  4371.0  13629.0   85.806832   54.721754   24.283333  1.430114      0.076757  \n",
            "6  4656.0  16344.0   91.401649   65.622742   22.171429  1.305738      0.055948  \n",
            "7  4885.0  19115.0   95.897134   76.748575   20.354167  1.198714      0.044955  \n",
            "8  5022.0  21978.0   98.586572   88.243797   18.600000  1.095406      0.026894  \n",
            "9  5094.0  24906.0  100.000000  100.000000   16.980000  1.000000      0.014134  \n"
          ]
        }
      ],
      "source": [
        "### Training Decile Report\n",
        "rtf_decile_report=decile_report_binary(X_test_enc,y_test,clf,q=10)"
      ]
    },
    {
      "cell_type": "code",
      "execution_count": null,
      "metadata": {
        "id": "hj1jX_qyQhNJ"
      },
      "outputs": [],
      "source": [
        "RTF_Training_accuracy=acc_pd(X_train_enc,y_train,classifier=clf,th=0.6,metrics='RTF_metrics')\n",
        "RTF_Testing_accuracy=acc_pd(X_test_enc,y_test,classifier=clf,th=0.6,metrics='RTF_metrics')"
      ]
    },
    {
      "cell_type": "code",
      "execution_count": null,
      "metadata": {
        "colab": {
          "base_uri": "https://localhost:8080/"
        },
        "id": "mDgFcfkCPWd4",
        "outputId": "a3babc62-bf1f-4173-926e-82449dcd74c5"
      },
      "outputs": [
        {
          "data": {
            "text/plain": [
              "array([0.66120945, 0.65435221, 0.66103801])"
            ]
          },
          "execution_count": 23,
          "metadata": {},
          "output_type": "execute_result"
        }
      ],
      "source": [
        "### Crossvalidation score shows the model is not overfitiing\n",
        "sklearn.model_selection.cross_val_score(clf,X_train_enc,y_train,cv=3)"
      ]
    },
    {
      "cell_type": "markdown",
      "metadata": {
        "id": "XIXqoCHURuhM"
      },
      "source": [
        "## Model 2 Xgboost "
      ]
    },
    {
      "cell_type": "code",
      "execution_count": null,
      "metadata": {
        "id": "MUIR1LIkc-Ff"
      },
      "outputs": [],
      "source": [
        "### Reloading the entire data and transforming it for xgboost\n",
        "X_train, X_test, y_train, y_test = train_test_split(X, y, test_size=0.3, random_state=42, shuffle=True, stratify=y)\n",
        "X_train_enc=ce_enc.transform(X_train)\n",
        "X_test_enc=ce_enc.transform(X_test)\n",
        "\n",
        "### Creating a validation data for early stopping and prevent data leakage not using test data \n",
        "X_train_enc, X_val_enc, y_train, y_val=train_test_split(X_train_enc,y_train, test_size=0.15, random_state=42, shuffle=True, stratify=y_train)"
      ]
    },
    {
      "cell_type": "code",
      "execution_count": null,
      "metadata": {
        "id": "XTByj9xTac55"
      },
      "outputs": [],
      "source": [
        "### Class weights\n",
        "from sklearn.utils import class_weight\n",
        "class_weights=class_weight.compute_sample_weight(\n",
        "    class_weight='balanced',y=y_train\n",
        ")"
      ]
    },
    {
      "cell_type": "code",
      "execution_count": null,
      "metadata": {
        "colab": {
          "base_uri": "https://localhost:8080/",
          "height": 867
        },
        "id": "lgSVnA3FdP7q",
        "outputId": "549dbf04-40ea-4927-cee9-23020661c1f5"
      },
      "outputs": [
        {
          "name": "stdout",
          "output_type": "stream",
          "text": [
            "Training {'accuracy_score': 0.7181633304761424, 'f1_score': 0.4086885997390599, 'precision_score': 0.3174298860648554, 'recall_score': 0.573592002375532}\n",
            "Testing {'accuracy_score': 0.7062333333333334, 'f1_score': 0.37358731963892244, 'precision_score': 0.2928133704735376, 'recall_score': 0.5159010600706714}\n",
            "Classification report \n",
            "              precision    recall  f1-score   support\n",
            "\n",
            "           0       0.90      0.75      0.81     49396\n",
            "           1       0.32      0.57      0.41     10103\n",
            "\n",
            "    accuracy                           0.72     59499\n",
            "   macro avg       0.61      0.66      0.61     59499\n",
            "weighted avg       0.80      0.72      0.75     59499\n",
            "\n",
            "Confusion metrics \n",
            "[[36935 12461]\n",
            " [ 4308  5795]]\n",
            "training roc auc 0.7179671248237254\n",
            "testing roc auc 0.6947524143468882\n"
          ]
        },
        {
          "data": {
            "image/png": "[encoded data removed]",
            "text/plain": [
              "<Figure size 432x288 with 1 Axes>"
            ]
          },
          "metadata": {
            "needs_background": "light"
          },
          "output_type": "display_data"
        },
        {
          "data": {
            "image/png": "[encoded data removed]",
            "text/plain": [
              "<Figure size 432x288 with 1 Axes>"
            ]
          },
          "metadata": {
            "needs_background": "light"
          },
          "output_type": "display_data"
        }
      ],
      "source": [
        "### Simple xgb boost without hyperparameter tuning\n",
        "xgb_model=xgb.XGBClassifier()\n",
        "xgb_model.fit(X_train_enc,y_train,eval_set=[(X_val_enc,y_val)],sample_weight=class_weights,early_stopping_rounds=100,verbose=False)\n",
        "print('Training {}'.format(acc(X_train_enc,y_train,classifier=xgb_model)))\n",
        "print('Testing {}'.format(acc(X_test_enc,y_test,classifier=xgb_model)))\n",
        "print('Classification report \\n{}'.format(Classification_Report(X_train_enc,y_train,classifier=xgb_model)))\n",
        "print('Confusion metrics \\n{}'.format(Confusion_Matrix(X_train_enc,y_train,classifier=xgb_model)))\n",
        "FeatureImportance(X_train_enc,fi=xgb_model.feature_importances_)\n",
        "print('training roc auc {}'.format(roc_auc(X_train_enc,y_train,classifier=xgb_model)))\n",
        "print('testing roc auc {}'.format(roc_auc(X_test_enc,y_test,classifier=xgb_model)))\n",
        "roc_plot(X_train_enc,y_train,classifier=xgb_model)\n",
        "Precision_Recall_curve(X_train_enc,y_train,classifier=xgb_model)"
      ]
    },
    {
      "cell_type": "code",
      "execution_count": null,
      "metadata": {
        "colab": {
          "base_uri": "https://localhost:8080/",
          "height": 917
        },
        "id": "6xYVnqB2dk0M",
        "outputId": "98bc33c9-6a1e-407b-b963-e05d12bf0540"
      },
      "outputs": [
        {
          "data": {
            "image/png": "[encoded data removed]",
            "text/plain": [
              "<Figure size 1080x576 with 1 Axes>"
            ]
          },
          "metadata": {
            "needs_background": "light"
          },
          "output_type": "display_data"
        },
        {
          "name": "stdout",
          "output_type": "stream",
          "text": [
            "               index  Importance  cumulative_imp\n",
            "0                C14    0.306730       30.672974\n",
            "1            site_id    0.215610       52.233971\n",
            "2             app_id    0.112365       63.470470\n",
            "3       device_model    0.090916       72.562119\n",
            "4        site_domain    0.056560       78.218094\n",
            "5        device_type    0.037772       81.995300\n",
            "6                C17    0.019205       83.915749\n",
            "7      site_category    0.018278       85.743584\n",
            "8                C18    0.016470       87.390556\n",
            "9         app_domain    0.016022       88.992706\n",
            "10               C21    0.013214       90.314117\n",
            "11               C20    0.012866       91.600708\n",
            "12               C15    0.011769       92.777580\n",
            "13              hour    0.011736       93.951225\n",
            "14        banner_pos    0.011698       95.120987\n",
            "15      app_category    0.010528       96.173820\n",
            "16               day    0.009378       97.111649\n",
            "17               C19    0.009080       98.019669\n",
            "18               C16    0.007264       98.746048\n",
            "19         dayofweek    0.006780       99.424072\n",
            "20                C1    0.005759       99.999992\n",
            "21  device_conn_type    0.000000       99.999992\n"
          ]
        }
      ],
      "source": [
        "## feature importance of xgboost classifier\n",
        "feature_imp_plot(X_train_enc,xgb_model.feature_importances_)"
      ]
    },
    {
      "cell_type": "code",
      "execution_count": null,
      "metadata": {
        "id": "TFuXvVFqeG8i"
      },
      "outputs": [],
      "source": [
        "### Removing feature from xgboost model \n",
        "X_train_enc=X_train_enc.drop(['dayofweek','C1','device_conn_type'],axis=1)\n",
        "X_test_enc=X_test_enc.drop(['dayofweek','C1','device_conn_type'],axis=1)\n",
        "X_val_enc=X_val_enc.drop(['dayofweek','C1','device_conn_type'],axis=1)"
      ]
    },
    {
      "cell_type": "code",
      "execution_count": null,
      "metadata": {
        "id": "mmgQJEEleSlx"
      },
      "outputs": [],
      "source": [
        "class_weights=class_weight.compute_sample_weight(\n",
        "    class_weight='balanced',y=y_train\n",
        ")"
      ]
    },
    {
      "cell_type": "code",
      "execution_count": null,
      "metadata": {
        "id": "UvbCG-pPUo6x"
      },
      "outputs": [],
      "source": [
        "\n",
        "def objective(trial):\n",
        "    param = { 'lambda': trial.suggest_loguniform('lambda', 0.1, 10.0),\n",
        "            'alpha': trial.suggest_loguniform('alpha', 1e-3, 10.0),\n",
        "             'learning_rate': trial.suggest_categorical('learning_rate', [0.008,0.01,0.012,0.014,0.016,0.018, 0.02]),\n",
        "             'n_estimators' : trial.suggest_int('n_estimators', 300, 1000),\n",
        "             'max_depth' : (trial.suggest_int('max_depth', 1, 7))\n",
        "             }\n",
        "    model = xgb.XGBClassifier(**param)\n",
        "    model.fit(X_train_enc,y_train,eval_set=[(X_val_enc,y_val)],sample_weight=class_weights,early_stopping_rounds=10,verbose=False)\n",
        "    return sklearn.model_selection.cross_val_score(model, X_train_enc, y_train, \n",
        "           n_jobs=-1, cv=3).mean()"
      ]
    },
    {
      "cell_type": "code",
      "execution_count": null,
      "metadata": {
        "colab": {
          "base_uri": "https://localhost:8080/"
        },
        "id": "WgapyiBfaWS5",
        "outputId": "25f3e025-e139-4fba-8b72-b9a1534d6ab9"
      },
      "outputs": [
        {
          "name": "stderr",
          "output_type": "stream",
          "text": [
            "\u001b[32m[I 2022-05-18 18:08:37,274]\u001b[0m A new study created in memory with name: no-name-2e6d4303-33b6-4202-a08c-fc003b24406e\u001b[0m\n",
            "\u001b[32m[I 2022-05-18 18:09:16,046]\u001b[0m Trial 0 finished with value: 0.8381653473167616 and parameters: {'lambda': 1.973897710919484, 'alpha': 3.5298544846495132, 'learning_rate': 0.012, 'n_estimators': 828, 'max_depth': 4}. Best is trial 0 with value: 0.8381653473167616.\u001b[0m\n",
            "\u001b[32m[I 2022-05-18 18:09:49,368]\u001b[0m Trial 1 finished with value: 0.8380476982806434 and parameters: {'lambda': 1.896130128536074, 'alpha': 0.06706231611579387, 'learning_rate': 0.02, 'n_estimators': 720, 'max_depth': 4}. Best is trial 0 with value: 0.8381653473167616.\u001b[0m\n",
            "\u001b[32m[I 2022-05-18 18:10:42,456]\u001b[0m Trial 2 finished with value: 0.8374258390897326 and parameters: {'lambda': 1.2520691300249918, 'alpha': 0.011281306697841697, 'learning_rate': 0.02, 'n_estimators': 764, 'max_depth': 6}. Best is trial 0 with value: 0.8381653473167616.\u001b[0m\n",
            "\u001b[32m[I 2022-05-18 18:11:35,575]\u001b[0m Trial 3 finished with value: 0.8375771021361703 and parameters: {'lambda': 1.0217743117658467, 'alpha': 0.2566627585756322, 'learning_rate': 0.014, 'n_estimators': 751, 'max_depth': 6}. Best is trial 0 with value: 0.8381653473167616.\u001b[0m\n",
            "\u001b[32m[I 2022-05-18 18:12:53,070]\u001b[0m Trial 4 finished with value: 0.8371737340123363 and parameters: {'lambda': 3.4538620636726347, 'alpha': 0.030127839007737075, 'learning_rate': 0.008, 'n_estimators': 894, 'max_depth': 7}. Best is trial 0 with value: 0.8381653473167616.\u001b[0m\n",
            "\u001b[32m[I 2022-05-18 18:13:11,345]\u001b[0m Trial 5 finished with value: 0.8364174187801475 and parameters: {'lambda': 0.2987549620246777, 'alpha': 0.005208468227092336, 'learning_rate': 0.014, 'n_estimators': 955, 'max_depth': 1}. Best is trial 0 with value: 0.8381653473167616.\u001b[0m\n",
            "\u001b[32m[I 2022-05-18 18:13:19,370]\u001b[0m Trial 6 finished with value: 0.8318459133766954 and parameters: {'lambda': 0.8481514906426412, 'alpha': 7.449318427541977, 'learning_rate': 0.016, 'n_estimators': 383, 'max_depth': 1}. Best is trial 0 with value: 0.8381653473167616.\u001b[0m\n",
            "\u001b[32m[I 2022-05-18 18:14:00,207]\u001b[0m Trial 7 finished with value: 0.8379300492445251 and parameters: {'lambda': 2.7990911994348218, 'alpha': 5.5218490796840785, 'learning_rate': 0.012, 'n_estimators': 708, 'max_depth': 5}. Best is trial 0 with value: 0.8381653473167616.\u001b[0m\n",
            "\u001b[32m[I 2022-05-18 18:15:08,737]\u001b[0m Trial 8 finished with value: 0.8369888569555791 and parameters: {'lambda': 2.08034674442211, 'alpha': 0.0012009344475881504, 'learning_rate': 0.016, 'n_estimators': 975, 'max_depth': 6}. Best is trial 0 with value: 0.8381653473167616.\u001b[0m\n",
            "\u001b[32m[I 2022-05-18 18:15:23,154]\u001b[0m Trial 9 finished with value: 0.8373922250794131 and parameters: {'lambda': 1.4596857935666623, 'alpha': 0.0015531568339456664, 'learning_rate': 0.014, 'n_estimators': 524, 'max_depth': 2}. Best is trial 0 with value: 0.8381653473167616.\u001b[0m\n",
            "\u001b[32m[I 2022-05-18 18:15:42,274]\u001b[0m Trial 10 finished with value: 0.8378628212238861 and parameters: {'lambda': 8.599061935046517, 'alpha': 0.4296795632727244, 'learning_rate': 0.012, 'n_estimators': 507, 'max_depth': 3}. Best is trial 0 with value: 0.8381653473167616.\u001b[0m\n",
            "\u001b[32m[I 2022-05-18 18:16:20,359]\u001b[0m Trial 11 finished with value: 0.8383502243735189 and parameters: {'lambda': 0.41730693039941286, 'alpha': 0.7815120592028292, 'learning_rate': 0.018, 'n_estimators': 828, 'max_depth': 4}. Best is trial 11 with value: 0.8383502243735189.\u001b[0m\n",
            "\u001b[32m[I 2022-05-18 18:16:59,614]\u001b[0m Trial 12 finished with value: 0.8382998033580397 and parameters: {'lambda': 0.11390917705656449, 'alpha': 1.2596584251081757, 'learning_rate': 0.018, 'n_estimators': 852, 'max_depth': 4}. Best is trial 11 with value: 0.8383502243735189.\u001b[0m\n",
            "\u001b[32m[I 2022-05-18 18:17:30,029]\u001b[0m Trial 13 finished with value: 0.8382325753374006 and parameters: {'lambda': 0.10488480731826003, 'alpha': 1.0419145268326082, 'learning_rate': 0.018, 'n_estimators': 861, 'max_depth': 3}. Best is trial 11 with value: 0.8383502243735189.\u001b[0m\n",
            "\u001b[32m[I 2022-05-18 18:17:53,390]\u001b[0m Trial 14 finished with value: 0.8384342593993176 and parameters: {'lambda': 0.11781716269683722, 'alpha': 1.2068301073958347, 'learning_rate': 0.018, 'n_estimators': 634, 'max_depth': 3}. Best is trial 14 with value: 0.8384342593993176.\u001b[0m\n",
            "\u001b[32m[I 2022-05-18 18:18:12,680]\u001b[0m Trial 15 finished with value: 0.8374930671103716 and parameters: {'lambda': 0.3995073418762669, 'alpha': 0.20494999369826775, 'learning_rate': 0.01, 'n_estimators': 526, 'max_depth': 3}. Best is trial 14 with value: 0.8384342593993176.\u001b[0m\n",
            "\u001b[32m[I 2022-05-18 18:18:29,984]\u001b[0m Trial 16 finished with value: 0.8380140842703239 and parameters: {'lambda': 0.24921350787810806, 'alpha': 1.3377136045456568, 'learning_rate': 0.018, 'n_estimators': 637, 'max_depth': 2}. Best is trial 14 with value: 0.8384342593993176.\u001b[0m\n",
            "\u001b[32m[I 2022-05-18 18:18:47,500]\u001b[0m Trial 17 finished with value: 0.8380308912754836 and parameters: {'lambda': 0.5562978334957471, 'alpha': 0.08858510588151135, 'learning_rate': 0.018, 'n_estimators': 639, 'max_depth': 2}. Best is trial 14 with value: 0.8384342593993176.\u001b[0m\n",
            "\u001b[32m[I 2022-05-18 18:19:09,955]\u001b[0m Trial 18 finished with value: 0.8381485403116019 and parameters: {'lambda': 0.18520039674057248, 'alpha': 0.5420191671897122, 'learning_rate': 0.018, 'n_estimators': 361, 'max_depth': 5}. Best is trial 14 with value: 0.8384342593993176.\u001b[0m\n",
            "\u001b[32m[I 2022-05-18 18:19:46,347]\u001b[0m Trial 19 finished with value: 0.8380813122909628 and parameters: {'lambda': 0.17196617562071642, 'alpha': 1.7983744540981124, 'learning_rate': 0.008, 'n_estimators': 581, 'max_depth': 5}. Best is trial 14 with value: 0.8384342593993176.\u001b[0m\n",
            "\u001b[32m[I 2022-05-18 18:19:57,689]\u001b[0m Trial 20 finished with value: 0.8355602615170002 and parameters: {'lambda': 0.6382833121331515, 'alpha': 2.527790313339159, 'learning_rate': 0.01, 'n_estimators': 305, 'max_depth': 3}. Best is trial 14 with value: 0.8384342593993176.\u001b[0m\n",
            "\u001b[32m[I 2022-05-18 18:20:45,080]\u001b[0m Trial 21 finished with value: 0.8382829963528798 and parameters: {'lambda': 0.11584536697962454, 'alpha': 0.7473244270095144, 'learning_rate': 0.018, 'n_estimators': 797, 'max_depth': 4}. Best is trial 14 with value: 0.8384342593993176.\u001b[0m\n",
            "\u001b[32m[I 2022-05-18 18:21:26,468]\u001b[0m Trial 22 finished with value: 0.8382998033580397 and parameters: {'lambda': 0.15998122487787617, 'alpha': 0.2053667502172485, 'learning_rate': 0.018, 'n_estimators': 909, 'max_depth': 4}. Best is trial 14 with value: 0.8384342593993176.\u001b[0m\n",
            "\u001b[32m[I 2022-05-18 18:22:05,071]\u001b[0m Trial 23 finished with value: 0.8382157683322409 and parameters: {'lambda': 0.3388999416546574, 'alpha': 9.553169263133833, 'learning_rate': 0.018, 'n_estimators': 667, 'max_depth': 5}. Best is trial 14 with value: 0.8384342593993176.\u001b[0m\n",
            "\u001b[32m[I 2022-05-18 18:22:34,040]\u001b[0m Trial 24 finished with value: 0.8382493823425604 and parameters: {'lambda': 0.22836830231522542, 'alpha': 2.834094903205706, 'learning_rate': 0.018, 'n_estimators': 817, 'max_depth': 3}. Best is trial 14 with value: 0.8384342593993176.\u001b[0m\n"
          ]
        }
      ],
      "source": [
        "study = optuna.create_study(direction='maximize')\n",
        "study.optimize(objective, n_trials=25)"
      ]
    },
    {
      "cell_type": "code",
      "execution_count": null,
      "metadata": {
        "colab": {
          "base_uri": "https://localhost:8080/"
        },
        "id": "PJi1n444i5vr",
        "outputId": "338e2aa1-4bb9-4cc8-a5bf-174e40ce0bbd"
      },
      "outputs": [
        {
          "name": "stdout",
          "output_type": "stream",
          "text": [
            "score: 0.8384342593993176\n"
          ]
        }
      ],
      "source": [
        "trial = study.best_trial\n",
        "print('score: {}'.format(trial.value))"
      ]
    },
    {
      "cell_type": "code",
      "execution_count": null,
      "metadata": {
        "colab": {
          "base_uri": "https://localhost:8080/"
        },
        "id": "zrFn4IDki7aV",
        "outputId": "96f8e57d-e28e-4ffc-f891-133aa16503bf"
      },
      "outputs": [
        {
          "name": "stdout",
          "output_type": "stream",
          "text": [
            "Best hyperparameters: {'lambda': 0.11781716269683722, 'alpha': 1.2068301073958347, 'learning_rate': 0.018, 'n_estimators': 634, 'max_depth': 3}\n"
          ]
        }
      ],
      "source": [
        "print(\"Best hyperparameters: {}\".format(trial.params))"
      ]
    },
    {
      "cell_type": "code",
      "execution_count": null,
      "metadata": {
        "id": "7kmpUwn4lX3n"
      },
      "outputs": [],
      "source": [
        "best_param={'lambda': 0.13015358387868833, 'alpha': 0.026660123369144632, 'learning_rate': 0.014, 'n_estimators': 772, 'max_depth': 3}\n"
      ]
    },
    {
      "cell_type": "code",
      "execution_count": null,
      "metadata": {
        "colab": {
          "base_uri": "https://localhost:8080/",
          "height": 867
        },
        "id": "Iakg2IX1cpEJ",
        "outputId": "246d8ac7-4084-4590-ad8f-dc8999f0a10c"
      },
      "outputs": [
        {
          "name": "stdout",
          "output_type": "stream",
          "text": [
            "Training {'accuracy_score': 0.7181633304761424, 'f1_score': 0.4086885997390599, 'precision_score': 0.3174298860648554, 'recall_score': 0.573592002375532}\n",
            "Testing {'accuracy_score': 0.7062333333333334, 'f1_score': 0.37358731963892244, 'precision_score': 0.2928133704735376, 'recall_score': 0.5159010600706714}\n",
            "Classification report \n",
            "              precision    recall  f1-score   support\n",
            "\n",
            "           0       0.90      0.75      0.81     49396\n",
            "           1       0.32      0.57      0.41     10103\n",
            "\n",
            "    accuracy                           0.72     59499\n",
            "   macro avg       0.61      0.66      0.61     59499\n",
            "weighted avg       0.80      0.72      0.75     59499\n",
            "\n",
            "Confusion metrics \n",
            "[[36935 12461]\n",
            " [ 4308  5795]]\n",
            "training roc auc 0.7179671248237254\n",
            "testing roc auc 0.6947524143468882\n"
          ]
        },
        {
          "data": {
            "image/png": "[encoded data removed]",
            "text/plain": [
              "<Figure size 432x288 with 1 Axes>"
            ]
          },
          "metadata": {
            "needs_background": "light"
          },
          "output_type": "display_data"
        },
        {
          "data": {
            "image/png": "[encoded data removed]",
            "text/plain": [
              "<Figure size 432x288 with 1 Axes>"
            ]
          },
          "metadata": {
            "needs_background": "light"
          },
          "output_type": "display_data"
        }
      ],
      "source": [
        "xgb_model=xgb.XGBClassifier(**best_param)\n",
        "xgb_model.fit(X_train_enc,y_train,eval_set=[(X_val_enc,y_val)],sample_weight=class_weights,early_stopping_rounds=100,verbose=False)\n",
        "print('Training {}'.format(acc(X_train_enc,y_train,classifier=xgb_model)))\n",
        "print('Testing {}'.format(acc(X_test_enc,y_test,classifier=xgb_model)))\n",
        "print('Classification report \\n{}'.format(Classification_Report(X_train_enc,y_train,classifier=xgb_model)))\n",
        "print('Confusion metrics \\n{}'.format(Confusion_Matrix(X_train_enc,y_train,classifier=xgb_model)))\n",
        "print('training roc auc {}'.format(roc_auc(X_train_enc,y_train,classifier=xgb_model)))\n",
        "print('testing roc auc {}'.format(roc_auc(X_test_enc,y_test,classifier=xgb_model)))\n",
        "roc_plot(X_train_enc,y_train,classifier=xgb_model)\n",
        "Precision_Recall_curve(X_train_enc,y_train,classifier=xgb_model)"
      ]
    },
    {
      "cell_type": "code",
      "execution_count": null,
      "metadata": {
        "colab": {
          "base_uri": "https://localhost:8080/"
        },
        "id": "a9wWFQJ7mlH0",
        "outputId": "beffa8db-d552-494b-909c-4f96e26b6064"
      },
      "outputs": [
        {
          "name": "stdout",
          "output_type": "stream",
          "text": [
            "Response Rate:16.98%\n",
            "   decile  freq  act_mean  prob_mean  prob_min  prob_max  num_1  num_0  \\\n",
            "0       1  3000  0.378333   0.503679  0.502715  0.504661   1135   1865   \n",
            "1       2  3000  0.286000   0.502343  0.501972  0.502715    858   2142   \n",
            "2       3  3000  0.214333   0.501690  0.499904  0.501972    643   2357   \n",
            "3       4  3000  0.187000   0.499880  0.499817  0.499904    561   2439   \n",
            "4       5  3000  0.181667   0.499817  0.499817  0.499817    545   2455   \n",
            "5       6  3000  0.177333   0.499817  0.499817  0.499817    532   2468   \n",
            "6       7  3000  0.074333   0.496509  0.496353  0.499817    223   2777   \n",
            "7       8  3000  0.069333   0.496353  0.496353  0.496353    208   2792   \n",
            "8       9  3000  0.059000   0.496353  0.496353  0.496353    177   2823   \n",
            "9      10  3000  0.070667   0.496353  0.496353  0.496353    212   2788   \n",
            "\n",
            "    cum_1    cum_0   per_cum_1   per_cum_0  event_rate  cum_lift  capture_rate  \n",
            "0  1135.0   1865.0   22.281115    7.488155   37.833333  2.228112      0.222811  \n",
            "1  1993.0   4007.0   39.124460   16.088493   33.216667  1.956223      0.168433  \n",
            "2  2636.0   6364.0   51.747154   25.552076   29.288889  1.724905      0.126227  \n",
            "3  3197.0   8803.0   62.760110   35.344897   26.641667  1.569003      0.110130  \n",
            "4  3742.0  11258.0   73.458971   45.201959   24.946667  1.469179      0.106989  \n",
            "5  4274.0  13726.0   83.902631   55.111218   23.744444  1.398377      0.104437  \n",
            "6  4497.0  16503.0   88.280330   66.261142   21.414286  1.261148      0.043777  \n",
            "7  4705.0  19295.0   92.363565   77.471292   19.604167  1.154545      0.040832  \n",
            "8  4882.0  22118.0   95.838241   88.805910   18.081481  1.064869      0.034747  \n",
            "9  5094.0  24906.0  100.000000  100.000000   16.980000  1.000000      0.041618  \n"
          ]
        }
      ],
      "source": [
        "xgb_model_decile_report=decile_report_binary(X_test_enc,y_test,xgb_model,q=10)"
      ]
    },
    {
      "cell_type": "code",
      "execution_count": null,
      "metadata": {
        "id": "wR4OjdTtRLiI"
      },
      "outputs": [],
      "source": [
        "XGB_Training_accuracy=acc_pd(X_train_enc,y_train,classifier=xgb_model,th=0.5,metrics='XGB_metrics')\n",
        "XGB_Testing_accuracy=acc_pd(X_test_enc,y_test,classifier=xgb_model,th=0.5,metrics='XGB_metrics')"
      ]
    },
    {
      "cell_type": "code",
      "execution_count": null,
      "metadata": {
        "colab": {
          "base_uri": "https://localhost:8080/"
        },
        "id": "BOkNeFn5RLyY",
        "outputId": "2af8c96a-91d2-4f23-bbb5-7a881994beb4"
      },
      "outputs": [
        {
          "data": {
            "text/plain": [
              "array([0.8382998 , 0.8382998 , 0.83910654])"
            ]
          },
          "execution_count": 36,
          "metadata": {},
          "output_type": "execute_result"
        }
      ],
      "source": [
        "### Crossvalidation score shows the model is not overfitiing\n",
        "sklearn.model_selection.cross_val_score(xgb_model,X_train_enc,y_train,cv=3)"
      ]
    },
    {
      "cell_type": "markdown",
      "metadata": {
        "id": "5inS0x2Sk8DI"
      },
      "source": [
        "## Model 3 Linear Regression"
      ]
    },
    {
      "cell_type": "code",
      "execution_count": null,
      "metadata": {
        "id": "HdvMQm555n6n"
      },
      "outputs": [],
      "source": [
        "X_train, X_test, y_train, y_test = train_test_split(X, y, test_size=0.3, random_state=42, shuffle=True, stratify=y)\n",
        "X_train_enc=ce_enc.transform(X_train)\n",
        "X_test_enc=ce_enc.transform(X_test)\n",
        "#X_train_enc=X_train_enc[sel_features]\n",
        "#X_test_enc=X_test_enc[sel_features]\n",
        "from sklearn.utils import class_weight\n",
        "class_weights=class_weight.compute_sample_weight(\n",
        "    class_weight='balanced',y=y_train\n",
        ")"
      ]
    },
    {
      "cell_type": "code",
      "execution_count": null,
      "metadata": {
        "id": "EHAe1RMi3slq"
      },
      "outputs": [],
      "source": [
        "from sklearn.linear_model import LogisticRegression\n",
        "import optuna\n",
        "import sklearn\n",
        "def objective(trial):\n",
        "    logreg_c= trial.suggest_float('logreg_c', 1e-10, 1e10, log=True)\n",
        "    model =LogisticRegression(class_weight='balanced',C=logreg_c)\n",
        "    return sklearn.model_selection.cross_val_score(model, X_train_enc, y_train, \n",
        "           n_jobs=-1, cv=3).mean()"
      ]
    },
    {
      "cell_type": "code",
      "execution_count": null,
      "metadata": {
        "colab": {
          "base_uri": "https://localhost:8080/"
        },
        "id": "SrY1zjFW1aCB",
        "outputId": "faa1d9b7-865d-4412-957a-3471f7d83437"
      },
      "outputs": [
        {
          "name": "stderr",
          "output_type": "stream",
          "text": [
            "\u001b[32m[I 2022-05-19 05:28:48,848]\u001b[0m A new study created in memory with name: no-name-bacec97d-35d3-4a90-8034-e2fe9c70b5fa\u001b[0m\n",
            "\u001b[32m[I 2022-05-19 05:28:50,422]\u001b[0m Trial 0 finished with value: 0.7504250060715153 and parameters: {'logreg_c': 6.894075270037029e-09}. Best is trial 0 with value: 0.7504250060715153.\u001b[0m\n",
            "\u001b[32m[I 2022-05-19 05:28:51,413]\u001b[0m Trial 1 finished with value: 0.623023186045515 and parameters: {'logreg_c': 5.568241767822897e-06}. Best is trial 0 with value: 0.7504250060715153.\u001b[0m\n",
            "\u001b[32m[I 2022-05-19 05:28:52,720]\u001b[0m Trial 2 finished with value: 0.6564236631951885 and parameters: {'logreg_c': 892451127.869305}. Best is trial 0 with value: 0.7504250060715153.\u001b[0m\n",
            "\u001b[32m[I 2022-05-19 05:28:53,556]\u001b[0m Trial 3 finished with value: 0.626780382576894 and parameters: {'logreg_c': 9.908728463035928e-05}. Best is trial 0 with value: 0.7504250060715153.\u001b[0m\n",
            "\u001b[32m[I 2022-05-19 05:28:54,004]\u001b[0m Trial 4 finished with value: 0.6252660752296461 and parameters: {'logreg_c': 1.0359913351053107e-06}. Best is trial 0 with value: 0.7504250060715153.\u001b[0m\n",
            "\u001b[32m[I 2022-05-19 05:28:54,536]\u001b[0m Trial 5 finished with value: 0.752425034643352 and parameters: {'logreg_c': 5.921735525364274e-10}. Best is trial 5 with value: 0.752425034643352.\u001b[0m\n",
            "\u001b[32m[I 2022-05-19 05:28:54,906]\u001b[0m Trial 6 finished with value: 0.6535807654395063 and parameters: {'logreg_c': 1.391714840554682e-07}. Best is trial 5 with value: 0.752425034643352.\u001b[0m\n",
            "\u001b[32m[I 2022-05-19 05:28:56,306]\u001b[0m Trial 7 finished with value: 0.6562379462563751 and parameters: {'logreg_c': 107434262.31257546}. Best is trial 5 with value: 0.752425034643352.\u001b[0m\n",
            "\u001b[32m[I 2022-05-19 05:28:57,695]\u001b[0m Trial 8 finished with value: 0.6558950842154888 and parameters: {'logreg_c': 2053346.7998839677}. Best is trial 5 with value: 0.752425034643352.\u001b[0m\n",
            "\u001b[32m[I 2022-05-19 05:28:59,068]\u001b[0m Trial 9 finished with value: 0.6557665109501564 and parameters: {'logreg_c': 201440.61721933863}. Best is trial 5 with value: 0.752425034643352.\u001b[0m\n",
            "\u001b[32m[I 2022-05-19 05:29:00,449]\u001b[0m Trial 10 finished with value: 0.6559379419705996 and parameters: {'logreg_c': 5.080695642051657}. Best is trial 5 with value: 0.752425034643352.\u001b[0m\n",
            "\u001b[32m[I 2022-05-19 05:29:00,791]\u001b[0m Trial 11 finished with value: 0.7525536079086844 and parameters: {'logreg_c': 1.2006483798945403e-10}. Best is trial 11 with value: 0.7525536079086844.\u001b[0m\n",
            "\u001b[32m[I 2022-05-19 05:29:01,163]\u001b[0m Trial 12 finished with value: 0.7525393219903141 and parameters: {'logreg_c': 1.240115851176996e-10}. Best is trial 11 with value: 0.7525536079086844.\u001b[0m\n",
            "\u001b[32m[I 2022-05-19 05:29:02,468]\u001b[0m Trial 13 finished with value: 0.6552807897255675 and parameters: {'logreg_c': 0.021127804686481306}. Best is trial 11 with value: 0.7525536079086844.\u001b[0m\n",
            "\u001b[32m[I 2022-05-19 05:29:02,821]\u001b[0m Trial 14 finished with value: 0.7525678938270546 and parameters: {'logreg_c': 1.6689798924029753e-10}. Best is trial 14 with value: 0.7525678938270546.\u001b[0m\n",
            "\u001b[32m[I 2022-05-19 05:29:04,173]\u001b[0m Trial 15 finished with value: 0.656009371562451 and parameters: {'logreg_c': 23.431400655494503}. Best is trial 14 with value: 0.7525678938270546.\u001b[0m\n",
            "\u001b[32m[I 2022-05-19 05:29:05,330]\u001b[0m Trial 16 finished with value: 0.6469092415605937 and parameters: {'logreg_c': 0.0010868242979898822}. Best is trial 14 with value: 0.7525678938270546.\u001b[0m\n",
            "\u001b[32m[I 2022-05-19 05:29:05,609]\u001b[0m Trial 17 finished with value: 0.6711381591165589 and parameters: {'logreg_c': 4.6235217328839e-08}. Best is trial 14 with value: 0.7525678938270546.\u001b[0m\n",
            "\u001b[32m[I 2022-05-19 05:29:07,000]\u001b[0m Trial 18 finished with value: 0.6565808082972614 and parameters: {'logreg_c': 914.2307251216695}. Best is trial 14 with value: 0.7525678938270546.\u001b[0m\n",
            "\u001b[32m[I 2022-05-19 05:29:08,292]\u001b[0m Trial 19 finished with value: 0.6546379233989056 and parameters: {'logreg_c': 0.015484628763390672}. Best is trial 14 with value: 0.7525678938270546.\u001b[0m\n",
            "\u001b[32m[I 2022-05-19 05:29:08,918]\u001b[0m Trial 20 finished with value: 0.6220231717595966 and parameters: {'logreg_c': 1.3987701769085124e-05}. Best is trial 14 with value: 0.7525678938270546.\u001b[0m\n",
            "\u001b[32m[I 2022-05-19 05:29:09,258]\u001b[0m Trial 21 finished with value: 0.7525536079086844 and parameters: {'logreg_c': 1.5111554331720426e-10}. Best is trial 14 with value: 0.7525678938270546.\u001b[0m\n",
            "\u001b[32m[I 2022-05-19 05:29:09,617]\u001b[0m Trial 22 finished with value: 0.7525678938270546 and parameters: {'logreg_c': 1.0339956868047267e-10}. Best is trial 14 with value: 0.7525678938270546.\u001b[0m\n",
            "\u001b[32m[I 2022-05-19 05:29:09,948]\u001b[0m Trial 23 finished with value: 0.7496107087244104 and parameters: {'logreg_c': 9.231547527496945e-09}. Best is trial 14 with value: 0.7525678938270546.\u001b[0m\n",
            "\u001b[32m[I 2022-05-19 05:29:10,302]\u001b[0m Trial 24 finished with value: 0.751553593622766 and parameters: {'logreg_c': 2.7004799135013943e-09}. Best is trial 14 with value: 0.7525678938270546.\u001b[0m\n"
          ]
        }
      ],
      "source": [
        "study = optuna.create_study(direction='maximize')\n",
        "study.optimize(objective, n_trials=25)"
      ]
    },
    {
      "cell_type": "code",
      "execution_count": null,
      "metadata": {
        "colab": {
          "base_uri": "https://localhost:8080/",
          "height": 867
        },
        "id": "QWI2lHexlyj4",
        "outputId": "44fea3e2-244d-4a45-da2b-8ddb2d153782"
      },
      "outputs": [
        {
          "name": "stdout",
          "output_type": "stream",
          "text": [
            "Training {'accuracy_score': 0.16980242574893928, 'f1_score': 0.2903095805092508, 'precision_score': 0.16980242574893928, 'recall_score': 1.0}\n",
            "Testing {'accuracy_score': 0.1698, 'f1_score': 0.2903060352196957, 'precision_score': 0.1698, 'recall_score': 1.0}\n",
            "Classification report \n",
            "              precision    recall  f1-score   support\n",
            "\n",
            "           0       0.00      0.00      0.00     58113\n",
            "           1       0.17      1.00      0.29     11886\n",
            "\n",
            "    accuracy                           0.17     69999\n",
            "   macro avg       0.08      0.50      0.15     69999\n",
            "weighted avg       0.03      0.17      0.05     69999\n",
            "\n",
            "Confusion metrics \n",
            "[[    0 58113]\n",
            " [    0 11886]]\n",
            "training roc auc 0.7324124544509083\n",
            "testing roc auc 0.7125936946554696\n"
          ]
        },
        {
          "data": {
            "image/png": "[encoded data removed]",
            "text/plain": [
              "<Figure size 432x288 with 1 Axes>"
            ]
          },
          "metadata": {
            "needs_background": "light"
          },
          "output_type": "display_data"
        },
        {
          "data": {
            "image/png": "[encoded data removed]",
            "text/plain": [
              "<Figure size 432x288 with 1 Axes>"
            ]
          },
          "metadata": {
            "needs_background": "light"
          },
          "output_type": "display_data"
        }
      ],
      "source": [
        "model=LogisticRegression(class_weight='balanced',C=1.8476298080642516e-10)\n",
        "model.fit(X_train_enc,y_train,sample_weight=class_weights)\n",
        "print('Training {}'.format(acc(X_train_enc,y_train,classifier=model)))\n",
        "print('Testing {}'.format(acc(X_test_enc,y_test,classifier=model)))\n",
        "print('Classification report \\n{}'.format(Classification_Report(X_train_enc,y_train,classifier=model)))\n",
        "print('Confusion metrics \\n{}'.format(Confusion_Matrix(X_train_enc,y_train,classifier=model)))\n",
        "#FeatureImportance(X_train_enc,fi=model.feature_importances_)\n",
        "print('training roc auc {}'.format(roc_auc(X_train_enc,y_train,classifier=model)))\n",
        "print('testing roc auc {}'.format(roc_auc(X_test_enc,y_test,classifier=model)))\n",
        "roc_plot(X_train_enc,y_train,classifier=model)\n",
        "Precision_Recall_curve(X_train_enc,y_train,classifier=model)"
      ]
    },
    {
      "cell_type": "code",
      "execution_count": null,
      "metadata": {
        "colab": {
          "base_uri": "https://localhost:8080/"
        },
        "id": "WNd7077F2aH2",
        "outputId": "727e9012-4858-41b4-847f-9ee38b61cd47"
      },
      "outputs": [
        {
          "name": "stdout",
          "output_type": "stream",
          "text": [
            "              precision    recall  f1-score   support\n",
            "\n",
            "           0       0.00      0.00      0.00     58113\n",
            "           1       0.17      1.00      0.29     11886\n",
            "\n",
            "    accuracy                           0.17     69999\n",
            "   macro avg       0.08      0.50      0.15     69999\n",
            "weighted avg       0.03      0.17      0.05     69999\n",
            "\n"
          ]
        }
      ],
      "source": [
        "print(Classification_Report_th(X_train_enc,y_train,classifier=model,th=0.8))"
      ]
    },
    {
      "cell_type": "code",
      "execution_count": null,
      "metadata": {
        "colab": {
          "base_uri": "https://localhost:8080/"
        },
        "id": "gcOcLJSY3A-d",
        "outputId": "1a644364-b57b-49c9-c02c-ee24ce98fca2"
      },
      "outputs": [
        {
          "name": "stdout",
          "output_type": "stream",
          "text": [
            "              precision    recall  f1-score   support\n",
            "\n",
            "           0       0.83      1.00      0.91     24906\n",
            "           1       0.00      0.00      0.00      5094\n",
            "\n",
            "    accuracy                           0.83     30000\n",
            "   macro avg       0.42      0.50      0.45     30000\n",
            "weighted avg       0.69      0.83      0.75     30000\n",
            "\n"
          ]
        }
      ],
      "source": [
        "print(Classification_Report_th(X_test_enc,y_test,classifier=model,th=0.84))"
      ]
    },
    {
      "cell_type": "code",
      "execution_count": null,
      "metadata": {
        "id": "LdT7eYSJ9IUD"
      },
      "outputs": [],
      "source": [
        "from sklearn.feature_selection import RFE\n",
        "selector = RFE(model)\n",
        "selector = selector.fit(X_train_enc,y_train)\n",
        "Logistic_features=list(X_train_enc.columns[selector.support_])"
      ]
    },
    {
      "cell_type": "code",
      "execution_count": null,
      "metadata": {
        "id": "SIQ03hLSDMa-"
      },
      "outputs": [],
      "source": [
        "X_train_enc=ce_enc.transform(X_train)\n",
        "X_test_enc=ce_enc.transform(X_test)\n",
        "X_train_enc=X_train_enc[Logistic_features]\n",
        "X_test_enc=X_test_enc[Logistic_features]\n",
        "from statsmodels.stats.outliers_influence import variance_inflation_factor\n",
        "vif_data = pd.DataFrame()\n",
        "vif_data[\"feature\"] = X_train_enc.columns\n",
        "vif_data[\"VIF\"] = [variance_inflation_factor(X_train_enc.values, i)\n",
        "                          for i in range(len(X_train_enc.columns))]"
      ]
    },
    {
      "cell_type": "code",
      "execution_count": null,
      "metadata": {
        "colab": {
          "base_uri": "https://localhost:8080/",
          "height": 394
        },
        "id": "_2uzjiVfDkIU",
        "outputId": "9167bd13-c255-4d67-f4a4-e09184c30526"
      },
      "outputs": [
        {
          "data": {
            "text/html": [
              "\n",
              "  <div id=\"df-f744cfca-492c-4d36-b84e-8cefae158ae4\">\n",
              "    <div class=\"colab-df-container\">\n",
              "      <div>\n",
              "<style scoped>\n",
              "    .dataframe tbody tr th:only-of-type {\n",
              "        vertical-align: middle;\n",
              "    }\n",
              "\n",
              "    .dataframe tbody tr th {\n",
              "        vertical-align: top;\n",
              "    }\n",
              "\n",
              "    .dataframe thead th {\n",
              "        text-align: right;\n",
              "    }\n",
              "</style>\n",
              "<table border=\"1\" class=\"dataframe\">\n",
              "  <thead>\n",
              "    <tr style=\"text-align: right;\">\n",
              "      <th></th>\n",
              "      <th>feature</th>\n",
              "      <th>VIF</th>\n",
              "    </tr>\n",
              "  </thead>\n",
              "  <tbody>\n",
              "    <tr>\n",
              "      <th>6</th>\n",
              "      <td>C17</td>\n",
              "      <td>9.386529</td>\n",
              "    </tr>\n",
              "    <tr>\n",
              "      <th>0</th>\n",
              "      <td>site_id</td>\n",
              "      <td>7.181296</td>\n",
              "    </tr>\n",
              "    <tr>\n",
              "      <th>1</th>\n",
              "      <td>site_domain</td>\n",
              "      <td>6.922349</td>\n",
              "    </tr>\n",
              "    <tr>\n",
              "      <th>5</th>\n",
              "      <td>C14</td>\n",
              "      <td>6.679407</td>\n",
              "    </tr>\n",
              "    <tr>\n",
              "      <th>10</th>\n",
              "      <td>C21</td>\n",
              "      <td>4.892055</td>\n",
              "    </tr>\n",
              "    <tr>\n",
              "      <th>3</th>\n",
              "      <td>app_domain</td>\n",
              "      <td>3.557924</td>\n",
              "    </tr>\n",
              "    <tr>\n",
              "      <th>8</th>\n",
              "      <td>C19</td>\n",
              "      <td>3.300763</td>\n",
              "    </tr>\n",
              "    <tr>\n",
              "      <th>2</th>\n",
              "      <td>app_id</td>\n",
              "      <td>2.854512</td>\n",
              "    </tr>\n",
              "    <tr>\n",
              "      <th>7</th>\n",
              "      <td>C18</td>\n",
              "      <td>2.375697</td>\n",
              "    </tr>\n",
              "    <tr>\n",
              "      <th>9</th>\n",
              "      <td>C20</td>\n",
              "      <td>2.188377</td>\n",
              "    </tr>\n",
              "    <tr>\n",
              "      <th>4</th>\n",
              "      <td>device_model</td>\n",
              "      <td>1.924730</td>\n",
              "    </tr>\n",
              "  </tbody>\n",
              "</table>\n",
              "</div>\n",
              "      <button class=\"colab-df-convert\" onclick=\"convertToInteractive('df-f744cfca-492c-4d36-b84e-8cefae158ae4')\"\n",
              "              title=\"Convert this dataframe to an interactive table.\"\n",
              "              style=\"display:none;\">\n",
              "        \n",
              "  <svg xmlns=\"http://www.w3.org/2000/svg\" height=\"24px\"viewBox=\"0 0 24 24\"\n",
              "       width=\"24px\">\n",
              "    <path d=\"M0 0h24v24H0V0z\" fill=\"none\"/>\n",
              "    <path d=\"M18.56 5.44l.94 2.06.94-2.06 2.06-.94-2.06-.94-.94-2.06-.94 2.06-2.06.94zm-11 1L8.5 8.5l.94-2.06 2.06-.94-2.06-.94L8.5 2.5l-.94 2.06-2.06.94zm10 10l.94 2.06.94-2.06 2.06-.94-2.06-.94-.94-2.06-.94 2.06-2.06.94z\"/><path d=\"M17.41 7.96l-1.37-1.37c-.4-.4-.92-.59-1.43-.59-.52 0-1.04.2-1.43.59L10.3 9.45l-7.72 7.72c-.78.78-.78 2.05 0 2.83L4 21.41c.39.39.9.59 1.41.59.51 0 1.02-.2 1.41-.59l7.78-7.78 2.81-2.81c.8-.78.8-2.07 0-2.86zM5.41 20L4 18.59l7.72-7.72 1.47 1.35L5.41 20z\"/>\n",
              "  </svg>\n",
              "      </button>\n",
              "      \n",
              "  <style>\n",
              "    .colab-df-container {\n",
              "      display:flex;\n",
              "      flex-wrap:wrap;\n",
              "      gap: 12px;\n",
              "    }\n",
              "\n",
              "    .colab-df-convert {\n",
              "      background-color: #E8F0FE;\n",
              "      border: none;\n",
              "      border-radius: 50%;\n",
              "      cursor: pointer;\n",
              "      display: none;\n",
              "      fill: #1967D2;\n",
              "      height: 32px;\n",
              "      padding: 0 0 0 0;\n",
              "      width: 32px;\n",
              "    }\n",
              "\n",
              "    .colab-df-convert:hover {\n",
              "      background-color: #E2EBFA;\n",
              "      box-shadow: 0px 1px 2px rgba(60, 64, 67, 0.3), 0px 1px 3px 1px rgba(60, 64, 67, 0.15);\n",
              "      fill: #174EA6;\n",
              "    }\n",
              "\n",
              "    [theme=dark] .colab-df-convert {\n",
              "      background-color: #3B4455;\n",
              "      fill: #D2E3FC;\n",
              "    }\n",
              "\n",
              "    [theme=dark] .colab-df-convert:hover {\n",
              "      background-color: #434B5C;\n",
              "      box-shadow: 0px 1px 3px 1px rgba(0, 0, 0, 0.15);\n",
              "      filter: drop-shadow(0px 1px 2px rgba(0, 0, 0, 0.3));\n",
              "      fill: #FFFFFF;\n",
              "    }\n",
              "  </style>\n",
              "\n",
              "      <script>\n",
              "        const buttonEl =\n",
              "          document.querySelector('#df-f744cfca-492c-4d36-b84e-8cefae158ae4 button.colab-df-convert');\n",
              "        buttonEl.style.display =\n",
              "          google.colab.kernel.accessAllowed ? 'block' : 'none';\n",
              "\n",
              "        async function convertToInteractive(key) {\n",
              "          const element = document.querySelector('#df-f744cfca-492c-4d36-b84e-8cefae158ae4');\n",
              "          const dataTable =\n",
              "            await google.colab.kernel.invokeFunction('convertToInteractive',\n",
              "                                                     [key], {});\n",
              "          if (!dataTable) return;\n",
              "\n",
              "          const docLinkHtml = 'Like what you see? Visit the ' +\n",
              "            '<a target=\"_blank\" href=https://colab.research.google.com/notebooks/data_table.ipynb>data table notebook</a>'\n",
              "            + ' to learn more about interactive tables.';\n",
              "          element.innerHTML = '';\n",
              "          dataTable['output_type'] = 'display_data';\n",
              "          await google.colab.output.renderOutput(dataTable, element);\n",
              "          const docLink = document.createElement('div');\n",
              "          docLink.innerHTML = docLinkHtml;\n",
              "          element.appendChild(docLink);\n",
              "        }\n",
              "      </script>\n",
              "    </div>\n",
              "  </div>\n",
              "  "
            ],
            "text/plain": [
              "         feature       VIF\n",
              "6            C17  9.386529\n",
              "0        site_id  7.181296\n",
              "1    site_domain  6.922349\n",
              "5            C14  6.679407\n",
              "10           C21  4.892055\n",
              "3     app_domain  3.557924\n",
              "8            C19  3.300763\n",
              "2         app_id  2.854512\n",
              "7            C18  2.375697\n",
              "9            C20  2.188377\n",
              "4   device_model  1.924730"
            ]
          },
          "execution_count": 133,
          "metadata": {},
          "output_type": "execute_result"
        }
      ],
      "source": [
        "vif_data.sort_values(by='VIF',ascending=False)"
      ]
    },
    {
      "cell_type": "code",
      "execution_count": null,
      "metadata": {
        "colab": {
          "base_uri": "https://localhost:8080/",
          "height": 363
        },
        "id": "U5vErf0MTaed",
        "outputId": "5ba5f231-f9e9-4040-b445-de5801a4b0d7"
      },
      "outputs": [
        {
          "data": {
            "text/html": [
              "\n",
              "  <div id=\"df-3fc18744-b6b9-4695-a80c-3d8e18e96ac4\">\n",
              "    <div class=\"colab-df-container\">\n",
              "      <div>\n",
              "<style scoped>\n",
              "    .dataframe tbody tr th:only-of-type {\n",
              "        vertical-align: middle;\n",
              "    }\n",
              "\n",
              "    .dataframe tbody tr th {\n",
              "        vertical-align: top;\n",
              "    }\n",
              "\n",
              "    .dataframe thead th {\n",
              "        text-align: right;\n",
              "    }\n",
              "</style>\n",
              "<table border=\"1\" class=\"dataframe\">\n",
              "  <thead>\n",
              "    <tr style=\"text-align: right;\">\n",
              "      <th></th>\n",
              "      <th>feature</th>\n",
              "      <th>VIF</th>\n",
              "    </tr>\n",
              "  </thead>\n",
              "  <tbody>\n",
              "    <tr>\n",
              "      <th>0</th>\n",
              "      <td>site_id</td>\n",
              "      <td>7.142954</td>\n",
              "    </tr>\n",
              "    <tr>\n",
              "      <th>1</th>\n",
              "      <td>site_domain</td>\n",
              "      <td>6.912488</td>\n",
              "    </tr>\n",
              "    <tr>\n",
              "      <th>9</th>\n",
              "      <td>C21</td>\n",
              "      <td>4.587639</td>\n",
              "    </tr>\n",
              "    <tr>\n",
              "      <th>3</th>\n",
              "      <td>app_domain</td>\n",
              "      <td>3.556130</td>\n",
              "    </tr>\n",
              "    <tr>\n",
              "      <th>7</th>\n",
              "      <td>C19</td>\n",
              "      <td>3.213293</td>\n",
              "    </tr>\n",
              "    <tr>\n",
              "      <th>5</th>\n",
              "      <td>C14</td>\n",
              "      <td>3.163563</td>\n",
              "    </tr>\n",
              "    <tr>\n",
              "      <th>2</th>\n",
              "      <td>app_id</td>\n",
              "      <td>2.837954</td>\n",
              "    </tr>\n",
              "    <tr>\n",
              "      <th>6</th>\n",
              "      <td>C18</td>\n",
              "      <td>2.355506</td>\n",
              "    </tr>\n",
              "    <tr>\n",
              "      <th>8</th>\n",
              "      <td>C20</td>\n",
              "      <td>2.182110</td>\n",
              "    </tr>\n",
              "    <tr>\n",
              "      <th>4</th>\n",
              "      <td>device_model</td>\n",
              "      <td>1.923412</td>\n",
              "    </tr>\n",
              "  </tbody>\n",
              "</table>\n",
              "</div>\n",
              "      <button class=\"colab-df-convert\" onclick=\"convertToInteractive('df-3fc18744-b6b9-4695-a80c-3d8e18e96ac4')\"\n",
              "              title=\"Convert this dataframe to an interactive table.\"\n",
              "              style=\"display:none;\">\n",
              "        \n",
              "  <svg xmlns=\"http://www.w3.org/2000/svg\" height=\"24px\"viewBox=\"0 0 24 24\"\n",
              "       width=\"24px\">\n",
              "    <path d=\"M0 0h24v24H0V0z\" fill=\"none\"/>\n",
              "    <path d=\"M18.56 5.44l.94 2.06.94-2.06 2.06-.94-2.06-.94-.94-2.06-.94 2.06-2.06.94zm-11 1L8.5 8.5l.94-2.06 2.06-.94-2.06-.94L8.5 2.5l-.94 2.06-2.06.94zm10 10l.94 2.06.94-2.06 2.06-.94-2.06-.94-.94-2.06-.94 2.06-2.06.94z\"/><path d=\"M17.41 7.96l-1.37-1.37c-.4-.4-.92-.59-1.43-.59-.52 0-1.04.2-1.43.59L10.3 9.45l-7.72 7.72c-.78.78-.78 2.05 0 2.83L4 21.41c.39.39.9.59 1.41.59.51 0 1.02-.2 1.41-.59l7.78-7.78 2.81-2.81c.8-.78.8-2.07 0-2.86zM5.41 20L4 18.59l7.72-7.72 1.47 1.35L5.41 20z\"/>\n",
              "  </svg>\n",
              "      </button>\n",
              "      \n",
              "  <style>\n",
              "    .colab-df-container {\n",
              "      display:flex;\n",
              "      flex-wrap:wrap;\n",
              "      gap: 12px;\n",
              "    }\n",
              "\n",
              "    .colab-df-convert {\n",
              "      background-color: #E8F0FE;\n",
              "      border: none;\n",
              "      border-radius: 50%;\n",
              "      cursor: pointer;\n",
              "      display: none;\n",
              "      fill: #1967D2;\n",
              "      height: 32px;\n",
              "      padding: 0 0 0 0;\n",
              "      width: 32px;\n",
              "    }\n",
              "\n",
              "    .colab-df-convert:hover {\n",
              "      background-color: #E2EBFA;\n",
              "      box-shadow: 0px 1px 2px rgba(60, 64, 67, 0.3), 0px 1px 3px 1px rgba(60, 64, 67, 0.15);\n",
              "      fill: #174EA6;\n",
              "    }\n",
              "\n",
              "    [theme=dark] .colab-df-convert {\n",
              "      background-color: #3B4455;\n",
              "      fill: #D2E3FC;\n",
              "    }\n",
              "\n",
              "    [theme=dark] .colab-df-convert:hover {\n",
              "      background-color: #434B5C;\n",
              "      box-shadow: 0px 1px 3px 1px rgba(0, 0, 0, 0.15);\n",
              "      filter: drop-shadow(0px 1px 2px rgba(0, 0, 0, 0.3));\n",
              "      fill: #FFFFFF;\n",
              "    }\n",
              "  </style>\n",
              "\n",
              "      <script>\n",
              "        const buttonEl =\n",
              "          document.querySelector('#df-3fc18744-b6b9-4695-a80c-3d8e18e96ac4 button.colab-df-convert');\n",
              "        buttonEl.style.display =\n",
              "          google.colab.kernel.accessAllowed ? 'block' : 'none';\n",
              "\n",
              "        async function convertToInteractive(key) {\n",
              "          const element = document.querySelector('#df-3fc18744-b6b9-4695-a80c-3d8e18e96ac4');\n",
              "          const dataTable =\n",
              "            await google.colab.kernel.invokeFunction('convertToInteractive',\n",
              "                                                     [key], {});\n",
              "          if (!dataTable) return;\n",
              "\n",
              "          const docLinkHtml = 'Like what you see? Visit the ' +\n",
              "            '<a target=\"_blank\" href=https://colab.research.google.com/notebooks/data_table.ipynb>data table notebook</a>'\n",
              "            + ' to learn more about interactive tables.';\n",
              "          element.innerHTML = '';\n",
              "          dataTable['output_type'] = 'display_data';\n",
              "          await google.colab.output.renderOutput(dataTable, element);\n",
              "          const docLink = document.createElement('div');\n",
              "          docLink.innerHTML = docLinkHtml;\n",
              "          element.appendChild(docLink);\n",
              "        }\n",
              "      </script>\n",
              "    </div>\n",
              "  </div>\n",
              "  "
            ],
            "text/plain": [
              "        feature       VIF\n",
              "0       site_id  7.142954\n",
              "1   site_domain  6.912488\n",
              "9           C21  4.587639\n",
              "3    app_domain  3.556130\n",
              "7           C19  3.213293\n",
              "5           C14  3.163563\n",
              "2        app_id  2.837954\n",
              "6           C18  2.355506\n",
              "8           C20  2.182110\n",
              "4  device_model  1.923412"
            ]
          },
          "execution_count": 134,
          "metadata": {},
          "output_type": "execute_result"
        }
      ],
      "source": [
        "X_train_enc=X_train_enc.drop(['C17'],axis=1)\n",
        "vif_data = pd.DataFrame()\n",
        "vif_data[\"feature\"] = X_train_enc.columns\n",
        "vif_data[\"VIF\"] = [variance_inflation_factor(X_train_enc.values, i)\n",
        "                          for i in range(len(X_train_enc.columns))]\n",
        "vif_data.sort_values(by='VIF',ascending=False)"
      ]
    },
    {
      "cell_type": "code",
      "execution_count": null,
      "metadata": {
        "colab": {
          "base_uri": "https://localhost:8080/",
          "height": 331
        },
        "id": "f6-f3ULPTvVl",
        "outputId": "9fcabc20-715a-4668-bbcc-0ac3aa14b630"
      },
      "outputs": [
        {
          "data": {
            "text/html": [
              "\n",
              "  <div id=\"df-9ff0ecd4-628d-43a2-a2fd-191fa7dd32f5\">\n",
              "    <div class=\"colab-df-container\">\n",
              "      <div>\n",
              "<style scoped>\n",
              "    .dataframe tbody tr th:only-of-type {\n",
              "        vertical-align: middle;\n",
              "    }\n",
              "\n",
              "    .dataframe tbody tr th {\n",
              "        vertical-align: top;\n",
              "    }\n",
              "\n",
              "    .dataframe thead th {\n",
              "        text-align: right;\n",
              "    }\n",
              "</style>\n",
              "<table border=\"1\" class=\"dataframe\">\n",
              "  <thead>\n",
              "    <tr style=\"text-align: right;\">\n",
              "      <th></th>\n",
              "      <th>feature</th>\n",
              "      <th>VIF</th>\n",
              "    </tr>\n",
              "  </thead>\n",
              "  <tbody>\n",
              "    <tr>\n",
              "      <th>8</th>\n",
              "      <td>C21</td>\n",
              "      <td>4.587607</td>\n",
              "    </tr>\n",
              "    <tr>\n",
              "      <th>2</th>\n",
              "      <td>app_domain</td>\n",
              "      <td>3.539526</td>\n",
              "    </tr>\n",
              "    <tr>\n",
              "      <th>6</th>\n",
              "      <td>C19</td>\n",
              "      <td>3.210055</td>\n",
              "    </tr>\n",
              "    <tr>\n",
              "      <th>4</th>\n",
              "      <td>C14</td>\n",
              "      <td>3.119965</td>\n",
              "    </tr>\n",
              "    <tr>\n",
              "      <th>1</th>\n",
              "      <td>app_id</td>\n",
              "      <td>2.833469</td>\n",
              "    </tr>\n",
              "    <tr>\n",
              "      <th>5</th>\n",
              "      <td>C18</td>\n",
              "      <td>2.354925</td>\n",
              "    </tr>\n",
              "    <tr>\n",
              "      <th>7</th>\n",
              "      <td>C20</td>\n",
              "      <td>2.176787</td>\n",
              "    </tr>\n",
              "    <tr>\n",
              "      <th>3</th>\n",
              "      <td>device_model</td>\n",
              "      <td>1.906204</td>\n",
              "    </tr>\n",
              "    <tr>\n",
              "      <th>0</th>\n",
              "      <td>site_domain</td>\n",
              "      <td>1.341714</td>\n",
              "    </tr>\n",
              "  </tbody>\n",
              "</table>\n",
              "</div>\n",
              "      <button class=\"colab-df-convert\" onclick=\"convertToInteractive('df-9ff0ecd4-628d-43a2-a2fd-191fa7dd32f5')\"\n",
              "              title=\"Convert this dataframe to an interactive table.\"\n",
              "              style=\"display:none;\">\n",
              "        \n",
              "  <svg xmlns=\"http://www.w3.org/2000/svg\" height=\"24px\"viewBox=\"0 0 24 24\"\n",
              "       width=\"24px\">\n",
              "    <path d=\"M0 0h24v24H0V0z\" fill=\"none\"/>\n",
              "    <path d=\"M18.56 5.44l.94 2.06.94-2.06 2.06-.94-2.06-.94-.94-2.06-.94 2.06-2.06.94zm-11 1L8.5 8.5l.94-2.06 2.06-.94-2.06-.94L8.5 2.5l-.94 2.06-2.06.94zm10 10l.94 2.06.94-2.06 2.06-.94-2.06-.94-.94-2.06-.94 2.06-2.06.94z\"/><path d=\"M17.41 7.96l-1.37-1.37c-.4-.4-.92-.59-1.43-.59-.52 0-1.04.2-1.43.59L10.3 9.45l-7.72 7.72c-.78.78-.78 2.05 0 2.83L4 21.41c.39.39.9.59 1.41.59.51 0 1.02-.2 1.41-.59l7.78-7.78 2.81-2.81c.8-.78.8-2.07 0-2.86zM5.41 20L4 18.59l7.72-7.72 1.47 1.35L5.41 20z\"/>\n",
              "  </svg>\n",
              "      </button>\n",
              "      \n",
              "  <style>\n",
              "    .colab-df-container {\n",
              "      display:flex;\n",
              "      flex-wrap:wrap;\n",
              "      gap: 12px;\n",
              "    }\n",
              "\n",
              "    .colab-df-convert {\n",
              "      background-color: #E8F0FE;\n",
              "      border: none;\n",
              "      border-radius: 50%;\n",
              "      cursor: pointer;\n",
              "      display: none;\n",
              "      fill: #1967D2;\n",
              "      height: 32px;\n",
              "      padding: 0 0 0 0;\n",
              "      width: 32px;\n",
              "    }\n",
              "\n",
              "    .colab-df-convert:hover {\n",
              "      background-color: #E2EBFA;\n",
              "      box-shadow: 0px 1px 2px rgba(60, 64, 67, 0.3), 0px 1px 3px 1px rgba(60, 64, 67, 0.15);\n",
              "      fill: #174EA6;\n",
              "    }\n",
              "\n",
              "    [theme=dark] .colab-df-convert {\n",
              "      background-color: #3B4455;\n",
              "      fill: #D2E3FC;\n",
              "    }\n",
              "\n",
              "    [theme=dark] .colab-df-convert:hover {\n",
              "      background-color: #434B5C;\n",
              "      box-shadow: 0px 1px 3px 1px rgba(0, 0, 0, 0.15);\n",
              "      filter: drop-shadow(0px 1px 2px rgba(0, 0, 0, 0.3));\n",
              "      fill: #FFFFFF;\n",
              "    }\n",
              "  </style>\n",
              "\n",
              "      <script>\n",
              "        const buttonEl =\n",
              "          document.querySelector('#df-9ff0ecd4-628d-43a2-a2fd-191fa7dd32f5 button.colab-df-convert');\n",
              "        buttonEl.style.display =\n",
              "          google.colab.kernel.accessAllowed ? 'block' : 'none';\n",
              "\n",
              "        async function convertToInteractive(key) {\n",
              "          const element = document.querySelector('#df-9ff0ecd4-628d-43a2-a2fd-191fa7dd32f5');\n",
              "          const dataTable =\n",
              "            await google.colab.kernel.invokeFunction('convertToInteractive',\n",
              "                                                     [key], {});\n",
              "          if (!dataTable) return;\n",
              "\n",
              "          const docLinkHtml = 'Like what you see? Visit the ' +\n",
              "            '<a target=\"_blank\" href=https://colab.research.google.com/notebooks/data_table.ipynb>data table notebook</a>'\n",
              "            + ' to learn more about interactive tables.';\n",
              "          element.innerHTML = '';\n",
              "          dataTable['output_type'] = 'display_data';\n",
              "          await google.colab.output.renderOutput(dataTable, element);\n",
              "          const docLink = document.createElement('div');\n",
              "          docLink.innerHTML = docLinkHtml;\n",
              "          element.appendChild(docLink);\n",
              "        }\n",
              "      </script>\n",
              "    </div>\n",
              "  </div>\n",
              "  "
            ],
            "text/plain": [
              "        feature       VIF\n",
              "8           C21  4.587607\n",
              "2    app_domain  3.539526\n",
              "6           C19  3.210055\n",
              "4           C14  3.119965\n",
              "1        app_id  2.833469\n",
              "5           C18  2.354925\n",
              "7           C20  2.176787\n",
              "3  device_model  1.906204\n",
              "0   site_domain  1.341714"
            ]
          },
          "execution_count": 135,
          "metadata": {},
          "output_type": "execute_result"
        }
      ],
      "source": [
        "X_train_enc=X_train_enc.drop(['site_id'],axis=1)\n",
        "vif_data = pd.DataFrame()\n",
        "vif_data[\"feature\"] = X_train_enc.columns\n",
        "vif_data[\"VIF\"] = [variance_inflation_factor(X_train_enc.values, i)\n",
        "                          for i in range(len(X_train_enc.columns))]\n",
        "vif_data.sort_values(by='VIF',ascending=False)"
      ]
    },
    {
      "cell_type": "code",
      "execution_count": null,
      "metadata": {
        "id": "oXeMW1EWD5rU"
      },
      "outputs": [],
      "source": [
        "X_train_enc=X_train_enc[list(vif_data.feature)]\n",
        "X_test_enc=X_test_enc[list(vif_data.feature)]\n",
        "from sklearn.preprocessing import StandardScaler\n",
        "std_scalar=StandardScaler()\n",
        "X_train_enc=std_scalar.fit_transform(X_train_enc)\n",
        "X_test_enc=std_scalar.fit_transform(X_test_enc)"
      ]
    },
    {
      "cell_type": "code",
      "execution_count": null,
      "metadata": {
        "id": "e-i_E_Yr9LPj"
      },
      "outputs": [],
      "source": [
        "\n",
        "from sklearn.linear_model import LogisticRegression\n",
        "import optuna\n",
        "import sklearn\n",
        "def objective(trial):\n",
        "    logreg_c= trial.suggest_float('logreg_c', 1e-10, 1e10, log=True)\n",
        "    model =LogisticRegression(class_weight='balanced',C=logreg_c)\n",
        "    return sklearn.model_selection.cross_val_score(model, X_train_enc, y_train, \n",
        "           n_jobs=-1, cv=3).mean()"
      ]
    },
    {
      "cell_type": "code",
      "execution_count": null,
      "metadata": {
        "colab": {
          "base_uri": "https://localhost:8080/"
        },
        "id": "-lIl6sTm-nTI",
        "outputId": "69e3f363-7146-49ce-e188-cff44322efcf"
      },
      "outputs": [
        {
          "name": "stderr",
          "output_type": "stream",
          "text": [
            "\u001b[32m[I 2022-05-19 05:29:16,290]\u001b[0m A new study created in memory with name: no-name-a1f0fcb2-315f-4bb8-9a47-d1bf6edce4d5\u001b[0m\n",
            "\u001b[32m[I 2022-05-19 05:29:16,557]\u001b[0m Trial 0 finished with value: 0.6056943670623866 and parameters: {'logreg_c': 1.1338791323060535e-05}. Best is trial 0 with value: 0.6056943670623866.\u001b[0m\n",
            "\u001b[32m[I 2022-05-19 05:29:16,863]\u001b[0m Trial 1 finished with value: 0.6578808268689553 and parameters: {'logreg_c': 992969.9902239186}. Best is trial 1 with value: 0.6578808268689553.\u001b[0m\n",
            "\u001b[32m[I 2022-05-19 05:29:17,158]\u001b[0m Trial 2 finished with value: 0.6578808268689553 and parameters: {'logreg_c': 4653212015.84486}. Best is trial 1 with value: 0.6578808268689553.\u001b[0m\n",
            "\u001b[32m[I 2022-05-19 05:29:17,403]\u001b[0m Trial 3 finished with value: 0.6198088544122059 and parameters: {'logreg_c': 5.055596808668537e-05}. Best is trial 1 with value: 0.6578808268689553.\u001b[0m\n",
            "\u001b[32m[I 2022-05-19 05:29:17,499]\u001b[0m Trial 4 finished with value: 0.5179788282689753 and parameters: {'logreg_c': 1.499842487719445e-09}. Best is trial 1 with value: 0.6578808268689553.\u001b[0m\n",
            "\u001b[32m[I 2022-05-19 05:29:17,750]\u001b[0m Trial 5 finished with value: 0.6129516135944799 and parameters: {'logreg_c': 2.5280529226344624e-05}. Best is trial 1 with value: 0.6578808268689553.\u001b[0m\n",
            "\u001b[32m[I 2022-05-19 05:29:18,056]\u001b[0m Trial 6 finished with value: 0.6578808268689552 and parameters: {'logreg_c': 0.7416137396111251}. Best is trial 1 with value: 0.6578808268689553.\u001b[0m\n",
            "\u001b[32m[I 2022-05-19 05:29:18,343]\u001b[0m Trial 7 finished with value: 0.6574665352362177 and parameters: {'logreg_c': 0.010964297064794721}. Best is trial 1 with value: 0.6578808268689553.\u001b[0m\n",
            "\u001b[32m[I 2022-05-19 05:29:18,555]\u001b[0m Trial 8 finished with value: 0.518021686024086 and parameters: {'logreg_c': 2.863233366942935e-08}. Best is trial 1 with value: 0.6578808268689553.\u001b[0m\n",
            "\u001b[32m[I 2022-05-19 05:29:18,852]\u001b[0m Trial 9 finished with value: 0.6578808268689553 and parameters: {'logreg_c': 29.602420172561086}. Best is trial 1 with value: 0.6578808268689553.\u001b[0m\n",
            "\u001b[32m[I 2022-05-19 05:29:19,155]\u001b[0m Trial 10 finished with value: 0.6578808268689553 and parameters: {'logreg_c': 885832.0803529783}. Best is trial 1 with value: 0.6578808268689553.\u001b[0m\n",
            "\u001b[32m[I 2022-05-19 05:29:19,461]\u001b[0m Trial 11 finished with value: 0.6578808268689553 and parameters: {'logreg_c': 5379033844.652811}. Best is trial 1 with value: 0.6578808268689553.\u001b[0m\n",
            "\u001b[32m[I 2022-05-19 05:29:19,757]\u001b[0m Trial 12 finished with value: 0.6578808268689553 and parameters: {'logreg_c': 8712312655.300356}. Best is trial 1 with value: 0.6578808268689553.\u001b[0m\n",
            "\u001b[32m[I 2022-05-19 05:29:20,060]\u001b[0m Trial 13 finished with value: 0.6578808268689553 and parameters: {'logreg_c': 157460.34792256093}. Best is trial 1 with value: 0.6578808268689553.\u001b[0m\n",
            "\u001b[32m[I 2022-05-19 05:29:20,366]\u001b[0m Trial 14 finished with value: 0.6578808268689553 and parameters: {'logreg_c': 1107374.5621587809}. Best is trial 1 with value: 0.6578808268689553.\u001b[0m\n",
            "\u001b[32m[I 2022-05-19 05:29:20,661]\u001b[0m Trial 15 finished with value: 0.6578808268689553 and parameters: {'logreg_c': 2124.0967094988205}. Best is trial 1 with value: 0.6578808268689553.\u001b[0m\n",
            "\u001b[32m[I 2022-05-19 05:29:20,963]\u001b[0m Trial 16 finished with value: 0.6578808268689553 and parameters: {'logreg_c': 52101487.18410436}. Best is trial 1 with value: 0.6578808268689553.\u001b[0m\n",
            "\u001b[32m[I 2022-05-19 05:29:21,171]\u001b[0m Trial 17 finished with value: 0.6578808268689553 and parameters: {'logreg_c': 27771189.75494651}. Best is trial 1 with value: 0.6578808268689553.\u001b[0m\n",
            "\u001b[32m[I 2022-05-19 05:29:21,478]\u001b[0m Trial 18 finished with value: 0.6578808268689553 and parameters: {'logreg_c': 1818.3438795028953}. Best is trial 1 with value: 0.6578808268689553.\u001b[0m\n",
            "\u001b[32m[I 2022-05-19 05:29:21,783]\u001b[0m Trial 19 finished with value: 0.6578808268689553 and parameters: {'logreg_c': 460.6990128920169}. Best is trial 1 with value: 0.6578808268689553.\u001b[0m\n",
            "\u001b[32m[I 2022-05-19 05:29:22,085]\u001b[0m Trial 20 finished with value: 0.6578808268689553 and parameters: {'logreg_c': 1.5943636126065805}. Best is trial 1 with value: 0.6578808268689553.\u001b[0m\n",
            "\u001b[32m[I 2022-05-19 05:29:22,383]\u001b[0m Trial 21 finished with value: 0.6578808268689553 and parameters: {'logreg_c': 10331.239827686743}. Best is trial 1 with value: 0.6578808268689553.\u001b[0m\n",
            "\u001b[32m[I 2022-05-19 05:29:22,680]\u001b[0m Trial 22 finished with value: 0.6578808268689553 and parameters: {'logreg_c': 299.93704837377}. Best is trial 1 with value: 0.6578808268689553.\u001b[0m\n",
            "\u001b[32m[I 2022-05-19 05:29:22,980]\u001b[0m Trial 23 finished with value: 0.6579522564608066 and parameters: {'logreg_c': 0.06467338253889364}. Best is trial 23 with value: 0.6579522564608066.\u001b[0m\n",
            "\u001b[32m[I 2022-05-19 05:29:23,284]\u001b[0m Trial 24 finished with value: 0.6579522564608066 and parameters: {'logreg_c': 0.0695467159758527}. Best is trial 23 with value: 0.6579522564608066.\u001b[0m\n"
          ]
        }
      ],
      "source": [
        "study = optuna.create_study(direction='maximize')\n",
        "study.optimize(objective, n_trials=25)"
      ]
    },
    {
      "cell_type": "code",
      "execution_count": null,
      "metadata": {
        "colab": {
          "base_uri": "https://localhost:8080/",
          "height": 867
        },
        "id": "4UB7q4Lb_H4g",
        "outputId": "14ed84f3-7dc4-4839-87e4-aa073aa07fdc"
      },
      "outputs": [
        {
          "name": "stdout",
          "output_type": "stream",
          "text": [
            "Training {'accuracy_score': 0.31219017414534495, 'f1_score': 0.3264786525656091, 'precision_score': 0.19579516091143997, 'recall_score': 0.9817432273262662}\n",
            "Testing {'accuracy_score': 0.3048666666666667, 'f1_score': 0.3214680809526908, 'precision_score': 0.19266770670826833, 'recall_score': 0.9697683549273656}\n",
            "Classification report \n",
            "              precision    recall  f1-score   support\n",
            "\n",
            "           0       0.98      0.18      0.30     58113\n",
            "           1       0.20      0.98      0.33     11886\n",
            "\n",
            "    accuracy                           0.31     69999\n",
            "   macro avg       0.59      0.58      0.31     69999\n",
            "weighted avg       0.85      0.31      0.30     69999\n",
            "\n",
            "Confusion metrics \n",
            "[[10184 47929]\n",
            " [  217 11669]]\n",
            "training roc auc 0.753710064500091\n",
            "testing roc auc 0.7156792106045469\n"
          ]
        },
        {
          "data": {
            "image/png": "[encoded data removed]",
            "text/plain": [
              "<Figure size 432x288 with 1 Axes>"
            ]
          },
          "metadata": {
            "needs_background": "light"
          },
          "output_type": "display_data"
        },
        {
          "data": {
            "image/png": "[encoded data removed]",
            "text/plain": [
              "<Figure size 432x288 with 1 Axes>"
            ]
          },
          "metadata": {
            "needs_background": "light"
          },
          "output_type": "display_data"
        }
      ],
      "source": [
        "model=LogisticRegression(class_weight='balanced',C= 0.063)\n",
        "model.fit(X_train_enc,y_train,sample_weight=class_weights)\n",
        "print('Training {}'.format(acc(X_train_enc,y_train,classifier=model)))\n",
        "print('Testing {}'.format(acc(X_test_enc,y_test,classifier=model)))\n",
        "print('Classification report \\n{}'.format(Classification_Report(X_train_enc,y_train,classifier=model)))\n",
        "print('Confusion metrics \\n{}'.format(Confusion_Matrix(X_train_enc,y_train,classifier=model)))\n",
        "#FeatureImportance(X_train_enc,fi=model.feature_importances_)\n",
        "print('training roc auc {}'.format(roc_auc(X_train_enc,y_train,classifier=model)))\n",
        "print('testing roc auc {}'.format(roc_auc(X_test_enc,y_test,classifier=model)))\n",
        "roc_plot(X_train_enc,y_train,classifier=model)\n",
        "Precision_Recall_curve(X_train_enc,y_train,classifier=model)"
      ]
    },
    {
      "cell_type": "code",
      "execution_count": null,
      "metadata": {
        "colab": {
          "base_uri": "https://localhost:8080/"
        },
        "id": "VTQ5coY3CpHs",
        "outputId": "b1cead1c-2080-4fec-ac99-0e9889d55c46"
      },
      "outputs": [
        {
          "name": "stdout",
          "output_type": "stream",
          "text": [
            "              precision    recall  f1-score   support\n",
            "\n",
            "           0       0.90      0.75      0.82     58113\n",
            "           1       0.33      0.61      0.43     11886\n",
            "\n",
            "    accuracy                           0.72     69999\n",
            "   macro avg       0.62      0.68      0.62     69999\n",
            "weighted avg       0.81      0.72      0.75     69999\n",
            "\n"
          ]
        }
      ],
      "source": [
        "print(Classification_Report_th(X_train_enc,y_train,classifier=model,th=0.86))"
      ]
    },
    {
      "cell_type": "code",
      "execution_count": null,
      "metadata": {
        "colab": {
          "base_uri": "https://localhost:8080/"
        },
        "id": "1_ccMdvyCv_C",
        "outputId": "a39b4511-ae16-480e-98df-75e82afd73bb"
      },
      "outputs": [
        {
          "name": "stdout",
          "output_type": "stream",
          "text": [
            "              precision    recall  f1-score   support\n",
            "\n",
            "           0       0.89      0.73      0.80     24906\n",
            "           1       0.30      0.56      0.39      5094\n",
            "\n",
            "    accuracy                           0.70     30000\n",
            "   macro avg       0.60      0.65      0.60     30000\n",
            "weighted avg       0.79      0.70      0.73     30000\n",
            "\n"
          ]
        }
      ],
      "source": [
        "print(Classification_Report_th(X_test_enc,y_test,classifier=model,th=0.86))"
      ]
    },
    {
      "cell_type": "code",
      "execution_count": null,
      "metadata": {
        "colab": {
          "base_uri": "https://localhost:8080/"
        },
        "id": "Reqfgw75nHyD",
        "outputId": "4a56bd7e-47fd-4ffb-dbc9-6895a0844da9"
      },
      "outputs": [
        {
          "name": "stdout",
          "output_type": "stream",
          "text": [
            "Response Rate:16.98%\n",
            "   decile  freq  act_mean  prob_mean  prob_min  prob_max  num_1  num_0  \\\n",
            "0       1  3000  0.387333   0.951368  0.922345  0.996830   1162   1838   \n",
            "1       2  3000  0.276667   0.905980  0.889975  0.922308    830   2170   \n",
            "2       3  3000  0.246667   0.876920  0.864228  0.889975    740   2260   \n",
            "3       4  3000  0.210667   0.850048  0.835057  0.864199    632   2368   \n",
            "4       5  3000  0.173333   0.816825  0.796204  0.835052    520   2480   \n",
            "5       6  3000  0.137000   0.773630  0.747754  0.796193    411   2589   \n",
            "6       7  3000  0.104667   0.716419  0.682191  0.747754    314   2686   \n",
            "7       8  3000  0.080667   0.634607  0.577847  0.682174    242   2758   \n",
            "8       9  3000  0.049667   0.506336  0.425437  0.577651    149   2851   \n",
            "9      10  3000  0.031333   0.281259  0.047770  0.425437     94   2906   \n",
            "\n",
            "    cum_1    cum_0   per_cum_1   per_cum_0  event_rate  cum_lift  capture_rate  \n",
            "0  1162.0   1838.0   22.811150    7.379748   38.733333  2.281115      0.228112  \n",
            "1  1992.0   4008.0   39.104829   16.092508   33.200000  1.955241      0.162937  \n",
            "2  2732.0   6268.0   53.631724   25.166627   30.355556  1.787724      0.145269  \n",
            "3  3364.0   8636.0   66.038477   34.674376   28.033333  1.650962      0.124068  \n",
            "4  3884.0  11116.0   76.246565   44.631816   25.893333  1.524931      0.102081  \n",
            "5  4295.0  13705.0   84.314880   55.026901   23.861111  1.405248      0.080683  \n",
            "6  4609.0  16391.0   90.478995   65.811451   21.947619  1.292557      0.061641  \n",
            "7  4851.0  19149.0   95.229682   76.885088   20.212500  1.190371      0.047507  \n",
            "8  5000.0  22000.0   98.154692   88.332129   18.518519  1.090608      0.029250  \n",
            "9  5094.0  24906.0  100.000000  100.000000   16.980000  1.000000      0.018453  \n"
          ]
        }
      ],
      "source": [
        "logistic_decile_report=decile_report_binary(X_test_enc,y_test,model,q=10)"
      ]
    },
    {
      "cell_type": "code",
      "execution_count": null,
      "metadata": {
        "colab": {
          "base_uri": "https://localhost:8080/"
        },
        "id": "ZV5ihsPgyIhn",
        "outputId": "6b5c04b7-d937-4fcf-d0f4-ab3854ff7e19"
      },
      "outputs": [
        {
          "data": {
            "text/plain": [
              "array([[18263,  6643],\n",
              "       [ 2242,  2852]])"
            ]
          },
          "execution_count": 145,
          "metadata": {},
          "output_type": "execute_result"
        }
      ],
      "source": [
        "confusion_matrix(y_test,model.predict_proba(X_test_enc)[:,1]>0.86)"
      ]
    },
    {
      "cell_type": "code",
      "execution_count": null,
      "metadata": {
        "colab": {
          "base_uri": "https://localhost:8080/"
        },
        "id": "Y6HBD6nw1sOy",
        "outputId": "16751d15-097f-4663-e00a-d532233a9b71"
      },
      "outputs": [
        {
          "data": {
            "text/plain": [
              "5094"
            ]
          },
          "execution_count": 149,
          "metadata": {},
          "output_type": "execute_result"
        }
      ],
      "source": [
        "y_test.sum()"
      ]
    },
    {
      "cell_type": "code",
      "execution_count": null,
      "metadata": {
        "colab": {
          "base_uri": "https://localhost:8080/",
          "height": 331
        },
        "id": "ZJ_Nu6AzF11C",
        "outputId": "4c496f49-c7d6-4be2-8578-c6959b73dbc9"
      },
      "outputs": [
        {
          "data": {
            "text/html": [
              "\n",
              "  <div id=\"df-d2c397c8-5923-4b03-89f6-09896c7ca6ac\">\n",
              "    <div class=\"colab-df-container\">\n",
              "      <div>\n",
              "<style scoped>\n",
              "    .dataframe tbody tr th:only-of-type {\n",
              "        vertical-align: middle;\n",
              "    }\n",
              "\n",
              "    .dataframe tbody tr th {\n",
              "        vertical-align: top;\n",
              "    }\n",
              "\n",
              "    .dataframe thead th {\n",
              "        text-align: right;\n",
              "    }\n",
              "</style>\n",
              "<table border=\"1\" class=\"dataframe\">\n",
              "  <thead>\n",
              "    <tr style=\"text-align: right;\">\n",
              "      <th></th>\n",
              "      <th>columns</th>\n",
              "      <th>coef</th>\n",
              "      <th>abs_coef</th>\n",
              "    </tr>\n",
              "  </thead>\n",
              "  <tbody>\n",
              "    <tr>\n",
              "      <th>1</th>\n",
              "      <td>app_id</td>\n",
              "      <td>0.595056</td>\n",
              "      <td>0.595056</td>\n",
              "    </tr>\n",
              "    <tr>\n",
              "      <th>0</th>\n",
              "      <td>site_domain</td>\n",
              "      <td>0.525547</td>\n",
              "      <td>0.525547</td>\n",
              "    </tr>\n",
              "    <tr>\n",
              "      <th>4</th>\n",
              "      <td>C14</td>\n",
              "      <td>0.499372</td>\n",
              "      <td>0.499372</td>\n",
              "    </tr>\n",
              "    <tr>\n",
              "      <th>3</th>\n",
              "      <td>device_model</td>\n",
              "      <td>0.483951</td>\n",
              "      <td>0.483951</td>\n",
              "    </tr>\n",
              "    <tr>\n",
              "      <th>2</th>\n",
              "      <td>app_domain</td>\n",
              "      <td>-0.430670</td>\n",
              "      <td>0.430670</td>\n",
              "    </tr>\n",
              "    <tr>\n",
              "      <th>8</th>\n",
              "      <td>C21</td>\n",
              "      <td>-0.115931</td>\n",
              "      <td>0.115931</td>\n",
              "    </tr>\n",
              "    <tr>\n",
              "      <th>5</th>\n",
              "      <td>C18</td>\n",
              "      <td>-0.076411</td>\n",
              "      <td>0.076411</td>\n",
              "    </tr>\n",
              "    <tr>\n",
              "      <th>6</th>\n",
              "      <td>C19</td>\n",
              "      <td>-0.016785</td>\n",
              "      <td>0.016785</td>\n",
              "    </tr>\n",
              "    <tr>\n",
              "      <th>7</th>\n",
              "      <td>C20</td>\n",
              "      <td>0.006222</td>\n",
              "      <td>0.006222</td>\n",
              "    </tr>\n",
              "  </tbody>\n",
              "</table>\n",
              "</div>\n",
              "      <button class=\"colab-df-convert\" onclick=\"convertToInteractive('df-d2c397c8-5923-4b03-89f6-09896c7ca6ac')\"\n",
              "              title=\"Convert this dataframe to an interactive table.\"\n",
              "              style=\"display:none;\">\n",
              "        \n",
              "  <svg xmlns=\"http://www.w3.org/2000/svg\" height=\"24px\"viewBox=\"0 0 24 24\"\n",
              "       width=\"24px\">\n",
              "    <path d=\"M0 0h24v24H0V0z\" fill=\"none\"/>\n",
              "    <path d=\"M18.56 5.44l.94 2.06.94-2.06 2.06-.94-2.06-.94-.94-2.06-.94 2.06-2.06.94zm-11 1L8.5 8.5l.94-2.06 2.06-.94-2.06-.94L8.5 2.5l-.94 2.06-2.06.94zm10 10l.94 2.06.94-2.06 2.06-.94-2.06-.94-.94-2.06-.94 2.06-2.06.94z\"/><path d=\"M17.41 7.96l-1.37-1.37c-.4-.4-.92-.59-1.43-.59-.52 0-1.04.2-1.43.59L10.3 9.45l-7.72 7.72c-.78.78-.78 2.05 0 2.83L4 21.41c.39.39.9.59 1.41.59.51 0 1.02-.2 1.41-.59l7.78-7.78 2.81-2.81c.8-.78.8-2.07 0-2.86zM5.41 20L4 18.59l7.72-7.72 1.47 1.35L5.41 20z\"/>\n",
              "  </svg>\n",
              "      </button>\n",
              "      \n",
              "  <style>\n",
              "    .colab-df-container {\n",
              "      display:flex;\n",
              "      flex-wrap:wrap;\n",
              "      gap: 12px;\n",
              "    }\n",
              "\n",
              "    .colab-df-convert {\n",
              "      background-color: #E8F0FE;\n",
              "      border: none;\n",
              "      border-radius: 50%;\n",
              "      cursor: pointer;\n",
              "      display: none;\n",
              "      fill: #1967D2;\n",
              "      height: 32px;\n",
              "      padding: 0 0 0 0;\n",
              "      width: 32px;\n",
              "    }\n",
              "\n",
              "    .colab-df-convert:hover {\n",
              "      background-color: #E2EBFA;\n",
              "      box-shadow: 0px 1px 2px rgba(60, 64, 67, 0.3), 0px 1px 3px 1px rgba(60, 64, 67, 0.15);\n",
              "      fill: #174EA6;\n",
              "    }\n",
              "\n",
              "    [theme=dark] .colab-df-convert {\n",
              "      background-color: #3B4455;\n",
              "      fill: #D2E3FC;\n",
              "    }\n",
              "\n",
              "    [theme=dark] .colab-df-convert:hover {\n",
              "      background-color: #434B5C;\n",
              "      box-shadow: 0px 1px 3px 1px rgba(0, 0, 0, 0.15);\n",
              "      filter: drop-shadow(0px 1px 2px rgba(0, 0, 0, 0.3));\n",
              "      fill: #FFFFFF;\n",
              "    }\n",
              "  </style>\n",
              "\n",
              "      <script>\n",
              "        const buttonEl =\n",
              "          document.querySelector('#df-d2c397c8-5923-4b03-89f6-09896c7ca6ac button.colab-df-convert');\n",
              "        buttonEl.style.display =\n",
              "          google.colab.kernel.accessAllowed ? 'block' : 'none';\n",
              "\n",
              "        async function convertToInteractive(key) {\n",
              "          const element = document.querySelector('#df-d2c397c8-5923-4b03-89f6-09896c7ca6ac');\n",
              "          const dataTable =\n",
              "            await google.colab.kernel.invokeFunction('convertToInteractive',\n",
              "                                                     [key], {});\n",
              "          if (!dataTable) return;\n",
              "\n",
              "          const docLinkHtml = 'Like what you see? Visit the ' +\n",
              "            '<a target=\"_blank\" href=https://colab.research.google.com/notebooks/data_table.ipynb>data table notebook</a>'\n",
              "            + ' to learn more about interactive tables.';\n",
              "          element.innerHTML = '';\n",
              "          dataTable['output_type'] = 'display_data';\n",
              "          await google.colab.output.renderOutput(dataTable, element);\n",
              "          const docLink = document.createElement('div');\n",
              "          docLink.innerHTML = docLinkHtml;\n",
              "          element.appendChild(docLink);\n",
              "        }\n",
              "      </script>\n",
              "    </div>\n",
              "  </div>\n",
              "  "
            ],
            "text/plain": [
              "        columns      coef  abs_coef\n",
              "1        app_id  0.595056  0.595056\n",
              "0   site_domain  0.525547  0.525547\n",
              "4           C14  0.499372  0.499372\n",
              "3  device_model  0.483951  0.483951\n",
              "2    app_domain -0.430670  0.430670\n",
              "8           C21 -0.115931  0.115931\n",
              "5           C18 -0.076411  0.076411\n",
              "6           C19 -0.016785  0.016785\n",
              "7           C20  0.006222  0.006222"
            ]
          },
          "execution_count": 146,
          "metadata": {},
          "output_type": "execute_result"
        }
      ],
      "source": [
        "### Feature Importance Logistic Regression\n",
        "fi=pd.DataFrame()\n",
        "fi['columns']=list(vif_data.feature)\n",
        "fi['coef']=list(model.coef_[0])\n",
        "fi['abs_coef']=abs(fi['coef'])\n",
        "fi.sort_values(by='abs_coef',ascending=False)"
      ]
    },
    {
      "cell_type": "code",
      "execution_count": null,
      "metadata": {
        "colab": {
          "base_uri": "https://localhost:8080/"
        },
        "id": "knvLmpbYWF8l",
        "outputId": "a069d7ec-44b9-4620-b4cb-07cee73bb66e"
      },
      "outputs": [
        {
          "data": {
            "text/plain": [
              "array([0.65542365, 0.65949514, 0.65893798])"
            ]
          },
          "execution_count": 88,
          "metadata": {},
          "output_type": "execute_result"
        }
      ],
      "source": [
        "### Crossvalidation score shows the model is not overfitiing\n",
        "sklearn.model_selection.cross_val_score(model,X_train_enc,y_train,cv=3)"
      ]
    },
    {
      "cell_type": "markdown",
      "metadata": {
        "id": "CIXXk-4Up9VS"
      },
      "source": [
        "## Compare which methods work best based on the evaluation metrics"
      ]
    },
    {
      "cell_type": "code",
      "execution_count": null,
      "metadata": {
        "id": "cvAlPKQBWvM7"
      },
      "outputs": [],
      "source": [
        "Logistic_Training_accuracy=acc_pd(X_train_enc,y_train,classifier=model,th=0.86,metrics='Logistic_metrics')\n",
        "Logistic_Testing_accuracy=acc_pd(X_test_enc,y_test,classifier=model,th=0.86,metrics='Logistic_metrics')"
      ]
    },
    {
      "cell_type": "code",
      "execution_count": null,
      "metadata": {
        "colab": {
          "base_uri": "https://localhost:8080/",
          "height": 175
        },
        "id": "1UlP8rvvaybV",
        "outputId": "0669c33a-230a-4956-c0ce-a631e08e95fc"
      },
      "outputs": [
        {
          "data": {
            "text/html": [
              "\n",
              "  <div id=\"df-8d48763d-514a-4fe9-abd7-6568b94da1cc\">\n",
              "    <div class=\"colab-df-container\">\n",
              "      <div>\n",
              "<style scoped>\n",
              "    .dataframe tbody tr th:only-of-type {\n",
              "        vertical-align: middle;\n",
              "    }\n",
              "\n",
              "    .dataframe tbody tr th {\n",
              "        vertical-align: top;\n",
              "    }\n",
              "\n",
              "    .dataframe thead th {\n",
              "        text-align: right;\n",
              "    }\n",
              "</style>\n",
              "<table border=\"1\" class=\"dataframe\">\n",
              "  <thead>\n",
              "    <tr style=\"text-align: right;\">\n",
              "      <th></th>\n",
              "      <th>metric</th>\n",
              "      <th>Logistic_metrics</th>\n",
              "      <th>XGB_metrics</th>\n",
              "      <th>RTF_metrics</th>\n",
              "    </tr>\n",
              "  </thead>\n",
              "  <tbody>\n",
              "    <tr>\n",
              "      <th>0</th>\n",
              "      <td>accuracy_score</td>\n",
              "      <td>0.721767</td>\n",
              "      <td>0.718163</td>\n",
              "      <td>0.778254</td>\n",
              "    </tr>\n",
              "    <tr>\n",
              "      <th>1</th>\n",
              "      <td>f1_score</td>\n",
              "      <td>0.425758</td>\n",
              "      <td>0.408689</td>\n",
              "      <td>0.439720</td>\n",
              "    </tr>\n",
              "    <tr>\n",
              "      <th>2</th>\n",
              "      <td>precision_score</td>\n",
              "      <td>0.327735</td>\n",
              "      <td>0.317430</td>\n",
              "      <td>0.385068</td>\n",
              "    </tr>\n",
              "    <tr>\n",
              "      <th>3</th>\n",
              "      <td>recall_score</td>\n",
              "      <td>0.607437</td>\n",
              "      <td>0.573592</td>\n",
              "      <td>0.512452</td>\n",
              "    </tr>\n",
              "  </tbody>\n",
              "</table>\n",
              "</div>\n",
              "      <button class=\"colab-df-convert\" onclick=\"convertToInteractive('df-8d48763d-514a-4fe9-abd7-6568b94da1cc')\"\n",
              "              title=\"Convert this dataframe to an interactive table.\"\n",
              "              style=\"display:none;\">\n",
              "        \n",
              "  <svg xmlns=\"http://www.w3.org/2000/svg\" height=\"24px\"viewBox=\"0 0 24 24\"\n",
              "       width=\"24px\">\n",
              "    <path d=\"M0 0h24v24H0V0z\" fill=\"none\"/>\n",
              "    <path d=\"M18.56 5.44l.94 2.06.94-2.06 2.06-.94-2.06-.94-.94-2.06-.94 2.06-2.06.94zm-11 1L8.5 8.5l.94-2.06 2.06-.94-2.06-.94L8.5 2.5l-.94 2.06-2.06.94zm10 10l.94 2.06.94-2.06 2.06-.94-2.06-.94-.94-2.06-.94 2.06-2.06.94z\"/><path d=\"M17.41 7.96l-1.37-1.37c-.4-.4-.92-.59-1.43-.59-.52 0-1.04.2-1.43.59L10.3 9.45l-7.72 7.72c-.78.78-.78 2.05 0 2.83L4 21.41c.39.39.9.59 1.41.59.51 0 1.02-.2 1.41-.59l7.78-7.78 2.81-2.81c.8-.78.8-2.07 0-2.86zM5.41 20L4 18.59l7.72-7.72 1.47 1.35L5.41 20z\"/>\n",
              "  </svg>\n",
              "      </button>\n",
              "      \n",
              "  <style>\n",
              "    .colab-df-container {\n",
              "      display:flex;\n",
              "      flex-wrap:wrap;\n",
              "      gap: 12px;\n",
              "    }\n",
              "\n",
              "    .colab-df-convert {\n",
              "      background-color: #E8F0FE;\n",
              "      border: none;\n",
              "      border-radius: 50%;\n",
              "      cursor: pointer;\n",
              "      display: none;\n",
              "      fill: #1967D2;\n",
              "      height: 32px;\n",
              "      padding: 0 0 0 0;\n",
              "      width: 32px;\n",
              "    }\n",
              "\n",
              "    .colab-df-convert:hover {\n",
              "      background-color: #E2EBFA;\n",
              "      box-shadow: 0px 1px 2px rgba(60, 64, 67, 0.3), 0px 1px 3px 1px rgba(60, 64, 67, 0.15);\n",
              "      fill: #174EA6;\n",
              "    }\n",
              "\n",
              "    [theme=dark] .colab-df-convert {\n",
              "      background-color: #3B4455;\n",
              "      fill: #D2E3FC;\n",
              "    }\n",
              "\n",
              "    [theme=dark] .colab-df-convert:hover {\n",
              "      background-color: #434B5C;\n",
              "      box-shadow: 0px 1px 3px 1px rgba(0, 0, 0, 0.15);\n",
              "      filter: drop-shadow(0px 1px 2px rgba(0, 0, 0, 0.3));\n",
              "      fill: #FFFFFF;\n",
              "    }\n",
              "  </style>\n",
              "\n",
              "      <script>\n",
              "        const buttonEl =\n",
              "          document.querySelector('#df-8d48763d-514a-4fe9-abd7-6568b94da1cc button.colab-df-convert');\n",
              "        buttonEl.style.display =\n",
              "          google.colab.kernel.accessAllowed ? 'block' : 'none';\n",
              "\n",
              "        async function convertToInteractive(key) {\n",
              "          const element = document.querySelector('#df-8d48763d-514a-4fe9-abd7-6568b94da1cc');\n",
              "          const dataTable =\n",
              "            await google.colab.kernel.invokeFunction('convertToInteractive',\n",
              "                                                     [key], {});\n",
              "          if (!dataTable) return;\n",
              "\n",
              "          const docLinkHtml = 'Like what you see? Visit the ' +\n",
              "            '<a target=\"_blank\" href=https://colab.research.google.com/notebooks/data_table.ipynb>data table notebook</a>'\n",
              "            + ' to learn more about interactive tables.';\n",
              "          element.innerHTML = '';\n",
              "          dataTable['output_type'] = 'display_data';\n",
              "          await google.colab.output.renderOutput(dataTable, element);\n",
              "          const docLink = document.createElement('div');\n",
              "          docLink.innerHTML = docLinkHtml;\n",
              "          element.appendChild(docLink);\n",
              "        }\n",
              "      </script>\n",
              "    </div>\n",
              "  </div>\n",
              "  "
            ],
            "text/plain": [
              "            metric  Logistic_metrics  XGB_metrics  RTF_metrics\n",
              "0   accuracy_score          0.721767     0.718163     0.778254\n",
              "1         f1_score          0.425758     0.408689     0.439720\n",
              "2  precision_score          0.327735     0.317430     0.385068\n",
              "3     recall_score          0.607437     0.573592     0.512452"
            ]
          },
          "execution_count": 120,
          "metadata": {},
          "output_type": "execute_result"
        }
      ],
      "source": [
        "Logistic_Training_accuracy.merge(XGB_Training_accuracy,on='metric').merge(RTF_Training_accuracy,on='metric')"
      ]
    },
    {
      "cell_type": "code",
      "execution_count": null,
      "metadata": {
        "colab": {
          "base_uri": "https://localhost:8080/",
          "height": 175
        },
        "id": "90nv8FLUf2kQ",
        "outputId": "d5ebfe18-c05b-4e6d-f686-b20778336655"
      },
      "outputs": [
        {
          "data": {
            "text/html": [
              "\n",
              "  <div id=\"df-c6d94f9e-fb74-4b3a-8d41-982993079e55\">\n",
              "    <div class=\"colab-df-container\">\n",
              "      <div>\n",
              "<style scoped>\n",
              "    .dataframe tbody tr th:only-of-type {\n",
              "        vertical-align: middle;\n",
              "    }\n",
              "\n",
              "    .dataframe tbody tr th {\n",
              "        vertical-align: top;\n",
              "    }\n",
              "\n",
              "    .dataframe thead th {\n",
              "        text-align: right;\n",
              "    }\n",
              "</style>\n",
              "<table border=\"1\" class=\"dataframe\">\n",
              "  <thead>\n",
              "    <tr style=\"text-align: right;\">\n",
              "      <th></th>\n",
              "      <th>metric</th>\n",
              "      <th>Logistic_metrics</th>\n",
              "      <th>XGB_metrics</th>\n",
              "      <th>RTF_metrics</th>\n",
              "    </tr>\n",
              "  </thead>\n",
              "  <tbody>\n",
              "    <tr>\n",
              "      <th>0</th>\n",
              "      <td>accuracy_score</td>\n",
              "      <td>0.703833</td>\n",
              "      <td>0.706233</td>\n",
              "      <td>0.758700</td>\n",
              "    </tr>\n",
              "    <tr>\n",
              "      <th>1</th>\n",
              "      <td>f1_score</td>\n",
              "      <td>0.390980</td>\n",
              "      <td>0.373587</td>\n",
              "      <td>0.386889</td>\n",
              "    </tr>\n",
              "    <tr>\n",
              "      <th>2</th>\n",
              "      <td>precision_score</td>\n",
              "      <td>0.300369</td>\n",
              "      <td>0.292813</td>\n",
              "      <td>0.340235</td>\n",
              "    </tr>\n",
              "    <tr>\n",
              "      <th>3</th>\n",
              "      <td>recall_score</td>\n",
              "      <td>0.559874</td>\n",
              "      <td>0.515901</td>\n",
              "      <td>0.448371</td>\n",
              "    </tr>\n",
              "  </tbody>\n",
              "</table>\n",
              "</div>\n",
              "      <button class=\"colab-df-convert\" onclick=\"convertToInteractive('df-c6d94f9e-fb74-4b3a-8d41-982993079e55')\"\n",
              "              title=\"Convert this dataframe to an interactive table.\"\n",
              "              style=\"display:none;\">\n",
              "        \n",
              "  <svg xmlns=\"http://www.w3.org/2000/svg\" height=\"24px\"viewBox=\"0 0 24 24\"\n",
              "       width=\"24px\">\n",
              "    <path d=\"M0 0h24v24H0V0z\" fill=\"none\"/>\n",
              "    <path d=\"M18.56 5.44l.94 2.06.94-2.06 2.06-.94-2.06-.94-.94-2.06-.94 2.06-2.06.94zm-11 1L8.5 8.5l.94-2.06 2.06-.94-2.06-.94L8.5 2.5l-.94 2.06-2.06.94zm10 10l.94 2.06.94-2.06 2.06-.94-2.06-.94-.94-2.06-.94 2.06-2.06.94z\"/><path d=\"M17.41 7.96l-1.37-1.37c-.4-.4-.92-.59-1.43-.59-.52 0-1.04.2-1.43.59L10.3 9.45l-7.72 7.72c-.78.78-.78 2.05 0 2.83L4 21.41c.39.39.9.59 1.41.59.51 0 1.02-.2 1.41-.59l7.78-7.78 2.81-2.81c.8-.78.8-2.07 0-2.86zM5.41 20L4 18.59l7.72-7.72 1.47 1.35L5.41 20z\"/>\n",
              "  </svg>\n",
              "      </button>\n",
              "      \n",
              "  <style>\n",
              "    .colab-df-container {\n",
              "      display:flex;\n",
              "      flex-wrap:wrap;\n",
              "      gap: 12px;\n",
              "    }\n",
              "\n",
              "    .colab-df-convert {\n",
              "      background-color: #E8F0FE;\n",
              "      border: none;\n",
              "      border-radius: 50%;\n",
              "      cursor: pointer;\n",
              "      display: none;\n",
              "      fill: #1967D2;\n",
              "      height: 32px;\n",
              "      padding: 0 0 0 0;\n",
              "      width: 32px;\n",
              "    }\n",
              "\n",
              "    .colab-df-convert:hover {\n",
              "      background-color: #E2EBFA;\n",
              "      box-shadow: 0px 1px 2px rgba(60, 64, 67, 0.3), 0px 1px 3px 1px rgba(60, 64, 67, 0.15);\n",
              "      fill: #174EA6;\n",
              "    }\n",
              "\n",
              "    [theme=dark] .colab-df-convert {\n",
              "      background-color: #3B4455;\n",
              "      fill: #D2E3FC;\n",
              "    }\n",
              "\n",
              "    [theme=dark] .colab-df-convert:hover {\n",
              "      background-color: #434B5C;\n",
              "      box-shadow: 0px 1px 3px 1px rgba(0, 0, 0, 0.15);\n",
              "      filter: drop-shadow(0px 1px 2px rgba(0, 0, 0, 0.3));\n",
              "      fill: #FFFFFF;\n",
              "    }\n",
              "  </style>\n",
              "\n",
              "      <script>\n",
              "        const buttonEl =\n",
              "          document.querySelector('#df-c6d94f9e-fb74-4b3a-8d41-982993079e55 button.colab-df-convert');\n",
              "        buttonEl.style.display =\n",
              "          google.colab.kernel.accessAllowed ? 'block' : 'none';\n",
              "\n",
              "        async function convertToInteractive(key) {\n",
              "          const element = document.querySelector('#df-c6d94f9e-fb74-4b3a-8d41-982993079e55');\n",
              "          const dataTable =\n",
              "            await google.colab.kernel.invokeFunction('convertToInteractive',\n",
              "                                                     [key], {});\n",
              "          if (!dataTable) return;\n",
              "\n",
              "          const docLinkHtml = 'Like what you see? Visit the ' +\n",
              "            '<a target=\"_blank\" href=https://colab.research.google.com/notebooks/data_table.ipynb>data table notebook</a>'\n",
              "            + ' to learn more about interactive tables.';\n",
              "          element.innerHTML = '';\n",
              "          dataTable['output_type'] = 'display_data';\n",
              "          await google.colab.output.renderOutput(dataTable, element);\n",
              "          const docLink = document.createElement('div');\n",
              "          docLink.innerHTML = docLinkHtml;\n",
              "          element.appendChild(docLink);\n",
              "        }\n",
              "      </script>\n",
              "    </div>\n",
              "  </div>\n",
              "  "
            ],
            "text/plain": [
              "            metric  Logistic_metrics  XGB_metrics  RTF_metrics\n",
              "0   accuracy_score          0.703833     0.706233     0.758700\n",
              "1         f1_score          0.390980     0.373587     0.386889\n",
              "2  precision_score          0.300369     0.292813     0.340235\n",
              "3     recall_score          0.559874     0.515901     0.448371"
            ]
          },
          "execution_count": 119,
          "metadata": {},
          "output_type": "execute_result"
        }
      ],
      "source": [
        "Logistic_Testing_accuracy.merge(XGB_Testing_accuracy,on='metric').merge(RTF_Testing_accuracy,on='metric')"
      ]
    },
    {
      "cell_type": "markdown",
      "metadata": {
        "id": "OiIrHtXOgY-a"
      },
      "source": [
        "#### As per the results logistic regression model performs the best as it has better f1-score and better recall_score even the decile report and roc auc accuracy are better comparitively\n",
        "#### Here the most important metrics for us is f1 score which balances both precision and recall \n",
        "#### as per the use case where and how the scores will be used we can change the threshold for better recall or precision \n",
        "#### But as per my understanding since we are predicting click through rate and the channel is web which is an inexpensive channel so we want to capture maximum thruth and we want high recall \n",
        "#### The decile report shows the model gives a lift of 2.2 times compared to random (dummy classifier) and the decile also holds i.e. with increase in decile cum_lift decreases and capture rate decreases\n"
      ]
    },
    {
      "cell_type": "markdown",
      "metadata": {
        "id": "XC58TFmHqhI1"
      },
      "source": [
        " # explain the risks associated with adopting the model to the business team"
      ]
    },
    {
      "cell_type": "markdown",
      "metadata": {
        "id": "MKsF6AF8sdn1"
      },
      "source": [
        "### Risk 1 : Drift in population vs the model training sample\n",
        "#### All the inferences drawn above are based on the sample data if in production the actual population distribution is different from the training sample then this model will not perform well\n",
        "#### Risk 2: The Model performs well but still there will be False positive i.e. model will predict customer will click the add but actually customer won't click the add and False negatives i.e. model will predict customer will not click the add but customer will actually click the add. So FP will lead to cost of channel as those customer are shown add but they actually dont click on add whereas FN will lead to opportunity cost i.e. model predicted customers will not click the add and were not shown the add but acctually they would have clicked it\n",
        "\n",
        "#### Here in this case we should aim to decrease the FN as much as possible \n",
        "#### we have balanced the f1 score here so that both pression and recall are high but business can take judgement how deep in decile report they need to penetrate.\n",
        "\n",
        "\n"
      ]
    },
    {
      "cell_type": "markdown",
      "metadata": {
        "id": "uAwvcnzZ0IMj"
      },
      "source": [
        "## Interpret the evaluation metric of choice "
      ]
    },
    {
      "cell_type": "markdown",
      "metadata": {
        "id": "MZUsHNSV79yW"
      },
      "source": [
        "#### the evaluation metrics of choice for us is recall score as it captures the amount of thruth model is able to capture i.e. it minimises the false negative and lowers the oportunity cost i.e. we will capture most of the customers who will click add with high recall score"
      ]
    },
    {
      "cell_type": "markdown",
      "metadata": {
        "id": "MGhM_MJc8kW8"
      },
      "source": [
        "## Explain the implications of errors made in the prediction by the model"
      ]
    },
    {
      "cell_type": "markdown",
      "metadata": {
        "id": "uqXpy55W9OJt"
      },
      "source": [
        " #### The Model performs well but still there will be False positive i.e. model will predict customer will click the add but actually customer won't click the add and False negatives i.e. model will predict customer will not click the add but customer will actually click the add. So FP will lead to cost of channel as those customer are shown add but they actually dont click on add whereas FN will lead to opportunity cost i.e. model predicted customers will not click the add and were not shown the add but acctually they would have clicked it\n",
        "Here in this case we should aim to decrease the FN as much as possible\n",
        "we have balanced the f1 score here so that both pression and recall are high but business can take judgement how deep in decile report they need to penetrate.\n",
        "\n",
        "as per the confusion metrics recall score is 56% i.e. False negative are only 2242 whereas precison score is 30% i.e. False positive are 6643"
      ]
    },
    {
      "cell_type": "markdown",
      "metadata": {
        "id": "ocGGF9NcH00b"
      },
      "source": [
        "Feature Engineering is helping to make model more robust it specially helped in increasing the f1 score and recall of the model. \n",
        "Feature Engineering i.e. feature selection is done for individual model whereas WOE encoding is done on global level"
      ]
    }
  ],
  "metadata": {
    "colab": {
      "collapsed_sections": [
        "d4ldG5oR_7LC",
        "SXoUkYigAD5D",
        "SyZ1RuFoG3zF",
        "RmYgDLuB6DMc"
      ],
      "machine_shape": "hm",
      "name": "CTR_assignment.ipynb",
      "provenance": []
    },
    "kernelspec": {
      "display_name": "Python 3",
      "name": "python3"
    },
    "language_info": {
      "name": "python"
    }
  },
  "nbformat": 4,
  "nbformat_minor": 0
}
